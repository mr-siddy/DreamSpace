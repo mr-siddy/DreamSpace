{
  "nbformat": 4,
  "nbformat_minor": 0,
  "metadata": {
    "colab": {
      "provenance": [],
      "gpuType": "T4"
    },
    "kernelspec": {
      "name": "python3",
      "display_name": "Python 3"
    },
    "language_info": {
      "name": "python"
    },
    "accelerator": "GPU"
  },
  "cells": [
    {
      "cell_type": "code",
      "source": [
        "!pip install distinctipy shapely"
      ],
      "metadata": {
        "colab": {
          "base_uri": "https://localhost:8080/"
        },
        "id": "UWhq6-8WocCQ",
        "outputId": "bfd2f47c-8088-4aa3-9c4a-ad4093c87e8f"
      },
      "execution_count": null,
      "outputs": [
        {
          "output_type": "stream",
          "name": "stdout",
          "text": [
            "Collecting distinctipy\n",
            "  Downloading distinctipy-1.3.4-py3-none-any.whl (26 kB)\n",
            "Requirement already satisfied: shapely in /usr/local/lib/python3.10/dist-packages (2.0.3)\n",
            "Requirement already satisfied: numpy>=1.16.3 in /usr/local/lib/python3.10/dist-packages (from distinctipy) (1.25.2)\n",
            "Installing collected packages: distinctipy\n",
            "Successfully installed distinctipy-1.3.4\n"
          ]
        }
      ]
    },
    {
      "cell_type": "code",
      "source": [
        "!pip install torch_geometric"
      ],
      "metadata": {
        "colab": {
          "base_uri": "https://localhost:8080/"
        },
        "id": "KFtvciu8ohwB",
        "outputId": "b62db830-3904-464b-af23-c98e1d19ec70"
      },
      "execution_count": null,
      "outputs": [
        {
          "output_type": "stream",
          "name": "stdout",
          "text": [
            "Collecting torch_geometric\n",
            "  Downloading torch_geometric-2.5.2-py3-none-any.whl (1.1 MB)\n",
            "\u001b[?25l     \u001b[90m━━━━━━━━━━━━━━━━━━━━━━━━━━━━━━━━━━━━━━━━\u001b[0m \u001b[32m0.0/1.1 MB\u001b[0m \u001b[31m?\u001b[0m eta \u001b[36m-:--:--\u001b[0m\r\u001b[2K     \u001b[91m━━━\u001b[0m\u001b[90m╺\u001b[0m\u001b[90m━━━━━━━━━━━━━━━━━━━━━━━━━━━━━━━━━━━━\u001b[0m \u001b[32m0.1/1.1 MB\u001b[0m \u001b[31m2.5 MB/s\u001b[0m eta \u001b[36m0:00:01\u001b[0m\r\u001b[2K     \u001b[91m━━━━━━━━━━━━━━━━━━━━\u001b[0m\u001b[91m╸\u001b[0m\u001b[90m━━━━━━━━━━━━━━━━━━━\u001b[0m \u001b[32m0.6/1.1 MB\u001b[0m \u001b[31m8.1 MB/s\u001b[0m eta \u001b[36m0:00:01\u001b[0m\r\u001b[2K     \u001b[90m━━━━━━━━━━━━━━━━━━━━━━━━━━━━━━━━━━━━━━━━\u001b[0m \u001b[32m1.1/1.1 MB\u001b[0m \u001b[31m11.6 MB/s\u001b[0m eta \u001b[36m0:00:00\u001b[0m\n",
            "\u001b[?25hRequirement already satisfied: tqdm in /usr/local/lib/python3.10/dist-packages (from torch_geometric) (4.66.2)\n",
            "Requirement already satisfied: numpy in /usr/local/lib/python3.10/dist-packages (from torch_geometric) (1.25.2)\n",
            "Requirement already satisfied: scipy in /usr/local/lib/python3.10/dist-packages (from torch_geometric) (1.11.4)\n",
            "Requirement already satisfied: fsspec in /usr/local/lib/python3.10/dist-packages (from torch_geometric) (2023.6.0)\n",
            "Requirement already satisfied: jinja2 in /usr/local/lib/python3.10/dist-packages (from torch_geometric) (3.1.3)\n",
            "Requirement already satisfied: aiohttp in /usr/local/lib/python3.10/dist-packages (from torch_geometric) (3.9.3)\n",
            "Requirement already satisfied: requests in /usr/local/lib/python3.10/dist-packages (from torch_geometric) (2.31.0)\n",
            "Requirement already satisfied: pyparsing in /usr/local/lib/python3.10/dist-packages (from torch_geometric) (3.1.2)\n",
            "Requirement already satisfied: scikit-learn in /usr/local/lib/python3.10/dist-packages (from torch_geometric) (1.2.2)\n",
            "Requirement already satisfied: psutil>=5.8.0 in /usr/local/lib/python3.10/dist-packages (from torch_geometric) (5.9.5)\n",
            "Requirement already satisfied: aiosignal>=1.1.2 in /usr/local/lib/python3.10/dist-packages (from aiohttp->torch_geometric) (1.3.1)\n",
            "Requirement already satisfied: attrs>=17.3.0 in /usr/local/lib/python3.10/dist-packages (from aiohttp->torch_geometric) (23.2.0)\n",
            "Requirement already satisfied: frozenlist>=1.1.1 in /usr/local/lib/python3.10/dist-packages (from aiohttp->torch_geometric) (1.4.1)\n",
            "Requirement already satisfied: multidict<7.0,>=4.5 in /usr/local/lib/python3.10/dist-packages (from aiohttp->torch_geometric) (6.0.5)\n",
            "Requirement already satisfied: yarl<2.0,>=1.0 in /usr/local/lib/python3.10/dist-packages (from aiohttp->torch_geometric) (1.9.4)\n",
            "Requirement already satisfied: async-timeout<5.0,>=4.0 in /usr/local/lib/python3.10/dist-packages (from aiohttp->torch_geometric) (4.0.3)\n",
            "Requirement already satisfied: MarkupSafe>=2.0 in /usr/local/lib/python3.10/dist-packages (from jinja2->torch_geometric) (2.1.5)\n",
            "Requirement already satisfied: charset-normalizer<4,>=2 in /usr/local/lib/python3.10/dist-packages (from requests->torch_geometric) (3.3.2)\n",
            "Requirement already satisfied: idna<4,>=2.5 in /usr/local/lib/python3.10/dist-packages (from requests->torch_geometric) (3.6)\n",
            "Requirement already satisfied: urllib3<3,>=1.21.1 in /usr/local/lib/python3.10/dist-packages (from requests->torch_geometric) (2.0.7)\n",
            "Requirement already satisfied: certifi>=2017.4.17 in /usr/local/lib/python3.10/dist-packages (from requests->torch_geometric) (2024.2.2)\n",
            "Requirement already satisfied: joblib>=1.1.1 in /usr/local/lib/python3.10/dist-packages (from scikit-learn->torch_geometric) (1.4.0)\n",
            "Requirement already satisfied: threadpoolctl>=2.0.0 in /usr/local/lib/python3.10/dist-packages (from scikit-learn->torch_geometric) (3.4.0)\n",
            "Installing collected packages: torch_geometric\n",
            "Successfully installed torch_geometric-2.5.2\n"
          ]
        }
      ]
    },
    {
      "cell_type": "code",
      "execution_count": null,
      "metadata": {
        "id": "rStNwTgFzr9z"
      },
      "outputs": [],
      "source": [
        "# for data wrangling\n",
        "import networkx as nx\n",
        "import matplotlib.pyplot as plt\n",
        "import numpy as np\n",
        "import distinctipy\n",
        "from collections import defaultdict\n",
        "\n",
        "from torch_geometric.utils import from_networkx\n",
        "import shapely\n",
        "# from shapely import Point, MultiPolygon, GeometryCollection, Polygon, ops, LineString, unary_union, intersection_all\n",
        "from shapely.geometry import Point, MultiPolygon, Point, LineString, box\n",
        "import shapely.affinity as aff\n",
        "from shapely.wkt import loads\n",
        "import geopandas as gpd"
      ]
    },
    {
      "cell_type": "code",
      "source": [
        "from shapely.ops import unary_union\n",
        "import shapely.affinity as aff\n",
        "from shapely.wkt import loads\n",
        "import geopandas as gpd"
      ],
      "metadata": {
        "id": "latZoL89rPY-"
      },
      "execution_count": null,
      "outputs": []
    },
    {
      "cell_type": "code",
      "source": [
        "room_embeddings = {\n",
        "    'living': 0,\n",
        "    'room': 1,\n",
        "    'kitchen': 2,\n",
        "    'bathroom': 3,\n",
        "    'balcony': 4\n",
        "}\n",
        "\n",
        "\n",
        "poly_types = list(room_embeddings.keys())\n",
        "N = len(poly_types)\n",
        "colors = (np.array(distinctipy.get_colors(N, pastel_factor=0.7)) * 255).astype(np.uint8)\n",
        "room_color = {room_name: colors[i] for i, room_name in enumerate(poly_types)}"
      ],
      "metadata": {
        "id": "6uUCEQpsoU4g"
      },
      "execution_count": null,
      "outputs": []
    },
    {
      "cell_type": "markdown",
      "source": [
        "## Attach User-Input -> Finetuned LLM here"
      ],
      "metadata": {
        "id": "_2yy4RbL35E2"
      }
    },
    {
      "cell_type": "code",
      "source": [],
      "metadata": {
        "id": "1iPXVbQN3_S6"
      },
      "execution_count": null,
      "outputs": []
    },
    {
      "cell_type": "markdown",
      "source": [
        "## Graph to Floor Generation (GNN based model that is more reliable than Stable Diffusion)"
      ],
      "metadata": {
        "id": "yt15g_Zs4Avu"
      }
    },
    {
      "cell_type": "code",
      "source": [
        "boundary_wkt = \"POLYGON ((25.599999999999994 63.28319999999999, 230.4 63.28319999999999, 230.4 115.71199999999999, 205.82399999999998 115.71199999999999, 205.82399999999998 192.7168, 25.599999999999994 192.7168, 25.599999999999994 63.28319999999999))\"\n",
        "\n",
        "front_door_wkt = \"POLYGON ((208.3342940100098 186.32118969813726, 208.3342940100098 171.7716103018627, 205.82399999999998 171.7716103018627, 205.82399999999998 186.32118969813726, 208.3342940100098 186.32118969813726))\"\n",
        "\n",
        "room_centroids  = [(60, 94), (62, 160)]\n",
        "bathroom_centroids = [(108, 82)]\n",
        "kitchen_centroids = [(209, 88)]\n",
        "\n",
        "flip = False"
      ],
      "metadata": {
        "id": "KM9s3fuqoy2f"
      },
      "execution_count": null,
      "outputs": []
    },
    {
      "cell_type": "code",
      "source": [
        "# Getting the boundary & front door as shapely polygons\n",
        "from shapely import wkt\n",
        "boundary_wkt = \"POLYGON ((25.599999999999994 63.28319999999999, 230.4 63.28319999999999, 230.4 115.71199999999999, 205.82399999999998 115.71199999999999, 205.82399999999998 192.7168, 25.599999999999994 192.7168, 25.599999999999994 63.28319999999999))\"\n",
        "\n",
        "front_door_wkt = \"POLYGON ((208.3342940100098 186.32118969813726, 208.3342940100098 171.7716103018627, 205.82399999999998 171.7716103018627, 205.82399999999998 186.32118969813726, 208.3342940100098 186.32118969813726))\"\n",
        "\n",
        "boundary = wkt.loads(boundary_wkt)\n",
        "front_door = wkt.loads(front_door_wkt)\n",
        "\n",
        "# Flipping the y axis of all data as it comes flipped from the first model.\n",
        "if flip == True:\n",
        "    boundary   = scale(boundary)\n",
        "    front_door = scale(front_door)\n",
        "    room_centroids = [scale(x) for x in room_centroids]\n",
        "    bathroom_centroids = [scale(x) for x in bathroom_centroids]\n",
        "    kitchen_centroids = [scale(x) for x in kitchen_centroids]"
      ],
      "metadata": {
        "id": "spuY8bPto1Ol"
      },
      "execution_count": null,
      "outputs": []
    },
    {
      "cell_type": "code",
      "source": [
        "color_palette = {\n",
        "    'living': '#6495ED',  # Cornflower Blue\n",
        "    'room': '#F4A460',    # Sandy Brown\n",
        "    'bathroom': '#2E8B57',# Sea Green\n",
        "    'kitchen': '#D2691E', # Chocolate\n",
        "    'door': '#CD853F'     # Door color\n",
        "}"
      ],
      "metadata": {
        "id": "6GHSIFSgDwcb"
      },
      "execution_count": null,
      "outputs": []
    },
    {
      "cell_type": "code",
      "source": [
        "def Handling_dubplicated_nodes(boundary, door):\n",
        "\n",
        "    coords = boundary.exterior.coords[:]\n",
        "\n",
        "    # creating points:\n",
        "    points = []\n",
        "    for p in coords:\n",
        "        points.append(Point(p))\n",
        "\n",
        "    graph = nx.Graph()\n",
        "    # type of the node: 0 for boundary, 1 for front_door\n",
        "    graph.add_node(0, type=0, centroid=coords[0])\n",
        "\n",
        "    # to save the index if there is a node will not be added\n",
        "    current = 0\n",
        "    name = 1\n",
        "\n",
        "    for i in range(1, len(coords)):\n",
        "        dis = points[i].distance(points[current])\n",
        "        if dis >= 5:\n",
        "            # type of the node, edge = 0, front_door = 1\n",
        "            graph.add_node(name, type=0, centroid=coords[i])\n",
        "            current = i\n",
        "            name += 1\n",
        "\n",
        "    # Checking the distance between first and last node [if the distance is small, so we will consider them the same point]\n",
        "    nodes_names = list(graph.nodes)\n",
        "    first_node = Point(graph.nodes[nodes_names[0]]['centroid'])\n",
        "    last_node  = Point(graph.nodes[nodes_names[-1]]['centroid'])\n",
        "    if first_node.distance(last_node) <= 5:\n",
        "        graph.remove_node(nodes_names[-1])\n",
        "        nodes_names = list(graph.nodes)\n",
        "\n",
        "    points_of_current_graph = []\n",
        "    for node in graph:\n",
        "        points_of_current_graph.append(Point(graph.nodes[node]['centroid']))\n",
        "\n",
        "    # Adding edges between nodes.\n",
        "    for i in range(len(nodes_names)-1):\n",
        "        dis = points_of_current_graph[i].distance(points_of_current_graph[i+1])\n",
        "        graph.add_edge(nodes_names[i],nodes_names[i+1], distance=dis)\n",
        "\n",
        "    # Adding an edge between the last and the first nodes.\n",
        "    dis = points_of_current_graph[nodes_names[0]].distance(points_of_current_graph[nodes_names[-1]])\n",
        "\n",
        "    graph.add_edge(nodes_names[0], nodes_names[-1], distance=dis)\n",
        "\n",
        "    # adding the front door\n",
        "    graph = adding_door(graph, door, points_of_current_graph)\n",
        "\n",
        "    return graph\n",
        "\n",
        "def adding_door(boundary_graph, door, points):\n",
        "    \"\"\"\n",
        "    This function is used to add the front door to the boundary graph.\n",
        "    Input:\n",
        "        boundary graph: graph of the boundary of the floor plan.\n",
        "        door: front door as polygon.\n",
        "        points: list of the points of the boundary graph. to use it to detect best place for the door.\n",
        "    \"\"\"\n",
        "    nearest_edge = None\n",
        "    nearest_dist = float('inf')\n",
        "\n",
        "    dx = door.bounds[2] - door.bounds[0]\n",
        "    dy = door.bounds[3] - door.bounds[1]\n",
        "    door_oriantation_horizontal = dx > dy\n",
        "\n",
        "    for edge in boundary_graph.edges():\n",
        "        p1 = points[edge[0]]\n",
        "        p2 = points[edge[1]]\n",
        "\n",
        "        line = LineString([p1, p2])\n",
        "\n",
        "        # checking the oriantation of the lines.\n",
        "        p1x, p1y = p1.x, p1.y\n",
        "        p2x, p2y = p2.x, p2.y\n",
        "        dx = abs(p2x - p1x)\n",
        "        dy = abs(p2y - p1y)\n",
        "        line_oriantation_horizontal = dx > dy\n",
        "\n",
        "        # print(f'edge: {edge}, line is: {line_oriantation_horizontal}, door is: {door_oriantation_horizontal}')\n",
        "        if door_oriantation_horizontal == line_oriantation_horizontal:\n",
        "            # getting nearest - with same oriantation - edge\n",
        "            dist = door.distance(line)\n",
        "            if dist < nearest_dist:\n",
        "                nearest_dist = dist\n",
        "                nearest_edge = edge\n",
        "\n",
        "    # print(f'nearest is: {nearest_edge}')\n",
        "    boundary_graph.remove_edge(*nearest_edge)\n",
        "\n",
        "    door_ind = len(boundary_graph)\n",
        "    door_centroid = door.centroid\n",
        "    boundary_graph.add_node(door_ind, type=1, centroid=(door_centroid.x, door_centroid.y))\n",
        "\n",
        "    dist = door_centroid.distance(Point(boundary_graph.nodes[nearest_edge[0]]['centroid']))\n",
        "    boundary_graph.add_edge(nearest_edge[0], door_ind, distance=dist)\n",
        "\n",
        "    dist = door_centroid.distance(Point(boundary_graph.nodes[nearest_edge[1]]['centroid']))\n",
        "    boundary_graph.add_edge(nearest_edge[1], door_ind, distance=dist)\n",
        "\n",
        "    return boundary_graph\n",
        "\n",
        "def centroids_to_graph(floor_plan, living_to_all=False, all_conected=False):\n",
        "    \"\"\"\n",
        "    Generating a graph for a specific floor plan\n",
        "\n",
        "    Input:\n",
        "        floor_plan: a dictionary [key: type of room, value: list of centroids]\n",
        "        living_to_all: boolean, if True, we will connect all rooms to the living room.\n",
        "        all_conected: boolean, if True, we will connect all rooms to each other.\n",
        "\n",
        "    Output:\n",
        "        G: a networkx graph represents the floor plan.\n",
        "    \"\"\"\n",
        "    # Creating new graph\n",
        "    G = nx.Graph()\n",
        "\n",
        "    # Embeding each room in a node.\n",
        "    for type_, list_of_centroids in floor_plan.items():\n",
        "        for i, centroid in enumerate(list_of_centroids):\n",
        "\n",
        "            currentNodeName = f'{type_}_{i}'\n",
        "            G.add_node(currentNodeName,\n",
        "                roomType_name = type_,\n",
        "                roomType_embd = room_embeddings[type_],\n",
        "                actualCentroid_x = centroid[0],\n",
        "                actualCentroid_y = centroid[1])\n",
        "\n",
        "\n",
        "    # if we need to connect all nodes to the living\n",
        "    if living_to_all:\n",
        "        living_cen = Point(G.nodes['living_0']['actualCentroid_x'], G.nodes['living_0']['actualCentroid_y'])\n",
        "        for node in G.nodes():\n",
        "                if G.nodes[node]['roomType_name'] != 'living':\n",
        "                    point = Point(G.nodes[node]['actualCentroid_x'], G.nodes[node]['actualCentroid_y'])\n",
        "                    dis = living_cen.distance(point)\n",
        "                    # adding edges between the living and all geoms\n",
        "                    G.add_edge('living_0', node, distance=round(dis, 3))\n",
        "\n",
        "    # if we need to connect all nodes to each others\n",
        "    if all_conected:\n",
        "        for node in G.nodes():\n",
        "            current_node_centeroid = Point(G.nodes[node]['actualCentroid_x'], G.nodes[node]['actualCentroid_y'])\n",
        "\n",
        "            for other_node in G.nodes():\n",
        "                if other_node != node: # for all other rooms\n",
        "                    other_node_centeroid = Point(G.nodes[other_node]['actualCentroid_x'], G.nodes[other_node]['actualCentroid_y'])\n",
        "\n",
        "                    dis = current_node_centeroid.distance(other_node_centeroid)\n",
        "                    # adding edges between the the current node and the other nodes\n",
        "                    G.add_edge(node, other_node, distance=round(dis, 3))\n",
        "\n",
        "    return G\n",
        "\n",
        "def boundary_to_image(boundary_wkt, front_door_wkt):\n",
        "    boundary = shapely.wkt.loads(boundary_wkt)\n",
        "    front_door = shapely.wkt.loads(front_door_wkt)\n",
        "\n",
        "    gpd.GeoSeries([boundary, front_door]).plot(cmap='tab10');\n",
        "    plt.xlim(0, 256);\n",
        "    plt.ylim(0, 256);\n",
        "    plt.axis('off');\n",
        "\n",
        "    plt.savefig('./Outputs//boundary.png')\n",
        "    plt.close()\n",
        "\n",
        "def get_user_inputs_as_image(boundary, front_door, room_centroids, bathroom_centroids, kitchen_centroids):\n",
        "    polys = defaultdict(list)\n",
        "\n",
        "    for center in room_centroids:\n",
        "        polys['room'].append(Point(center))\n",
        "\n",
        "    for center in bathroom_centroids:\n",
        "        polys['bathroom'].append(Point(center))\n",
        "\n",
        "    for center in kitchen_centroids:\n",
        "        polys['kitchen'].append(Point(center))\n",
        "\n",
        "    Input_format = []\n",
        "    Input_format.append(boundary)\n",
        "    Input_format.append(front_door)\n",
        "\n",
        "    for _, poly_list in polys.items():\n",
        "        Input_format.append(unary_union(poly_list))\n",
        "\n",
        "    Input_format = gpd.GeoSeries(Input_format)\n",
        "    Input_format.plot(cmap='twilight', alpha=0.8, linewidth=0.8, edgecolor='black');\n",
        "\n",
        "    plt.xlim(0, 256);\n",
        "    plt.ylim(0, 256);\n",
        "\n",
        "def draw_graph(G):\n",
        "    pos = {node: (G.nodes[node]['actualCentroid_x'], G.nodes[node]['actualCentroid_y']) for node in G.nodes}\n",
        "\n",
        "    colormap = [room_color[G.nodes[node]['roomType_name']]/255 for node in G]\n",
        "\n",
        "    nx.draw(G, pos=pos, node_color=colormap, with_labels=True, font_size=12)\n",
        "\n",
        "    # plt.xlim(-10, 266)\n",
        "    # plt.ylim(-266, 10)\n",
        "\n",
        "def draw_graph_boundary(G):\n",
        "    \"\"\"\n",
        "    This function is used to draw the graph of the boundary of the floor plan.\n",
        "    \"\"\"\n",
        "\n",
        "    #  nodes positions for drawing, note that we invert the y pos\n",
        "    pos = {node: (G.nodes[node]['centroid'][0], G.nodes[node]['centroid'][1])  for node in G.nodes}\n",
        "\n",
        "    door_color = '#90EE90'\n",
        "    other_nodes_color = '#0A2A5B'\n",
        "    color_map = [door_color if G.nodes[node]['type'] == 1 else other_nodes_color for node in G.nodes]\n",
        "\n",
        "    nx.draw(G, pos=pos, with_labels=True, node_color=color_map, font_color='w', font_size=12)\n",
        "\n",
        "    # plt.xlim(-10, 266)\n",
        "    # plt.ylim(-266, 10)\n",
        "\n",
        "def draw_both_graphs(boundary_graph, entire_graph, file_path):\n",
        "    # Create a new figure\n",
        "    plt.figure()\n",
        "\n",
        "    # Draw the boundary graph in blue color\n",
        "    # nx.draw(boundary_graph, with_labels=True, node_color='blue', alpha=0.7)\n",
        "    draw_graph_boundary(boundary_graph)\n",
        "    draw_graph(entire_graph)\n",
        "\n",
        "    # Draw the entire graph in red color\n",
        "    # nx.draw(entire_graph, with_labels=True, node_color='red', alpha=0.7)\n",
        "\n",
        "    # Save the figure as an image\n",
        "    plt.savefig(file_path)\n",
        "    plt.close()  # Close the figure to free up resources\n",
        "\n",
        "def scale(x):\n",
        "    if isinstance(x, tuple):\n",
        "        x = Point(*x)\n",
        "\n",
        "    return aff.scale(x, xfact=1, yfact=-1, origin=(128, 128))"
      ],
      "metadata": {
        "id": "n43fbhRyosQG"
      },
      "execution_count": null,
      "outputs": []
    },
    {
      "cell_type": "code",
      "source": [
        "boundary | front_door"
      ],
      "metadata": {
        "colab": {
          "base_uri": "https://localhost:8080/",
          "height": 168
        },
        "id": "Ll8lSt1eo63l",
        "outputId": "70d5a8b7-b5ff-47f7-ad7f-4763599884c2"
      },
      "execution_count": null,
      "outputs": [
        {
          "output_type": "execute_result",
          "data": {
            "text/plain": [
              "<POLYGON ((205.824 115.712, 230.4 115.712, 230.4 63.283, 25.6 63.283, 25.6 1...>"
            ],
            "image/svg+xml": "<svg xmlns=\"http://www.w3.org/2000/svg\" xmlns:xlink=\"http://www.w3.org/1999/xlink\" width=\"221.18400000000003\" height=\"145.81760000000003\" viewBox=\"17.407999999999994 55.091199999999986 221.18400000000003 145.81760000000003\" preserveAspectRatio=\"xMinYMin meet\"><g transform=\"matrix(1,0,0,-1,0,256.0)\"><path fill-rule=\"evenodd\" fill=\"#66cc99\" stroke=\"#555555\" stroke-width=\"2.0\" opacity=\"0.6\" d=\"M 205.82399999999998,115.71199999999999 L 230.4,115.71199999999999 L 230.4,63.28319999999999 L 25.599999999999994,63.28319999999999 L 25.599999999999994,192.7168 L 205.82399999999998,192.7168 L 205.82399999999998,186.32118969813726 L 208.3342940100098,186.32118969813726 L 208.3342940100098,171.7716103018627 L 205.82399999999998,171.7716103018627 L 205.82399999999998,115.71199999999999 z\" /></g></svg>"
          },
          "metadata": {},
          "execution_count": 11
        }
      ]
    },
    {
      "cell_type": "code",
      "source": [
        "boundary_wkt_1 =  \"POLYGON ((0 0, 200 0, 200 100.00001, 100 100, 99.99999 200, 0 199.99999, 0 0))\"\n",
        "front_door_wkt_1 = \"POLYGON ((89.99999 89.99999, 109.99999 90, 110 100.00001, 90.00001 99.99999, 89.99999 89.99999))\"\n",
        "\n",
        "boundary = wkt.loads(boundary_wkt_1)\n",
        "front_door = wkt.loads(front_door_wkt_1)\n",
        "\n",
        "# Flipping the y axis of all data as it comes flipped from the first model.\n",
        "if flip == True:\n",
        "    boundary   = scale(boundary)\n",
        "    front_door = scale(front_door)\n",
        "    room_centroids = [scale(x) for x in room_centroids]\n",
        "    bathroom_centroids = [scale(x) for x in bathroom_centroids]\n",
        "    kitchen_centroids = [scale(x) for x in kitchen_centroids]\n",
        "\n",
        "boundary"
      ],
      "metadata": {
        "colab": {
          "base_uri": "https://localhost:8080/",
          "height": 237
        },
        "id": "agGPPVD2qRDh",
        "outputId": "3b51a69d-6b3c-4d46-a1dc-6effc7ec3d08"
      },
      "execution_count": null,
      "outputs": [
        {
          "output_type": "execute_result",
          "data": {
            "text/plain": [
              "<POLYGON ((0 0, 200 0, 200 100, 100 100, 100 200, 0 200, 0 0))>"
            ],
            "image/svg+xml": "<svg xmlns=\"http://www.w3.org/2000/svg\" xmlns:xlink=\"http://www.w3.org/1999/xlink\" width=\"216.0\" height=\"216.0\" viewBox=\"-8.0 -8.0 216.0 216.0\" preserveAspectRatio=\"xMinYMin meet\"><g transform=\"matrix(1,0,0,-1,0,200.0)\"><path fill-rule=\"evenodd\" fill=\"#66cc99\" stroke=\"#555555\" stroke-width=\"2.0\" opacity=\"0.6\" d=\"M 0.0,0.0 L 200.0,0.0 L 200.0,100.00001 L 100.0,100.0 L 99.99999,200.0 L 0.0,199.99999 L 0.0,0.0 z\" /></g></svg>"
          },
          "metadata": {},
          "execution_count": 21
        }
      ]
    },
    {
      "cell_type": "code",
      "source": [
        "get_user_inputs_as_image(boundary, front_door, room_centroids, bathroom_centroids, kitchen_centroids)\n"
      ],
      "metadata": {
        "colab": {
          "base_uri": "https://localhost:8080/",
          "height": 430
        },
        "id": "P4B3Y2zeqwtl",
        "outputId": "90218964-50e7-4e58-eac8-a591f7fe0a26"
      },
      "execution_count": null,
      "outputs": [
        {
          "output_type": "display_data",
          "data": {
            "text/plain": [
              "<Figure size 640x480 with 1 Axes>"
            ],
            "image/png": "[encoded data removed]"
          },
          "metadata": {}
        }
      ]
    },
    {
      "cell_type": "code",
      "source": [
        "if flip == True:\n",
        "    room_centroids = [x.coords[0] for x in room_centroids]\n",
        "    bathroom_centroids = [x.coords[0] for x in bathroom_centroids]\n",
        "    kitchen_centroids = [x.coords[0] for x in kitchen_centroids]"
      ],
      "metadata": {
        "id": "RkYffPKRrJ4E"
      },
      "execution_count": null,
      "outputs": []
    },
    {
      "cell_type": "code",
      "source": [
        "living_centroid    = [(boundary.centroid.x, boundary.centroid.y)]\n"
      ],
      "metadata": {
        "id": "37xOu6ImrqD0"
      },
      "execution_count": null,
      "outputs": []
    },
    {
      "cell_type": "code",
      "source": [
        "user_constraints = {\n",
        "    'living': living_centroid,\n",
        "    'room': room_centroids,\n",
        "    'bathroom': bathroom_centroids,\n",
        "    'kitchen': kitchen_centroids\n",
        "}\n",
        "\n",
        "G = centroids_to_graph(user_constraints, living_to_all=True)\n",
        "boundary_graph = Handling_dubplicated_nodes(boundary, front_door)\n",
        "\n",
        "# The final graph of the floor plan\n",
        "draw_both_graphs(boundary_graph, G, '/content/drive/MyDrive/GAT-Net_model/Outputs/Graphs.png')"
      ],
      "metadata": {
        "id": "7yvbCopTrtEE"
      },
      "execution_count": null,
      "outputs": []
    },
    {
      "cell_type": "code",
      "source": [
        "# Boundary graph\n",
        "B_pytorch = from_networkx(boundary_graph, group_node_attrs=['type', 'centroid'], group_edge_attrs=['distance'])\n",
        "\n",
        "# Floor plan graph\n",
        "features = ['roomType_embd', 'actualCentroid_x', 'actualCentroid_y']\n",
        "G_pytorch = from_networkx(G, group_edge_attrs=['distance'], group_node_attrs=features)"
      ],
      "metadata": {
        "id": "n4c4e395rw5E"
      },
      "execution_count": null,
      "outputs": []
    },
    {
      "cell_type": "code",
      "source": [
        "mean_x = G_pytorch.x[:, 1].mean().item()\n",
        "mean_y = G_pytorch.x[:, 2].mean().item()\n",
        "\n",
        "std_x = G_pytorch.x[:, 1].std().item()\n",
        "std_y = G_pytorch.x[:, 2].std().item()"
      ],
      "metadata": {
        "id": "E80O8b5arzcQ"
      },
      "execution_count": null,
      "outputs": []
    },
    {
      "cell_type": "code",
      "source": [
        "import torch\n",
        "import torch.nn.functional as F\n",
        "for i in [1, 2]:\n",
        "    if i == 1:\n",
        "        G_pytorch.x[:, i] = (G_pytorch.x[:, i] - mean_x) / std_x\n",
        "    elif i == 2:\n",
        "        G_pytorch.x[:, i] = (G_pytorch.x[:, i] - mean_y) / std_y\n",
        "\n",
        "print(G_pytorch.x)\n",
        "first_column_encodings = F.one_hot(G_pytorch.x[:, 0].long(), num_classes=7).to(torch.float)\n",
        "G_pytorch.x = torch.cat([first_column_encodings, G_pytorch.x[:, 1:]], dim=1)"
      ],
      "metadata": {
        "colab": {
          "base_uri": "https://localhost:8080/"
        },
        "id": "WJINZNrur0gs",
        "outputId": "1d207260-8830-4a69-9553-99a29e0ccd6e"
      },
      "execution_count": null,
      "outputs": [
        {
          "output_type": "stream",
          "name": "stdout",
          "text": [
            "tensor([[ 0.0000,  0.1494,  0.4888],\n",
            "        [ 1.0000, -0.8577, -0.4891],\n",
            "        [ 1.0000, -0.8247,  1.5287],\n",
            "        [ 3.0000, -0.0662, -0.8559],\n",
            "        [ 2.0000,  1.5992, -0.6725]], dtype=torch.float64)\n"
          ]
        }
      ]
    },
    {
      "cell_type": "code",
      "source": [
        "mean_bou_x = B_pytorch.x[:, 1].mean().item()\n",
        "mean_bou_y = B_pytorch.x[:, 2].mean().item()\n",
        "\n",
        "std_bou_x = B_pytorch.x[:, 1].std().item()\n",
        "std_bou_y = B_pytorch.x[:, 2].std().item()"
      ],
      "metadata": {
        "id": "lIjKpYRcr2YM"
      },
      "execution_count": null,
      "outputs": []
    },
    {
      "cell_type": "code",
      "source": [
        "import torch\n",
        "import torch.nn.functional as F\n",
        "for i in [1, 2]:\n",
        "    if i == 1:\n",
        "        B_pytorch.x[:, i] = (B_pytorch.x[:, i] - mean_bou_x) / std_bou_x\n",
        "    elif i == 2:\n",
        "        B_pytorch.x[:, i] = (B_pytorch.x[:, i] - mean_bou_y) / std_bou_y\n",
        "\n",
        "B_pytorch.x"
      ],
      "metadata": {
        "colab": {
          "base_uri": "https://localhost:8080/"
        },
        "id": "yBJackDAr4S0",
        "outputId": "de97c422-0b6c-4818-941c-1d1193fee0a8"
      },
      "execution_count": null,
      "outputs": [
        {
          "output_type": "execute_result",
          "data": {
            "text/plain": [
              "tensor([[ 0.0000, -1.4540, -1.1997],\n",
              "        [ 0.0000,  0.7367, -1.1997],\n",
              "        [ 0.0000,  0.7367, -0.2814],\n",
              "        [ 0.0000,  0.4738, -0.2814],\n",
              "        [ 0.0000,  0.4738,  1.0672],\n",
              "        [ 0.0000, -1.4540,  1.0672],\n",
              "        [ 1.0000,  0.4872,  0.8278]], dtype=torch.float64)"
            ]
          },
          "metadata": {},
          "execution_count": 20
        }
      ]
    },
    {
      "cell_type": "code",
      "source": [
        "import torch\n",
        "import torch.nn as nn\n",
        "from torch_geometric.nn import GATConv\n",
        "\n",
        "class GATNet(torch.nn.Module):\n",
        "    def __init__(self, num_graph_node_features, num_boundary_node_features):\n",
        "        super(GATNet, self).__init__()\n",
        "\n",
        "        self.graph_conv1 = GATConv(num_graph_node_features, 32, heads=4)\n",
        "\n",
        "        input_of_conv2   = num_graph_node_features + 32*4\n",
        "        self.graph_conv2 = GATConv(input_of_conv2, 32, heads=8)\n",
        "\n",
        "        input_of_conv3   = num_graph_node_features + 32*8\n",
        "        self.graph_conv3 = GATConv(input_of_conv3, 64, heads=8)\n",
        "\n",
        "        input_of_conv4   = num_graph_node_features + 64*8\n",
        "        self.graph_conv4 = GATConv(input_of_conv4, 128, heads=8)\n",
        "\n",
        "        shape_of_graphs_befor_concatination = num_graph_node_features + 128*8\n",
        "\n",
        "        self.boundary_conv1 = GATConv(num_boundary_node_features, 32, heads=4)\n",
        "        input_of_boundary_conv2 = 32*4 + num_boundary_node_features\n",
        "        self.boundary_conv2 = GATConv(input_of_boundary_conv2, 32, heads=8)\n",
        "\n",
        "        shape_of_boundary_befor_concatination = num_boundary_node_features + 32 * 8\n",
        "\n",
        "        # Output of graph_conv8 + output of boundary_conv5 + 2 step connection from real nodes and boundary nodes\n",
        "        inputs_concatination = shape_of_graphs_befor_concatination + shape_of_boundary_befor_concatination\n",
        "        self.Concatination1  = GATConv(inputs_concatination, 128, heads=8)\n",
        "\n",
        "        self.width_layer1  = nn.Linear(128*8, 128)\n",
        "        self.height_layer1 = nn.Linear(128*8, 128)\n",
        "\n",
        "        self.width_output  = nn.Linear(128, 1)\n",
        "        self.height_output = nn.Linear(128, 1)\n",
        "\n",
        "        self.dropout = torch.nn.Dropout(0.2)\n",
        "\n",
        "    def forward(self, graph, boundary):\n",
        "        x_graph, g_edge_index, g_edge_attr, g_batch = graph.x.to(torch.float32), graph.edge_index, graph.edge_attr, graph.batch\n",
        "        x_boundary, b_edge_indexy, b_edge_attr, b_batch = boundary.x.to(torch.float32), boundary.edge_index, boundary.edge_attr, boundary.batch\n",
        "\n",
        "        NUM_OF_NODES = x_graph.shape[0]\n",
        "        if g_batch == None:\n",
        "            g_batch = torch.zeros(x_graph.shape[0], dtype=torch.long)\n",
        "        if b_batch == None:\n",
        "            b_batch = torch.zeros(x_boundary.shape[0], dtype=torch.long)\n",
        "\n",
        "\n",
        "        x_graph_res = x_graph\n",
        "        x_boundary_res = x_boundary\n",
        "\n",
        "        x_graph = F.leaky_relu(self.graph_conv1(x_graph, g_edge_index, g_edge_attr))\n",
        "        x_graph = self.dropout(x_graph)\n",
        "        x_graph = torch.cat([x_graph, x_graph_res], dim=1)\n",
        "\n",
        "\n",
        "        x_graph = F.leaky_relu(self.graph_conv2(x_graph, g_edge_index, g_edge_attr))\n",
        "        x_graph = self.dropout(x_graph)\n",
        "        x_graph = torch.cat([x_graph, x_graph_res], dim=1)\n",
        "\n",
        "        x_graph = F.leaky_relu(self.graph_conv3(x_graph, g_edge_index))\n",
        "        x_graph = self.dropout(x_graph)\n",
        "        x_graph = torch.cat([x_graph, x_graph_res], dim=1)\n",
        "\n",
        "        x_graph = F.leaky_relu(self.graph_conv4(x_graph, g_edge_index))\n",
        "        x_graph = self.dropout(x_graph)\n",
        "        x_graph = torch.cat([x_graph, x_graph_res], dim=1)\n",
        "\n",
        "\n",
        "        x_boundary = F.leaky_relu(self.boundary_conv1(x_boundary, b_edge_indexy, b_edge_attr))\n",
        "        x_boundary = self.dropout(x_boundary)\n",
        "        x_boundary = torch.cat([x_boundary, x_boundary_res], dim=1)\n",
        "\n",
        "        x_boundary = F.leaky_relu(self.boundary_conv2(x_boundary, b_edge_indexy, b_edge_attr))\n",
        "        x_boundary = self.dropout(x_boundary)\n",
        "        x_boundary = torch.cat([x_boundary, x_boundary_res], dim=1)\n",
        "\n",
        "        x_boundary_pooled = F.max_pool1d(x_boundary.transpose(0, 1), kernel_size=x_boundary.shape[0]).view(1, -1)\n",
        "\n",
        "        x = torch.cat([x_graph, x_boundary_pooled.repeat(NUM_OF_NODES, 1)], dim=1)\n",
        "        x = F.leaky_relu(self.Concatination1(x, g_edge_index))\n",
        "        x = self.dropout(x)\n",
        "\n",
        "\n",
        "        width = F.leaky_relu(self.width_layer1(x))\n",
        "        width = self.dropout(width)\n",
        "        width = self.width_output(width)\n",
        "\n",
        "        height = F.leaky_relu(self.height_layer1(x))\n",
        "        height = self.dropout(height)\n",
        "        height = self.height_output(height)\n",
        "\n",
        "        return width.squeeze(), height.squeeze()\n",
        "\n",
        "num_graph_node_features = G_pytorch.x.shape[1]\n",
        "num_boundary_node_features = B_pytorch.x.shape[1]\n",
        "\n",
        "model = GATNet(num_graph_node_features, num_boundary_node_features)\n",
        "\n",
        "device = torch.device('cuda' if torch.cuda.is_available() else 'cpu')\n",
        "model = model.to(device)"
      ],
      "metadata": {
        "id": "mU9yY5o9r5YM"
      },
      "execution_count": null,
      "outputs": []
    },
    {
      "cell_type": "code",
      "source": [
        "model"
      ],
      "metadata": {
        "colab": {
          "base_uri": "https://localhost:8080/"
        },
        "id": "0gt42dX9smDw",
        "outputId": "fb9b0061-9710-45b5-b947-be299910eb7f"
      },
      "execution_count": null,
      "outputs": [
        {
          "output_type": "execute_result",
          "data": {
            "text/plain": [
              "GATNet(\n",
              "  (graph_conv1): GATConv(9, 32, heads=4)\n",
              "  (graph_conv2): GATConv(137, 32, heads=8)\n",
              "  (graph_conv3): GATConv(265, 64, heads=8)\n",
              "  (graph_conv4): GATConv(521, 128, heads=8)\n",
              "  (boundary_conv1): GATConv(3, 32, heads=4)\n",
              "  (boundary_conv2): GATConv(131, 32, heads=8)\n",
              "  (Concatination1): GATConv(1292, 128, heads=8)\n",
              "  (width_layer1): Linear(in_features=1024, out_features=128, bias=True)\n",
              "  (height_layer1): Linear(in_features=1024, out_features=128, bias=True)\n",
              "  (width_output): Linear(in_features=128, out_features=1, bias=True)\n",
              "  (height_output): Linear(in_features=128, out_features=1, bias=True)\n",
              "  (dropout): Dropout(p=0.2, inplace=False)\n",
              ")"
            ]
          },
          "metadata": {},
          "execution_count": 22
        }
      ]
    },
    {
      "cell_type": "code",
      "source": [
        "# torch.save(model, \"/content/drive/MyDrive/GAT-Net_model/checkpoints/GAT-Net_v3_UnScalled.pt\")"
      ],
      "metadata": {
        "id": "lAwEvfdws3hT"
      },
      "execution_count": null,
      "outputs": []
    },
    {
      "cell_type": "code",
      "source": [
        "checkpoint_path = \"/content/drive/MyDrive/GAT-Net_model/checkpoints/GAT-Net_v3_UnScalled.pt\"\n",
        "checkpoint = torch.load(checkpoint_path, map_location=torch.device('cpu'))\n",
        "\n",
        "optimizer = torch.optim.Adam(model.parameters(), lr=0.001)\n",
        "\n",
        "\n",
        "model.load_state_dict(checkpoint['model_state_dict'], strict=False)\n",
        "optimizer.load_state_dict(checkpoint['optimizer_state_dict'])\n",
        "epochs = checkpoint['epoch']\n",
        "\n",
        "model.eval()"
      ],
      "metadata": {
        "colab": {
          "base_uri": "https://localhost:8080/"
        },
        "id": "p4xVDFsssATq",
        "outputId": "c29e7eff-93fa-439d-dddc-d17ea07c3b82"
      },
      "execution_count": null,
      "outputs": [
        {
          "output_type": "execute_result",
          "data": {
            "text/plain": [
              "GATNet(\n",
              "  (graph_conv1): GATConv(9, 32, heads=4)\n",
              "  (graph_conv2): GATConv(137, 32, heads=8)\n",
              "  (graph_conv3): GATConv(265, 64, heads=8)\n",
              "  (graph_conv4): GATConv(521, 128, heads=8)\n",
              "  (boundary_conv1): GATConv(3, 32, heads=4)\n",
              "  (boundary_conv2): GATConv(131, 32, heads=8)\n",
              "  (Concatination1): GATConv(1292, 128, heads=8)\n",
              "  (width_layer1): Linear(in_features=1024, out_features=128, bias=True)\n",
              "  (height_layer1): Linear(in_features=1024, out_features=128, bias=True)\n",
              "  (width_output): Linear(in_features=128, out_features=1, bias=True)\n",
              "  (height_output): Linear(in_features=128, out_features=1, bias=True)\n",
              "  (dropout): Dropout(p=0.2, inplace=False)\n",
              ")"
            ]
          },
          "metadata": {},
          "execution_count": 27
        }
      ]
    },
    {
      "cell_type": "code",
      "source": [
        "class FloorPlan_multipolygon():\n",
        "    def __init__(self, graph, prediction):\n",
        "        self.graph       = graph\n",
        "        self.prediction  = prediction\n",
        "\n",
        "    def get_room_data(self, room_index):\n",
        "        \"\"\"\n",
        "        Inputs:\n",
        "            room_index: index of the room in the graph\n",
        "\n",
        "        Outputs:\n",
        "            centroid, w, h of that room.\n",
        "        \"\"\"\n",
        "        # # Using networkX graphs\n",
        "        # Graph_data = list(self.graph.nodes(data=True))[room_index][1]\n",
        "        # w = Graph_data['rec_w']\n",
        "        # h = Graph_data['rec_h']\n",
        "        # centroid = (Graph_data['actualCentroid_x'], Graph_data['actualCentroid_y'])\n",
        "        # category = Graph_data['roomType_embd']\n",
        "\n",
        "        # Using pytorhc Garphs\n",
        "\n",
        "        centroid = (self.graph.x[room_index][-2].item(), self.graph.x[room_index][-1].item())\n",
        "        category = torch.argmax(self.graph.x[:, :7], axis=1)[room_index].item()\n",
        "        w_pre, h_pre = self.get_predictions(room_index)\n",
        "\n",
        "\n",
        "        data = {\n",
        "            'centroid': centroid,\n",
        "            'predic_w': w_pre,\n",
        "            'predic_h': h_pre,\n",
        "            'category': category\n",
        "        }\n",
        "        return data\n",
        "\n",
        "    def create_box(self, room_data):\n",
        "        \"\"\"\n",
        "        Inputs:\n",
        "            room_data: a dictionary with centroid, w, h of that room.\n",
        "\n",
        "        Outputs:\n",
        "            box: a shapely box with the same centroid, w, h of that room.\n",
        "        \"\"\"\n",
        "\n",
        "        centroid = room_data['centroid']\n",
        "        half_w   = room_data['predic_w'] / 2\n",
        "        half_h   = room_data['predic_h'] / 2\n",
        "\n",
        "        # bottom_left  = Point(centroid[0] - half_w, centroid[1] - half_h)\n",
        "        # bottom_right = Point(centroid[0] + half_w, centroid[1] - half_h)\n",
        "        # top_right    = Point(centroid[0] + half_w, centroid[1] + half_h)\n",
        "        # top_left     = Point(centroid[0] - half_w, centroid[1] + half_h)\n",
        "\n",
        "        x1 = centroid[0] - half_w\n",
        "        x2 = centroid[0] + half_w\n",
        "        y1 = centroid[1] - half_h\n",
        "        y2 = centroid[1] + half_h\n",
        "\n",
        "        # print(bottom_left, bottom_right, top_right, top_left)\n",
        "        # box = Polygon([bottom_left, bottom_right, top_right, top_left])\n",
        "        box_poly = create_shapely_box(x1, y1, x2, y2)\n",
        "        return box_poly\n",
        "\n",
        "    def get_room_type(self, room_category):\n",
        "        room_type_mapping = {\n",
        "            0: 'Unknown',   # Assuming '0' is an unknown category\n",
        "            1: 'Living',\n",
        "            2: 'Bathroom',\n",
        "            3: 'Kitchen',\n",
        "            # Add more mappings as necessary\n",
        "        }\n",
        "        return room_type_mapping.get(room_category, 'Unknown')\n",
        "\n",
        "    def get_multipoly(self, boundary=False, door=False):\n",
        "        \"\"\"\n",
        "        Outputs:\n",
        "            multi_poly: a shapely multipolygon of all the rooms in the floor plan or graph.\n",
        "        \"\"\"\n",
        "        num_of_rooms = self.graph.x.shape[0]\n",
        "        similar_polygons = defaultdict(list)\n",
        "\n",
        "        for index in range(num_of_rooms):\n",
        "            room_data = self.get_room_data(index)\n",
        "            box = self.create_box(room_data)\n",
        "            #box = box.intersection(boundary.buffer(-3, cap_style=3, join_style=2))\n",
        "\n",
        "            if box and not box.is_empty:\n",
        "                similar_polygons[room_data['category']].append(box)\n",
        "            else:\n",
        "                print(f\"Empty or None box for room index {index}, data: {room_data}\")\n",
        "\n",
        "            # add each pox to its similar boxes\n",
        "            room_category = room_data['category']\n",
        "            if room_category != 0:\n",
        "                similar_polygons[room_category].append(box)\n",
        "\n",
        "\n",
        "        all_polygons = []\n",
        "        all_polygons.append(boundary)\n",
        "        similar_polygons_2 = defaultdict(list)\n",
        "        already_inside_bath = False\n",
        "        for room_category, polygons in similar_polygons.items():\n",
        "            # if room_category == 2:\n",
        "            #     for poly in polygons:\n",
        "            #         similar_polygons_2[room_category].append(poly)\n",
        "\n",
        "            # elif room_category == 3:\n",
        "            #     if len(polygons) == 1:\n",
        "            #         similar_polygons_2[room_category].append(polygons[0])\n",
        "            #     else:\n",
        "            #         # check most polgon has intersection with other polygons\n",
        "            #         for\n",
        "\n",
        "\n",
        "\n",
        "\n",
        "            if room_category in (2, 3): # If bathroom or kitchen.\n",
        "                # combined_polygon = unary_union(polygons)\n",
        "                # all_polygons.append(combined_polygon)\n",
        "                # for poly in polygons:\n",
        "                #     similar_polygons_2[room_category].append(poly)\n",
        "\n",
        "                for bath_or_kitchen in polygons:\n",
        "                    if any(bath_or_kitchen.intersects(room) for room in similar_polygons[1]): # Chcek if the current bathroom or kitchen intersectes with any room\n",
        "                        for i, room in enumerate(similar_polygons[1]):\n",
        "                            if bath_or_kitchen.intersects(room):\n",
        "                                intersection = bath_or_kitchen.intersection(room)\n",
        "                                if (intersection.area >= (0.2 * bath_or_kitchen.area)) and (already_inside_bath == False):\n",
        "                                    # new_bath_or_kitchen = intersection\n",
        "                                    # print('>= 50%')\n",
        "                                    bath_or_kitchen = bath_or_kitchen.intersection(room.buffer(-3, cap_style=3, join_style=2))\n",
        "                                    already_inside_bath = True\n",
        "                                    # bath_or_kitchen   = room.intersection(bath_or_kitchen.buffer(-3, cap_style=3, join_style=3))\n",
        "                                else:\n",
        "                                    # print('Not >= 50%')\n",
        "                                    ## If we need to cut from the room\n",
        "                                    room = room.difference(intersection.buffer(0.3))\n",
        "                                    similar_polygons[1][i] = room\n",
        "\n",
        "                                    ## If we need to cut from the bathroom or kitchen\n",
        "                                    bath_or_kitchen = bath_or_kitchen.difference(intersection.buffer(4))\n",
        "\n",
        "                    similar_polygons_2[room_category].append(bath_or_kitchen)\n",
        "\n",
        "            else: # If rooms\n",
        "                existing_polygons = []\n",
        "                for poly in polygons: # for room in rooms\n",
        "                    # print(f'Current poly: {poly.centroid}')\n",
        "                    if any(poly.intersects(exist) for exist in existing_polygons):\n",
        "                        for exist in existing_polygons:\n",
        "                            if poly.intersects(exist): # If there is an intersection between current poly and the checking polygon.\n",
        "                                # print(f'Intersects with: {exist.centroid}')\n",
        "                                intersection = poly.intersection(exist)\n",
        "                                if exist.area < poly.area:\n",
        "                                    # print('1')\n",
        "                                    difference_polygon = exist.difference(intersection.buffer(4))\n",
        "\n",
        "                                    # We cut from the exist so we will remove the old version and add the new version.\n",
        "                                    similar_polygons_2[room_category].remove(exist)\n",
        "                                    similar_polygons_2[room_category].append(difference_polygon)\n",
        "\n",
        "                                    # Also we add the current polygon.\n",
        "                                    similar_polygons_2[room_category].append(poly)\n",
        "\n",
        "                                    # The same step we didi in similar_polygons_2 we make it here to make the existing_polys the same.\n",
        "                                    existing_polygons.remove(exist)\n",
        "                                    existing_polygons.append(difference_polygon)\n",
        "\n",
        "                                    existing_polygons.append(poly)\n",
        "\n",
        "                                else:\n",
        "                                    # print('2')\n",
        "                                    difference_polygon = poly.difference(intersection.buffer(4))\n",
        "                                    similar_polygons_2[room_category].append(difference_polygon)\n",
        "                                    # existing_polygons.append(difference_polygon)\n",
        "                                    # similar_polygons_2[room_category].append(exist)\n",
        "\n",
        "                    else: # For the first one\n",
        "                        # print('No intersection')\n",
        "                        existing_polygons.append(poly)\n",
        "                        similar_polygons_2[room_category].append(poly)\n",
        "\n",
        "        print(f\"Number of polygons before intersection: {sum(len(polys) for polys in similar_polygons.values())}\")\n",
        "        print(f\"Number of polygons after intersection: {sum(len(polys) for polys in similar_polygons_2.values())}\")\n",
        "\n",
        "\n",
        "        for _, polygons in similar_polygons_2.items():\n",
        "            all_polygons.append(MultiPolygon(polygons))\n",
        "\n",
        "        if door:\n",
        "            all_polygons.append(door)\n",
        "\n",
        "        # Check if polygons are not empty\n",
        "        for room_category, polygons in similar_polygons_2.items():\n",
        "            non_empty_polygons = [p for p in polygons if not p.is_empty]\n",
        "            print(f\"Room category '{room_category}': {len(non_empty_polygons)} non-empty polygons\")\n",
        "\n",
        "        # Here we plot each type of room in its specific color\n",
        "        fig, ax = plt.subplots()\n",
        "        for room_type, polygons in similar_polygons_2.items():\n",
        "            gpd.GeoSeries(polygons).plot(ax=ax, color=color_palette.get(room_type, '#dddddd'))\n",
        "        # If you want to plot the boundary and door as well\n",
        "        gpd.GeoSeries(boundary).plot(ax=ax, color='none', edgecolor='black', linewidth=2)\n",
        "        if door:\n",
        "            gpd.GeoSeries(door).plot(ax=ax, color=color_palette.get('door', 'red'))  # Choose a color for the door\n",
        "\n",
        "        # Inside get_multipoly method, when adding text labels\n",
        "        for room_category, polygons in similar_polygons_2.items():\n",
        "            for poly in polygons:\n",
        "                if not poly.is_empty:  # Check if the polygon is not empty\n",
        "                    x, y = poly.centroid.x, poly.centroid.y\n",
        "                    room_type_name = self.get_room_type(room_category)  # Convert the category number to a string\n",
        "                    ax.text(x, y, room_type_name, horizontalalignment='center', verticalalignment='center', fontsize=9, color='white', weight='bold')\n",
        "\n",
        "        fig, ax = plt.subplots()\n",
        "        for room_category, polygons in similar_polygons.items():\n",
        "            # Ensure we have valid polygons\n",
        "            valid_polygons = [p for p in polygons if p and not p.is_empty]\n",
        "            gpd.GeoSeries(valid_polygons).plot(ax=ax, color=color_palette.get(room_category, '#dddddd'))\n",
        "\n",
        "        gpd.GeoSeries([boundary]).plot(ax=ax, color='none', edgecolor='black', linewidth=2)\n",
        "\n",
        "        plt.show()\n",
        "        compined_polygons_seperated = gpd.GeoSeries(all_polygons)\n",
        "\n",
        "        return compined_polygons_seperated\n",
        "\n",
        "\n",
        "    def get_predictions(self, room_index):\n",
        "        \"\"\"\n",
        "        Inputs:\n",
        "            room_index: index of the room in the graph\n",
        "        outputs:\n",
        "            w_predicted: predicted width for that room\n",
        "            h_predicted: predicted width for that room\n",
        "        \"\"\"\n",
        "        w_predicted = self.prediction[room_index, 0]\n",
        "        h_predicted = self.prediction[room_index, 1]\n",
        "\n",
        "        return w_predicted, h_predicted"
      ],
      "metadata": {
        "id": "x3RjA3B1sGU8"
      },
      "execution_count": null,
      "outputs": []
    },
    {
      "cell_type": "code",
      "source": [
        "G_pytorch.x = G_pytorch.x.to(torch.float32)\n",
        "G_pytorch.edge_attr = G_pytorch.edge_attr.to(torch.float32)\n",
        "G_pytorch.edge_index = G_pytorch.edge_index.to(torch.int64)\n",
        "\n",
        "B_pytorch.x = B_pytorch.x.to(G_pytorch.x.dtype)\n",
        "B_pytorch.edge_index = B_pytorch.edge_index.to(G_pytorch.edge_index.dtype)\n",
        "B_edge_attr = B_pytorch.edge_attr.to(G_pytorch.edge_attr.dtype)"
      ],
      "metadata": {
        "id": "B2Gfu95TwIzx"
      },
      "execution_count": null,
      "outputs": []
    },
    {
      "cell_type": "code",
      "source": [
        "prediction = model(G_pytorch.to(device), B_pytorch.to(device))\n",
        "\n",
        "w_predicted   = prediction[0].detach().cpu().numpy()\n",
        "h_predicted   = prediction[1].detach().cpu().numpy()\n",
        "w_predicted_rescaled = w_predicted * std_x + mean_x\n",
        "h_predicted_rescaled = h_predicted * std_y + mean_y\n",
        "print(\"Width predictions rescaled:\", w_predicted_rescaled)\n",
        "prediction = np.concatenate([w_predicted.reshape(-1, 1), h_predicted.reshape(-1, 1)], axis=1)\n",
        "# w_h_predicted = (w_predicted, h_predicted)"
      ],
      "metadata": {
        "id": "SEj2_1JowLFg",
        "colab": {
          "base_uri": "https://localhost:8080/"
        },
        "outputId": "230642ca-8d01-471e-d82d-9e26cc02a234"
      },
      "execution_count": null,
      "outputs": [
        {
          "output_type": "stream",
          "name": "stdout",
          "text": [
            "Width predictions rescaled: [1777977.1 1357661.5 1351990.2 1414914.6 1878985.6]\n"
          ]
        }
      ]
    },
    {
      "cell_type": "code",
      "source": [
        "print(f\"Width predictions range: {prediction[0].min().item()}, {prediction[0].max().item()}\")\n",
        "print(f\"Height predictions range: {prediction[1].min().item()}, {prediction[1].max().item()}\")\n"
      ],
      "metadata": {
        "colab": {
          "base_uri": "https://localhost:8080/"
        },
        "id": "zfPvMvyKL_yo",
        "outputId": "d5b56c8f-8e13-4c99-cc8a-4dd225ac6522"
      },
      "execution_count": null,
      "outputs": [
        {
          "output_type": "stream",
          "name": "stdout",
          "text": [
            "Width predictions range: 25762.037109375, 29315.90234375\n",
            "Height predictions range: 22385.15625, 25168.205078125\n"
          ]
        }
      ]
    },
    {
      "cell_type": "code",
      "source": [
        "w_predicted = prediction[0]\n",
        "h_predicted = prediction[1]\n",
        "print(\"Predicted widths:\", w_predicted)\n",
        "print(\"Predicted heights:\", h_predicted)"
      ],
      "metadata": {
        "colab": {
          "base_uri": "https://localhost:8080/"
        },
        "id": "_zP1y0XRrWZm",
        "outputId": "f0cf020c-1adb-49b0-9813-f8c362aafa75"
      },
      "execution_count": null,
      "outputs": [
        {
          "output_type": "stream",
          "name": "stdout",
          "text": [
            "Predicted widths: [29315.902 25762.037]\n",
            "Predicted heights: [22385.156 25168.205]\n"
          ]
        }
      ]
    },
    {
      "cell_type": "code",
      "source": [
        "from torch_geometric.utils import to_networkx\n",
        "g_nx = to_networkx(G_pytorch)\n",
        "b_nx = to_networkx(B_pytorch)\n",
        "nx.draw(b_nx)\n",
        "nx.draw(g_nx)"
      ],
      "metadata": {
        "id": "mx-jC-BXzGhG",
        "colab": {
          "base_uri": "https://localhost:8080/",
          "height": 516
        },
        "outputId": "142a1fc1-ea1e-4e0d-ade4-7afb5c2739c4"
      },
      "execution_count": null,
      "outputs": [
        {
          "output_type": "display_data",
          "data": {
            "text/plain": [
              "<Figure size 640x480 with 1 Axes>"
            ],
            "image/png": "[encoded data removed]"
          },
          "metadata": {}
        }
      ]
    },
    {
      "cell_type": "code",
      "source": [
        "# Get back real values of centroids to use them In the visualization\n",
        "G_pytorch.x[:, -2] = G_pytorch.x[:, -2] * std_x + mean_x\n",
        "G_pytorch.x[:, -1] = G_pytorch.x[:, -1] * std_y + mean_y\n",
        "\n",
        "B_pytorch.x[:, -2] = B_pytorch.x[:, -2] * std_bou_x + mean_bou_x\n",
        "B_pytorch.x[:, -1] = B_pytorch.x[:, -1] * std_bou_y + mean_bou_y"
      ],
      "metadata": {
        "id": "lQLskRO4wqBq"
      },
      "execution_count": null,
      "outputs": []
    },
    {
      "cell_type": "code",
      "source": [
        "G_pytorch.x[:, -2] = G_pytorch.x[:, -2] * std_x + mean_x\n",
        "G_pytorch.x[:, -1] = G_pytorch.x[:, -1] * std_y + mean_y\n",
        "\n",
        "# Print centroid values to check them\n",
        "print(\"Centroids after rescaling:\")\n",
        "print(G_pytorch.x[:, -2:])\n"
      ],
      "metadata": {
        "colab": {
          "base_uri": "https://localhost:8080/"
        },
        "id": "HgJLEJ9MMIgw",
        "outputId": "7ab29431-9e2e-4145-eea1-64aceb89d1e7"
      },
      "execution_count": null,
      "outputs": [
        {
          "output_type": "stream",
          "name": "stdout",
          "text": [
            "Centroids after rescaling:\n",
            "tensor([[1.0086e+11, 4.8467e+09],\n",
            "        [5.0759e+10, 3.6492e+09],\n",
            "        [5.2400e+10, 6.1203e+09],\n",
            "        [9.0134e+10, 3.1999e+09],\n",
            "        [1.7299e+11, 3.4246e+09]])\n"
          ]
        }
      ]
    },
    {
      "cell_type": "code",
      "source": [
        "G_pytorch"
      ],
      "metadata": {
        "colab": {
          "base_uri": "https://localhost:8080/"
        },
        "id": "LKXoPZaXtTBD",
        "outputId": "1b99e58e-3f4c-40b9-c454-78b2a38d644c"
      },
      "execution_count": null,
      "outputs": [
        {
          "output_type": "execute_result",
          "data": {
            "text/plain": [
              "Data(edge_index=[2, 8], roomType_name=[5], x=[5, 9], edge_attr=[8, 1])"
            ]
          },
          "metadata": {},
          "execution_count": 75
        }
      ]
    },
    {
      "cell_type": "code",
      "source": [
        "test = FloorPlan_multipolygon(G_pytorch, prediction=prediction)"
      ],
      "metadata": {
        "id": "jdUckrcUsKL0"
      },
      "execution_count": null,
      "outputs": []
    },
    {
      "cell_type": "code",
      "source": [],
      "metadata": {
        "id": "JVpZuNbQu_cz"
      },
      "execution_count": null,
      "outputs": []
    },
    {
      "cell_type": "code",
      "source": [
        "\n",
        "\n",
        "\n",
        "from shapely.geometry import box as create_shapely_box\n",
        "def create_box(room_data):\n",
        "    centroid = room_data['centroid']\n",
        "    half_w = room_data['predic_w'] / 2\n",
        "    half_h = room_data['predic_h'] / 2\n",
        "\n",
        "    x1 = centroid[0] - half_w\n",
        "    y1 = centroid[1] - half_h\n",
        "    x2 = centroid[0] + half_w\n",
        "    y2 = centroid[1] + half_h\n",
        "\n",
        "    # Use the aliased function\n",
        "    box_poly = create_shapely_box(x1, y1, x2, y2)\n",
        "    return box_poly\n",
        "\n",
        "fig, ax = plt.subplots()\n",
        "for index in range(1, 3):\n",
        "    room_data = test.get_room_data(index)\n",
        "    print(f\"Room {index} data: {room_data}\")  # This prints out the room data for diagnostics\n",
        "    if room_data['predic_w'] > 0 and room_data['predic_h'] > 0:\n",
        "        box = create_box(room_data)\n",
        "        gpd.GeoSeries([box]).plot(ax=ax)\n",
        "        # Add room type text labels\n",
        "        room_type_name = test.get_room_type(room_data['category'])\n",
        "        ax.text(room_data['centroid'][0], room_data['centroid'][1], room_type_name,\n",
        "                horizontalalignment='center', verticalalignment='center', fontsize=9, color='white', weight='bold')"
      ],
      "metadata": {
        "colab": {
          "base_uri": "https://localhost:8080/",
          "height": 498
        },
        "id": "RSnxHKFTsMlr",
        "outputId": "51b64795-19b6-4f0b-c9f2-0671e1ef03b7"
      },
      "execution_count": null,
      "outputs": [
        {
          "output_type": "stream",
          "name": "stdout",
          "text": [
            "Room 1 data: {'centroid': (13801394.0, 3410881.0), 'predic_w': 22385.156, 'predic_h': 25168.205, 'category': 1}\n",
            "Room 2 data: {'centroid': (14247479.0, 5720523.0), 'predic_w': 22291.64, 'predic_h': 27288.785, 'category': 1}\n"
          ]
        },
        {
          "output_type": "display_data",
          "data": {
            "text/plain": [
              "<Figure size 640x480 with 1 Axes>"
            ],
            "image/png": "[encoded data removed]"
          },
          "metadata": {}
        }
      ]
    },
    {
      "cell_type": "code",
      "source": [
        "# for index in range(2):\n",
        "#     room_data = get_room_data(index)\n",
        "#     print(f\"Room {index} data: {room_data}\")\n",
        "#     box = self.create_box(room_data)\n",
        "#     print(f\"Created box for room {index}: {box.bounds}\")"
      ],
      "metadata": {
        "id": "Ip87tvfTMNi3"
      },
      "execution_count": null,
      "outputs": []
    },
    {
      "cell_type": "code",
      "source": [],
      "metadata": {
        "id": "EKr91u-BrfF_"
      },
      "execution_count": null,
      "outputs": []
    },
    {
      "cell_type": "code",
      "source": [
        "G_pytorch"
      ],
      "metadata": {
        "colab": {
          "base_uri": "https://localhost:8080/"
        },
        "id": "O8iI1bJezBvs",
        "outputId": "b9806382-f261-42a2-9bef-44a7434542d5"
      },
      "execution_count": null,
      "outputs": [
        {
          "output_type": "execute_result",
          "data": {
            "text/plain": [
              "Data(edge_index=[2, 8], roomType_name=[5], x=[5, 9], edge_attr=[8, 1])"
            ]
          },
          "metadata": {},
          "execution_count": 68
        }
      ]
    },
    {
      "cell_type": "code",
      "source": [
        "# w_h_predicted = model(G.to(device), B.to(device)).detach().cpu().numpy()\n",
        "test = FloorPlan_multipolygon(G_pytorch, prediction=prediction)\n",
        "\n",
        "polys = test.get_multipoly(boundary, front_door)\n",
        "polys.plot(cmap='twilight', figsize=(4, 4), alpha=0.5, linewidth=0.5, edgecolor='black');"
      ],
      "metadata": {
        "colab": {
          "base_uri": "https://localhost:8080/",
          "height": 397
        },
        "id": "-_-Y2HBPwsNk",
        "outputId": "2ffa1e13-c508-41aa-8dad-8e4248470c56"
      },
      "execution_count": null,
      "outputs": [
        {
          "output_type": "stream",
          "name": "stdout",
          "text": [
            "Number of polygons before intersection: 9\n",
            "Number of polygons after intersection: 9\n",
            "Room category '0': 1 non-empty polygons\n",
            "Room category '1': 2 non-empty polygons\n",
            "Room category '3': 2 non-empty polygons\n",
            "Room category '2': 2 non-empty polygons\n"
          ]
        },
        {
          "output_type": "display_data",
          "data": {
            "text/plain": [
              "<Figure size 640x480 with 1 Axes>"
            ],
            "image/png": "[encoded data removed]"
          },
          "metadata": {}
        },
        {
          "output_type": "display_data",
          "data": {
            "text/plain": [
              "<Figure size 640x480 with 1 Axes>"
            ],
            "image/png": "[encoded data removed]"
          },
          "metadata": {}
        },
        {
          "output_type": "display_data",
          "data": {
            "text/plain": [
              "<Figure size 400x400 with 1 Axes>"
            ],
            "image/png": "[encoded data removed]"
          },
          "metadata": {}
        }
      ]
    },
    {
      "cell_type": "code",
      "source": [],
      "metadata": {
        "id": "KM99agelwt_h"
      },
      "execution_count": null,
      "outputs": []
    }
  ]
}