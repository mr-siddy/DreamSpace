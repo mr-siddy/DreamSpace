{
  "nbformat": 4,
  "nbformat_minor": 0,
  "metadata": {
    "colab": {
      "provenance": []
    },
    "kernelspec": {
      "name": "python3",
      "display_name": "Python 3"
    },
    "language_info": {
      "name": "python"
    }
  },
  "cells": [
    {
      "cell_type": "markdown",
      "source": [
        "The source dataset is Rplan Dataset, it is a dataset consists of about 80k floor plans as images.\n",
        "\n",
        "First, we converted the image based RPlan dataset to a geometry based dataset in another notebook.\n",
        "\n",
        "In this notebook, we will create a custom dataset as a networkx graphs from the Rplan floor plans. So, we could use it to train the GAT-Net model to predict the room bounding boxes width and height."
      ],
      "metadata": {
        "id": "qY5fefDXyLTX"
      }
    },
    {
      "cell_type": "code",
      "source": [
        "!pip3 install shapely==2.0.0 --quiet\n",
        "!pip3 install geopandas --quiet\n",
        "!pip3 install distinctipy --quiet\n",
        "!pip3 install pickle5 --quiet\n",
        "!pip3 install networkx --quiet\n",
        "\n",
        "import warnings\n",
        "from shapely.errors import ShapelyDeprecationWarning\n",
        "\n",
        "warnings.filterwarnings(\"ignore\", category=ShapelyDeprecationWarning)\n",
        "warnings.filterwarnings(\"ignore\", category=UserWarning)"
      ],
      "metadata": {
        "colab": {
          "base_uri": "https://localhost:8080/"
        },
        "id": "6NqaG9jhyQma",
        "outputId": "b2491e0c-365b-43ea-cbf6-ba62f4997a73"
      },
      "execution_count": null,
      "outputs": [
        {
          "output_type": "stream",
          "name": "stdout",
          "text": [
            "\u001b[2K     \u001b[90m━━━━━━━━━━━━━━━━━━━━━━━━━━━━━━━━━━━━━━━━\u001b[0m \u001b[32m2.3/2.3 MB\u001b[0m \u001b[31m16.1 MB/s\u001b[0m eta \u001b[36m0:00:00\u001b[0m\n",
            "\u001b[2K     \u001b[90m━━━━━━━━━━━━━━━━━━━━━━━━━━━━━━━━━━━━━━━━\u001b[0m \u001b[32m132.1/132.1 kB\u001b[0m \u001b[31m2.4 MB/s\u001b[0m eta \u001b[36m0:00:00\u001b[0m\n",
            "\u001b[?25h  Preparing metadata (setup.py) ... \u001b[?25l\u001b[?25hdone\n",
            "  Building wheel for pickle5 (setup.py) ... \u001b[?25l\u001b[?25hdone\n"
          ]
        }
      ]
    },
    {
      "cell_type": "markdown",
      "source": [
        "# Dataset Construction\n"
      ],
      "metadata": {
        "id": "MHEhW6CHzn5F"
      }
    },
    {
      "cell_type": "code",
      "execution_count": null,
      "metadata": {
        "id": "xzt1hqRsxiT6"
      },
      "outputs": [],
      "source": [
        "import pandas as pd\n",
        "import numpy as np\n",
        "import matplotlib.pyplot as plt\n",
        "from PIL import Image\n",
        "import cv2\n",
        "\n",
        "\n",
        "import geopandas as gpd\n",
        "import pickle as pickle\n",
        "\n",
        "from collections.abc import Iterable\n",
        "from tqdm import tqdm\n",
        "import os\n",
        "\n",
        "\n",
        "import shapely\n",
        "from shapely import affinity, MultiPolygon, GeometryCollection, Polygon, ops, LineString, unary_union, intersection_all\n",
        "import geopandas as gpd\n",
        "\n",
        "import pandas as pd\n",
        "from pandas.core.series import Series\n",
        "import networkx as nx\n",
        "\n",
        "import distinctipy\n",
        "import random\n",
        "\n",
        "data_url = \"/content/drive/MyDrive/RPlanify_dataset/planify/train.pickle\""
      ]
    },
    {
      "cell_type": "code",
      "source": [
        "with open(data_url, \"rb\") as fh:\n",
        "    df = pickle.load(fh)\n",
        "\n",
        "for col in df.columns:\n",
        "    df[col] = df[col].apply(lambda x: x if x and len(x.geoms) else None)\n",
        "\n",
        "df = df.rename(columns={\n",
        "    'interior_area': 'inner',\n",
        "    'exterior_wall_2': 'outer_wall',\n",
        "    'interior_wall': 'inner_wall',\n",
        "    'second': 'second_room'\n",
        "})\n",
        "\n",
        "\n",
        "geoms_columns = ['inner', 'living', 'master', 'kitchen', 'bathroom', 'dining', 'child', 'study',\n",
        "                   'second_room', 'guest', 'balcony', 'storage', 'wall-in',\n",
        "                    'outer_wall', 'front', 'inner_wall', 'interior',\n",
        "                   'front_door', 'outer_wall', 'entrance']\n",
        "\n",
        "only_rooms =  ['living', 'master', 'kitchen', 'bathroom', 'dining', 'child', 'study',\n",
        "                   'second_room', 'guest', 'balcony', 'storage', 'entrance']\n",
        "\n",
        "\n",
        "needed_columns = only_rooms + ['front_door', 'interior']\n",
        "\n",
        "df.count()"
      ],
      "metadata": {
        "colab": {
          "base_uri": "https://localhost:8080/"
        },
        "id": "XlMaBqRizkUL",
        "outputId": "372c2186-45bc-46f2-c236-2d32b3cf5d56"
      },
      "execution_count": null,
      "outputs": [
        {
          "output_type": "execute_result",
          "data": {
            "text/plain": [
              "living           80788\n",
              "master           79536\n",
              "kitchen          77628\n",
              "bathroom         80707\n",
              "dining            1311\n",
              "child             3874\n",
              "study            14960\n",
              "second_room      76893\n",
              "guest              826\n",
              "balcony          67630\n",
              "entrance           288\n",
              "storage           3296\n",
              "wall-in           1030\n",
              "external         80788\n",
              "exterior_wall    80788\n",
              "front            80787\n",
              "inner_wall       80788\n",
              "interior         80737\n",
              "front_door       80787\n",
              "outer_wall       80788\n",
              "inner            80788\n",
              "dtype: int64"
            ]
          },
          "metadata": {},
          "execution_count": 4
        }
      ]
    },
    {
      "cell_type": "code",
      "source": [
        "def plot_colors_dict(colors):\n",
        "    n = len(colors)\n",
        "    ncols = 4\n",
        "    nrows = n // ncols + 1\n",
        "\n",
        "    fig, ax = plt.subplots(figsize=(9, 2))\n",
        "\n",
        "    X, Y = fig.get_dpi() * fig.get_size_inches()\n",
        "    h = Y / (nrows + 1)\n",
        "    w = X / ncols\n",
        "\n",
        "    for i, name in enumerate(colors):\n",
        "        col = i % ncols\n",
        "        row = i // ncols\n",
        "        y = Y - (row * h) - h\n",
        "\n",
        "        xi_line = w * (col + 0.05)\n",
        "        xf_line = w * (col + 0.25)\n",
        "        xi_text = w * (col + 0.3)\n",
        "\n",
        "        ax.text(xi_text, y, name, fontsize=(h * 0.8),\n",
        "                horizontalalignment='left',\n",
        "                verticalalignment='center')\n",
        "        ax.hlines(y + h * 0.1, xi_line, xf_line,\n",
        "                  color=tuple([*colors[name]/255, 1]), linewidth=(h * 0.6))\n",
        "\n",
        "    ax.set_xlim(0, X)\n",
        "    ax.set_ylim(0, Y)\n",
        "    ax.set_axis_off()\n",
        "\n",
        "    fig.subplots_adjust(left=0, right=1,\n",
        "                        top=1, bottom=0,\n",
        "                        hspace=0, wspace=0)\n",
        "    plt.show()\n",
        "\n",
        "\n",
        "def imshow(img, fig_size=(500, 500)):\n",
        "    \"\"\" Plot an image\n",
        "\n",
        "    Parameters\n",
        "    ----------\n",
        "    img: ndarray (OpenCV image) or PIL.Image\n",
        "        The image to be plotted\n",
        "    fig_size: tuple\n",
        "        The figure size\n",
        "    \"\"\"\n",
        "    try:\n",
        "        img = Image.fromarray(img)\n",
        "    except:\n",
        "        try:\n",
        "            img = img.astype(np.uint8)\n",
        "        except:\n",
        "            ...\n",
        "    display(img.resize(fig_size))"
      ],
      "metadata": {
        "id": "Gf68D9qIzx8O"
      },
      "execution_count": null,
      "outputs": []
    },
    {
      "cell_type": "code",
      "source": [
        "# Generating random colors with a unified seed\n",
        "random.seed(2000)\n",
        "N = len(geoms_columns)\n",
        "colors = (np.array(distinctipy.get_colors(N)) * 255).astype(np.uint8)\n",
        "room_color = {room_name: colors[i] for i, room_name in enumerate(geoms_columns)}"
      ],
      "metadata": {
        "id": "Zz4PHfzE0Als"
      },
      "execution_count": null,
      "outputs": []
    },
    {
      "cell_type": "code",
      "source": [
        "def get_mask(poly, shape):\n",
        "\n",
        "    img = np.zeros(shape, dtype=np.uint8)\n",
        "    if isinstance(poly, Polygon):\n",
        "        img = cv2.drawContours(img, np.int32([poly.exterior.coords]), -1, 255, -1)\n",
        "\n",
        "    elif isinstance(poly, MultiPolygon):\n",
        "        for p in poly.geoms:\n",
        "            img = cv2.drawContours(img, np.int32([p.exterior.coords]), -1, 255, -1)\n",
        "    elif isinstance(poly, Series):\n",
        "        polys = [p for p in poly.tolist() if p]\n",
        "        img = get_mask(polys, shape)\n",
        "\n",
        "    elif isinstance(poly, Iterable):\n",
        "        for p in poly:\n",
        "            img = (img != 0) | (get_mask(p, shape) != 0)\n",
        "        img = img.astype(np.uint8) * 255\n",
        "\n",
        "    return img.astype(np.uint8)\n",
        "\n",
        "\n",
        "\n",
        "def plot_plan_colored(index=None, idf=df, row=None, shape=(255, 255),\n",
        "                      return_img=False, points=None, radius=5,\n",
        "                      rooms_columns=geoms_columns):\n",
        "\n",
        "\n",
        "    img  = np.zeros((*shape, 3), dtype=np.uint8)\n",
        "    if row is None:\n",
        "        if index is not None:\n",
        "            row = idf.iloc[index]\n",
        "        else:\n",
        "            return\n",
        "\n",
        "    for i, room_name in enumerate(rooms_columns):\n",
        "        color = room_color[room_name]\n",
        "        room_geo = row[room_name]\n",
        "        if room_geo is not None:\n",
        "            mask = get_mask(room_geo, shape)\n",
        "            img[np.where(mask > 0)] = color\n",
        "    if points:\n",
        "        for p in points:\n",
        "            cv2.circle(img, (int(p[0]), int(p[1])), radius, (255, 255, 255), thickness=-1)\n",
        "\n",
        "    imshow(img)\n",
        "    if return_img:\n",
        "        return img\n",
        "\n",
        "def plot_plan_list_colored(plan_list, shape=(255, 255),\n",
        "                      return_img=False, points=None, radius=5):\n",
        "\n",
        "\n",
        "    img  = np.zeros((*shape, 3), dtype=np.uint8)\n",
        "\n",
        "    for i, (room_name, polygon) in enumerate(plan_list):\n",
        "        color = room_color[room_name]\n",
        "        room_geo = polygon\n",
        "        if room_geo is not None:\n",
        "            mask = get_mask(room_geo, shape)\n",
        "            img[np.where(mask > 0)] = color\n",
        "    if points:\n",
        "        for p in points:\n",
        "            cv2.circle(img, (int(p[0]), int(p[1])), radius, (255, 255, 255), thickness=-1)\n",
        "\n",
        "    imshow(img)\n",
        "    if return_img:\n",
        "        return img\n",
        "\n",
        "\n",
        "def get_real_area(mpoly, base_img_area=256*256, orig_area=18*18):\n",
        "\n",
        "\n",
        "    return orig_area * mpoly.area / base_img_area"
      ],
      "metadata": {
        "id": "zcE7Ck1K0DM2"
      },
      "execution_count": null,
      "outputs": []
    },
    {
      "cell_type": "code",
      "source": [
        "idx = 3977\n",
        "\n",
        "interior = df.iloc[idx]['inner']\n",
        "wall = df.iloc[idx]['outer_wall']\n",
        "\n",
        "interior_and_wall = interior.union(wall)\n",
        "\n",
        "get_real_area(interior_and_wall)"
      ],
      "metadata": {
        "colab": {
          "base_uri": "https://localhost:8080/"
        },
        "id": "xjOFrxBJ0bt1",
        "outputId": "001199d9-6376-4428-e75c-d750194c931f"
      },
      "execution_count": null,
      "outputs": [
        {
          "output_type": "execute_result",
          "data": {
            "text/plain": [
              "111.81005859375"
            ]
          },
          "metadata": {},
          "execution_count": 8
        }
      ]
    },
    {
      "cell_type": "code",
      "source": [
        "plot_plan_colored(900)\n"
      ],
      "metadata": {
        "colab": {
          "base_uri": "https://localhost:8080/",
          "height": 517
        },
        "id": "MLg4qtSx0dPg",
        "outputId": "370facd0-d13e-4ea6-8fc9-8db02bc72536"
      },
      "execution_count": null,
      "outputs": [
        {
          "output_type": "display_data",
          "data": {
            "text/plain": [
              "<PIL.Image.Image image mode=RGB size=500x500>"
            ],
            "image/png": "[encoded data removed]"
          },
          "metadata": {}
        }
      ]
    },
    {
      "cell_type": "code",
      "source": [
        "# I considered there is a plan with no front_door\n",
        "df[df['front_door'].isna()]"
      ],
      "metadata": {
        "colab": {
          "base_uri": "https://localhost:8080/",
          "height": 200
        },
        "id": "9g54tUTs0eel",
        "outputId": "28ced353-3287-4747-b33d-6a834931cc65"
      },
      "execution_count": null,
      "outputs": [
        {
          "output_type": "execute_result",
          "data": {
            "text/plain": [
              "                                                  living  \\\n",
              "66540  MULTIPOLYGON (((109 92, 109 132, 126 132, 127 ...   \n",
              "\n",
              "                                                  master  \\\n",
              "66540  MULTIPOLYGON (((109 136, 109 148, 107 150, 106...   \n",
              "\n",
              "                                                 kitchen  \\\n",
              "66540  MULTIPOLYGON (((186 40, 186 88, 201 88, 201 40...   \n",
              "\n",
              "                                                bathroom  \\\n",
              "66540  MULTIPOLYGON (((66 124, 66 145, 105 145, 105 1...   \n",
              "\n",
              "                                                  dining child study  \\\n",
              "66540  MULTIPOLYGON (((137 29, 137 39, 136 40, 127 40...  None  None   \n",
              "\n",
              "                                             second_room guest  \\\n",
              "66540  MULTIPOLYGON (((78 40, 78 88, 123 88, 123 40, ...  None   \n",
              "\n",
              "                                                 balcony  ... storage wall-in  \\\n",
              "66540  MULTIPOLYGON (((87 29, 87 36, 133 36, 133 29, ...  ...    None    None   \n",
              "\n",
              "                                                external  \\\n",
              "66540  MULTIPOLYGON (((0 0, 0 255, 255 255, 255 0, 0 ...   \n",
              "\n",
              "                                           exterior_wall front  \\\n",
              "66540  MULTIPOLYGON (((84 26, 84 36, 83 37, 75 37, 75...  None   \n",
              "\n",
              "                                              inner_wall  \\\n",
              "66540  MULTIPOLYGON (((66 121, 66 123, 105 123, 106 1...   \n",
              "\n",
              "                                                interior front_door  \\\n",
              "66540  MULTIPOLYGON (((106 92, 106 120, 108 120, 108 ...       None   \n",
              "\n",
              "                                              outer_wall  \\\n",
              "66540  MULTIPOLYGON (((84 26, 84 36, 83 37, 75 37, 75...   \n",
              "\n",
              "                                                   inner  \n",
              "66540  MULTIPOLYGON (((87 29, 87 39, 86 40, 78 40, 78...  \n",
              "\n",
              "[1 rows x 21 columns]"
            ],
            "text/html": [
              "\n",
              "  <div id=\"df-a4961356-1f7c-45db-8032-7732025996fb\" class=\"colab-df-container\">\n",
              "    <div>\n",
              "<style scoped>\n",
              "    .dataframe tbody tr th:only-of-type {\n",
              "        vertical-align: middle;\n",
              "    }\n",
              "\n",
              "    .dataframe tbody tr th {\n",
              "        vertical-align: top;\n",
              "    }\n",
              "\n",
              "    .dataframe thead th {\n",
              "        text-align: right;\n",
              "    }\n",
              "</style>\n",
              "<table border=\"1\" class=\"dataframe\">\n",
              "  <thead>\n",
              "    <tr style=\"text-align: right;\">\n",
              "      <th></th>\n",
              "      <th>living</th>\n",
              "      <th>master</th>\n",
              "      <th>kitchen</th>\n",
              "      <th>bathroom</th>\n",
              "      <th>dining</th>\n",
              "      <th>child</th>\n",
              "      <th>study</th>\n",
              "      <th>second_room</th>\n",
              "      <th>guest</th>\n",
              "      <th>balcony</th>\n",
              "      <th>...</th>\n",
              "      <th>storage</th>\n",
              "      <th>wall-in</th>\n",
              "      <th>external</th>\n",
              "      <th>exterior_wall</th>\n",
              "      <th>front</th>\n",
              "      <th>inner_wall</th>\n",
              "      <th>interior</th>\n",
              "      <th>front_door</th>\n",
              "      <th>outer_wall</th>\n",
              "      <th>inner</th>\n",
              "    </tr>\n",
              "  </thead>\n",
              "  <tbody>\n",
              "    <tr>\n",
              "      <th>66540</th>\n",
              "      <td>MULTIPOLYGON (((109 92, 109 132, 126 132, 127 ...</td>\n",
              "      <td>MULTIPOLYGON (((109 136, 109 148, 107 150, 106...</td>\n",
              "      <td>MULTIPOLYGON (((186 40, 186 88, 201 88, 201 40...</td>\n",
              "      <td>MULTIPOLYGON (((66 124, 66 145, 105 145, 105 1...</td>\n",
              "      <td>MULTIPOLYGON (((137 29, 137 39, 136 40, 127 40...</td>\n",
              "      <td>None</td>\n",
              "      <td>None</td>\n",
              "      <td>MULTIPOLYGON (((78 40, 78 88, 123 88, 123 40, ...</td>\n",
              "      <td>None</td>\n",
              "      <td>MULTIPOLYGON (((87 29, 87 36, 133 36, 133 29, ...</td>\n",
              "      <td>...</td>\n",
              "      <td>None</td>\n",
              "      <td>None</td>\n",
              "      <td>MULTIPOLYGON (((0 0, 0 255, 255 255, 255 0, 0 ...</td>\n",
              "      <td>MULTIPOLYGON (((84 26, 84 36, 83 37, 75 37, 75...</td>\n",
              "      <td>None</td>\n",
              "      <td>MULTIPOLYGON (((66 121, 66 123, 105 123, 106 1...</td>\n",
              "      <td>MULTIPOLYGON (((106 92, 106 120, 108 120, 108 ...</td>\n",
              "      <td>None</td>\n",
              "      <td>MULTIPOLYGON (((84 26, 84 36, 83 37, 75 37, 75...</td>\n",
              "      <td>MULTIPOLYGON (((87 29, 87 39, 86 40, 78 40, 78...</td>\n",
              "    </tr>\n",
              "  </tbody>\n",
              "</table>\n",
              "<p>1 rows × 21 columns</p>\n",
              "</div>\n",
              "    <div class=\"colab-df-buttons\">\n",
              "\n",
              "  <div class=\"colab-df-container\">\n",
              "    <button class=\"colab-df-convert\" onclick=\"convertToInteractive('df-a4961356-1f7c-45db-8032-7732025996fb')\"\n",
              "            title=\"Convert this dataframe to an interactive table.\"\n",
              "            style=\"display:none;\">\n",
              "\n",
              "  <svg xmlns=\"http://www.w3.org/2000/svg\" height=\"24px\" viewBox=\"0 -960 960 960\">\n",
              "    <path d=\"M120-120v-720h720v720H120Zm60-500h600v-160H180v160Zm220 220h160v-160H400v160Zm0 220h160v-160H400v160ZM180-400h160v-160H180v160Zm440 0h160v-160H620v160ZM180-180h160v-160H180v160Zm440 0h160v-160H620v160Z\"/>\n",
              "  </svg>\n",
              "    </button>\n",
              "\n",
              "  <style>\n",
              "    .colab-df-container {\n",
              "      display:flex;\n",
              "      gap: 12px;\n",
              "    }\n",
              "\n",
              "    .colab-df-convert {\n",
              "      background-color: #E8F0FE;\n",
              "      border: none;\n",
              "      border-radius: 50%;\n",
              "      cursor: pointer;\n",
              "      display: none;\n",
              "      fill: #1967D2;\n",
              "      height: 32px;\n",
              "      padding: 0 0 0 0;\n",
              "      width: 32px;\n",
              "    }\n",
              "\n",
              "    .colab-df-convert:hover {\n",
              "      background-color: #E2EBFA;\n",
              "      box-shadow: 0px 1px 2px rgba(60, 64, 67, 0.3), 0px 1px 3px 1px rgba(60, 64, 67, 0.15);\n",
              "      fill: #174EA6;\n",
              "    }\n",
              "\n",
              "    .colab-df-buttons div {\n",
              "      margin-bottom: 4px;\n",
              "    }\n",
              "\n",
              "    [theme=dark] .colab-df-convert {\n",
              "      background-color: #3B4455;\n",
              "      fill: #D2E3FC;\n",
              "    }\n",
              "\n",
              "    [theme=dark] .colab-df-convert:hover {\n",
              "      background-color: #434B5C;\n",
              "      box-shadow: 0px 1px 3px 1px rgba(0, 0, 0, 0.15);\n",
              "      filter: drop-shadow(0px 1px 2px rgba(0, 0, 0, 0.3));\n",
              "      fill: #FFFFFF;\n",
              "    }\n",
              "  </style>\n",
              "\n",
              "    <script>\n",
              "      const buttonEl =\n",
              "        document.querySelector('#df-a4961356-1f7c-45db-8032-7732025996fb button.colab-df-convert');\n",
              "      buttonEl.style.display =\n",
              "        google.colab.kernel.accessAllowed ? 'block' : 'none';\n",
              "\n",
              "      async function convertToInteractive(key) {\n",
              "        const element = document.querySelector('#df-a4961356-1f7c-45db-8032-7732025996fb');\n",
              "        const dataTable =\n",
              "          await google.colab.kernel.invokeFunction('convertToInteractive',\n",
              "                                                    [key], {});\n",
              "        if (!dataTable) return;\n",
              "\n",
              "        const docLinkHtml = 'Like what you see? Visit the ' +\n",
              "          '<a target=\"_blank\" href=https://colab.research.google.com/notebooks/data_table.ipynb>data table notebook</a>'\n",
              "          + ' to learn more about interactive tables.';\n",
              "        element.innerHTML = '';\n",
              "        dataTable['output_type'] = 'display_data';\n",
              "        await google.colab.output.renderOutput(dataTable, element);\n",
              "        const docLink = document.createElement('div');\n",
              "        docLink.innerHTML = docLinkHtml;\n",
              "        element.appendChild(docLink);\n",
              "      }\n",
              "    </script>\n",
              "  </div>\n",
              "\n",
              "\n",
              "    </div>\n",
              "  </div>\n"
            ],
            "application/vnd.google.colaboratory.intrinsic+json": {
              "type": "dataframe"
            }
          },
          "metadata": {},
          "execution_count": 10
        }
      ]
    },
    {
      "cell_type": "code",
      "source": [
        "\n",
        "# Number of floor plans befor droping it is\n",
        "df.shape[0]"
      ],
      "metadata": {
        "colab": {
          "base_uri": "https://localhost:8080/"
        },
        "id": "VIBOuhey0gvt",
        "outputId": "8f262f2f-e14a-48a5-eb20-8459878ef069"
      },
      "execution_count": null,
      "outputs": [
        {
          "output_type": "execute_result",
          "data": {
            "text/plain": [
              "80788"
            ]
          },
          "metadata": {},
          "execution_count": 11
        }
      ]
    },
    {
      "cell_type": "code",
      "source": [
        "df = df.dropna(subset=['front_door'])\n",
        "df = df.reset_index()\n",
        "# Now, number of floor plans is\n",
        "df.shape[0]"
      ],
      "metadata": {
        "colab": {
          "base_uri": "https://localhost:8080/"
        },
        "id": "7zFZYn9z0hoM",
        "outputId": "d2d7112f-fb22-4116-c180-27f8fa1c1543"
      },
      "execution_count": null,
      "outputs": [
        {
          "output_type": "execute_result",
          "data": {
            "text/plain": [
              "80787"
            ]
          },
          "metadata": {},
          "execution_count": 12
        }
      ]
    },
    {
      "cell_type": "code",
      "source": [
        "# df_rooms_polys = df[only_rooms].apply(lambda r: sum({room_name: list(mp.geoms) if mp else [] for room_name, mp in r.todict().items()})\n",
        "def get_rooms_polygons(cell):\n",
        "    ''' apply function for dataframe to convert MultiPolygons to a list of Polygons'''\n",
        "    return list(cell.geoms) if cell is not None else []\n",
        "\n",
        "df_rooms_polys = df[needed_columns].applymap(get_rooms_polygons)"
      ],
      "metadata": {
        "id": "r7_S377z0i29"
      },
      "execution_count": null,
      "outputs": []
    },
    {
      "cell_type": "code",
      "source": [
        "def get_rooms_polygons_dict(row):\n",
        "    ''' apply function for dataframe toa get dict of rooms and their polygons'''\n",
        "    return row.to_dict()\n",
        "\n",
        "df_rooms_polys_dict = df_rooms_polys.apply(get_rooms_polygons_dict, axis=1)"
      ],
      "metadata": {
        "id": "MGAaKs3U0kP6"
      },
      "execution_count": null,
      "outputs": []
    },
    {
      "cell_type": "code",
      "source": [
        "# embedding room type as intergers\n",
        "embedings = {}\n",
        "for i, type_ in enumerate(df_rooms_polys_dict[0].keys()):\n",
        "    embedings[type_] = i\n",
        "embedings"
      ],
      "metadata": {
        "colab": {
          "base_uri": "https://localhost:8080/"
        },
        "id": "73JeI6_20lzV",
        "outputId": "984ee07d-30b2-4fd2-8c8a-7de49a658b49"
      },
      "execution_count": null,
      "outputs": [
        {
          "output_type": "execute_result",
          "data": {
            "text/plain": [
              "{'living': 0,\n",
              " 'master': 1,\n",
              " 'kitchen': 2,\n",
              " 'bathroom': 3,\n",
              " 'dining': 4,\n",
              " 'child': 5,\n",
              " 'study': 6,\n",
              " 'second_room': 7,\n",
              " 'guest': 8,\n",
              " 'balcony': 9,\n",
              " 'storage': 10,\n",
              " 'entrance': 11,\n",
              " 'front_door': 12,\n",
              " 'interior': 13}"
            ]
          },
          "metadata": {},
          "execution_count": 15
        }
      ]
    },
    {
      "cell_type": "code",
      "source": [
        "def createGraph(Graph_index, living_to_all=False, all_conected=False):\n",
        "    \"\"\"\n",
        "    Generating a graph for a specific floor plan\n",
        "\n",
        "    Input:\n",
        "        Graph_index: Index of the floo plan.\n",
        "\n",
        "    Output:\n",
        "        G: a networkx graph.\n",
        "\n",
        "    \"\"\"\n",
        "    # floor_plan: a dictionary [key: type of room, value: its data]\n",
        "    floor_plan = df_rooms_polys_dict[Graph_index]\n",
        "\n",
        "    # Creating new graph\n",
        "    G = nx.Graph()\n",
        "\n",
        "    # getting the threshould of buffering each room with the inner_doors sizes to see its Adjs.\n",
        "    n = len(floor_plan['interior'])\n",
        "    summation = 0\n",
        "    if n != 0: # if there are inner doors\n",
        "        for i in range(n):\n",
        "            x1, y1, x2, y2 = floor_plan['interior'][i].bounds\n",
        "            res1, res2 = x2 - x1, y2 - y1\n",
        "            summation += min(res1, res2)\n",
        "\n",
        "    else: # if there is no inner doors, take the outer.\n",
        "        n = 1\n",
        "        x1, y1, x2, y2 = floor_plan['front_door'][0].bounds\n",
        "        res1, res2 = x2 - x1, y2 - y1\n",
        "        summation += min(res1, res2)\n",
        "\n",
        "    threshold = summation / n\n",
        "\n",
        "    # Embeding each room in a node.\n",
        "    for type_, mPoly in floor_plan.items():\n",
        "        # Not encloding balcony as the model of getting centroids doesn't support balconies\n",
        "        if (len(mPoly) == 0) or (type_ in ['interior', 'front_door', 'balcony', 'storage', 'entrance']):\n",
        "            continue\n",
        "\n",
        "        else:\n",
        "            for i, poly1 in enumerate(mPoly):\n",
        "\n",
        "                x_min, y_min, x_max, y_max= poly1.bounds\n",
        "                rec_w, rec_h = x_max - x_min, y_max - y_min\n",
        "                currentNodeName = f'{type_}_{i}'\n",
        "\n",
        "                # The following if statement done as the model of getting centroids doesn't support living.\n",
        "                # if type_ == 'living':\n",
        "                #     center_x = df['inner'][Graph_index].centroid.x\n",
        "                #     center_y = df['inner'][Graph_index].centroid.y\n",
        "                # else:\n",
        "                center_x = poly1.centroid.coords[0][0]\n",
        "                center_y = poly1.centroid.coords[0][1]\n",
        "\n",
        "                G.add_node(currentNodeName,\n",
        "                    roomType_name = type_,\n",
        "                    roomType_embd = embedings[type_],\n",
        "                    actualCentroid_x = center_x,\n",
        "                    actualCentroid_y = center_y,\n",
        "                    rec_w            = rec_w,\n",
        "                    rec_h            = rec_h,\n",
        "                    roomSize = poly1.area / df['inner'][Graph_index].area)\n",
        "\n",
        "\n",
        "                # Creating edges between rooms.\n",
        "                if (not living_to_all) and (not all_conected) :\n",
        "                    for type__, mPoly_ in floor_plan.items():\n",
        "                        if (len(mPoly_) == 0) or (type__ in ['interior', 'front_door', 'balcony', 'storage', 'entrance']):\n",
        "                            continue\n",
        "                        else:\n",
        "                    # print(type__, mPoly_, len(mPoly_))\n",
        "                            for j, poly2 in enumerate(mPoly_):\n",
        "                                if poly2 == poly1:\n",
        "                                    continue\n",
        "                                else:\n",
        "                                    p1 = poly1.buffer(threshold)\n",
        "                                    p2 = poly2.buffer(threshold)\n",
        "\n",
        "                                    if p1.intersects(p2):\n",
        "                                        adjNodeName = f'{type__}_{j}'\n",
        "\n",
        "                                        dis = poly1.centroid.distance(poly2.centroid)\n",
        "                                        G.add_edge(currentNodeName, adjNodeName, distance=round(dis, 3))\n",
        "\n",
        "\n",
        "    # if we need to connect all rooms to the living\n",
        "    if living_to_all:\n",
        "        living_cen = shapely.Point(G.nodes['living_0']['actualCentroid_x'], G.nodes['living_0']['actualCentroid_y'])\n",
        "        for node in G.nodes():\n",
        "                if G.nodes[node]['roomType_name'] != 'living':\n",
        "                    point = shapely.Point(G.nodes[node]['actualCentroid_x'], G.nodes[node]['actualCentroid_y'])\n",
        "                    dis = living_cen.distance(point)\n",
        "                    # adding edges between the living and all geoms\n",
        "                    G.add_edge('living_0', node, distance=round(dis, 3))\n",
        "\n",
        "\n",
        "    # if we need to connect all geoms to each others\n",
        "    if all_conected:\n",
        "        for node in G.nodes():\n",
        "            current_node_centeroid = shapely.Point(G.nodes[node]['actualCentroid_x'], G.nodes[node]['actualCentroid_y'])\n",
        "\n",
        "            for other_node in G.nodes():\n",
        "                if other_node != node: # for all other rooms\n",
        "                    other_node_centeroid = shapely.Point(G.nodes[other_node]['actualCentroid_x'], G.nodes[other_node]['actualCentroid_y'])\n",
        "\n",
        "                    dis = current_node_centeroid.distance(other_node_centeroid)\n",
        "                    # adding edges between the the current node and the other nodes\n",
        "                    G.add_edge(node, other_node, distance=round(dis, 3))\n",
        "\n",
        "    return G"
      ],
      "metadata": {
        "id": "UPVspKoc0m-w"
      },
      "execution_count": null,
      "outputs": []
    },
    {
      "cell_type": "code",
      "source": [
        "def draw_graph_nodes(G, living_to_all=False):\n",
        "    #  nodes positions for drawing, note that we invert the y pos\n",
        "    pos = {node: (G.nodes[node]['actualCentroid_x'], -G.nodes[node]['actualCentroid_y']) for node in G.nodes}\n",
        "\n",
        "    scales = [G.nodes[node]['roomSize'] * 10000 for node in G]\n",
        "    color_map = [room_color[G.nodes[node]['roomType_name']]/255 for node in G]\n",
        "    edge_labels = nx.get_edge_attributes(G, 'distance')\n",
        "\n",
        "\n",
        "    nx.draw_networkx_nodes(G, pos=pos, node_size=scales, node_color=color_map);\n",
        "    nx.draw_networkx_edges(G, pos=pos, edge_color='b');\n",
        "    nx.draw_networkx_labels(G, pos=pos, font_size=8);\n",
        "\n",
        "    if living_to_all:\n",
        "        nx.draw_networkx_edge_labels(G, pos=pos, edge_labels=edge_labels)\n",
        "\n",
        "\n",
        "    # # Drawing the graph inside a good boundary.\n",
        "    # x_coords  = [pos[node][0] for node in pos]\n",
        "    # y_coords  = [pos[node][1] for node in pos]\n",
        "    # threshold = max(scales) / 100\n",
        "\n",
        "    # plt.xlim(min(x_coords) - threshold, max(x_coords) + threshold)\n",
        "    plt.xlim(-10, 266)\n",
        "    plt.ylim(-266, 10)"
      ],
      "metadata": {
        "id": "rOpZDFm50y3H"
      },
      "execution_count": null,
      "outputs": []
    },
    {
      "cell_type": "code",
      "source": [
        "def draw_graph_boundary(G):\n",
        "    #  nodes positions for drawing, note that we invert the y pos\n",
        "    pos = {node: (G.nodes[node]['centroid'][0], -G.nodes[node]['centroid'][1])  for node in G.nodes}\n",
        "\n",
        "    door_color = '#90EE90'\n",
        "    other_nodes_color = '#0A2A5B'\n",
        "    color_map = [door_color if G.nodes[node]['type'] == 1 else other_nodes_color for node in G.nodes]\n",
        "\n",
        "    # nx.draw(G, pos=pos, with_labels=True, node_color=color_map, font_color='w', font_size=12)\n",
        "    nx.draw_networkx_nodes(G, pos=pos, node_size=150, node_color=color_map);\n",
        "    nx.draw_networkx_edges(G, pos=pos)\n",
        "\n",
        "    plt.xlim(-10, 266)\n",
        "    plt.ylim(-266, 10)"
      ],
      "metadata": {
        "id": "MLz1OtIH01ve"
      },
      "execution_count": null,
      "outputs": []
    },
    {
      "cell_type": "code",
      "source": [
        "# Coordinates of the boundary\n",
        "coords = df.inner[2].geoms[0].exterior.coords[:]\n",
        "\n",
        "# creating points:\n",
        "points = []\n",
        "for p in coords:\n",
        "    points.append(shapely.Point(p))\n",
        "\n",
        "# Start of Handling\n",
        "graph = nx.Graph()\n",
        "graph.add_node(0, type=0, centroid=coords[0])\n",
        "print('0 is Done', '\\n', '='*50)\n",
        "\n",
        "# to save the index if there is a node will not be added\n",
        "current = 0\n",
        "name = 1\n",
        "\n",
        "for i in range(1, len(coords)):\n",
        "    print(f'num_of_nodes: {len(graph)}')\n",
        "    dis = points[i].distance(points[current])\n",
        "    print(i, current, '--> ', dis )\n",
        "    if dis >= 5:\n",
        "        print(i, 'Done')\n",
        "        graph.add_node(name, type=0, centroid=coords[i])\n",
        "        current = i\n",
        "        name += 1\n",
        "\n",
        "    else:\n",
        "        print(i, 'Not-Done')\n",
        "\n",
        "    print('='*50)\n",
        "\n",
        "\n",
        "# Checking the distance between first and last node [if the distance is small, so we will consider them the same point]\n",
        "nodes_names = list(graph.nodes)\n",
        "print(graph.nodes[nodes_names[0]])\n",
        "print(f'Number of nodes now: {len(nodes_names)}')\n",
        "first_node = shapely.Point(graph.nodes[nodes_names[0]]['centroid'])\n",
        "last_node  = shapely.Point(graph.nodes[nodes_names[-1]]['centroid'])\n",
        "if first_node.distance(last_node) <= 5:\n",
        "    graph.remove_node(nodes_names[-1])\n",
        "    nodes_names = list(graph.nodes)\n",
        "    print(f'Num of nodes after removing: {len(nodes_names)}')\n",
        "\n",
        "\n",
        "points = []\n",
        "for node in graph:\n",
        "    points.append(shapely.Point(graph.nodes[node]['centroid']))\n",
        "\n",
        "# Adding edges between nodes.\n",
        "for i in range(len(nodes_names)-1):\n",
        "    dis = points[i].distance(points[i+1])\n",
        "    graph.add_edge(nodes_names[i],nodes_names[i+1], distance=dis)\n",
        "\n",
        "# Adding an edge between the last and the first nodes.\n",
        "dis = points[nodes_names[0]].distance(points[nodes_names[-1]])\n",
        "\n",
        "graph.add_edge(nodes_names[0], nodes_names[-1], distance=dis)"
      ],
      "metadata": {
        "colab": {
          "base_uri": "https://localhost:8080/"
        },
        "id": "SpG9UnMt03fX",
        "outputId": "47c3140f-f936-4c4a-e69e-ea041da097dd"
      },
      "execution_count": null,
      "outputs": [
        {
          "output_type": "stream",
          "name": "stdout",
          "text": [
            "0 is Done \n",
            " ==================================================\n",
            "num_of_nodes: 1\n",
            "1 0 -->  15.0\n",
            "1 Done\n",
            "==================================================\n",
            "num_of_nodes: 2\n",
            "2 1 -->  1.4142135623730951\n",
            "2 Not-Done\n",
            "==================================================\n",
            "num_of_nodes: 2\n",
            "3 1 -->  97.0051545022222\n",
            "3 Done\n",
            "==================================================\n",
            "num_of_nodes: 3\n",
            "4 3 -->  62.0\n",
            "4 Done\n",
            "==================================================\n",
            "num_of_nodes: 4\n",
            "5 4 -->  189.0\n",
            "5 Done\n",
            "==================================================\n",
            "num_of_nodes: 5\n",
            "6 5 -->  54.0\n",
            "6 Done\n",
            "==================================================\n",
            "num_of_nodes: 6\n",
            "7 6 -->  1.4142135623730951\n",
            "7 Not-Done\n",
            "==================================================\n",
            "num_of_nodes: 6\n",
            "8 6 -->  13.038404810405298\n",
            "8 Done\n",
            "==================================================\n",
            "num_of_nodes: 7\n",
            "9 8 -->  23.0\n",
            "9 Done\n",
            "==================================================\n",
            "num_of_nodes: 8\n",
            "10 9 -->  105.0\n",
            "10 Done\n",
            "==================================================\n",
            "{'type': 0, 'centroid': (124.0, 89.0)}\n",
            "Number of nodes now: 9\n",
            "Num of nodes after removing: 8\n"
          ]
        }
      ]
    },
    {
      "cell_type": "code",
      "source": [
        "def adding_door(boundary_graph, index, points):\n",
        "\n",
        "    door = df['front_door'][index]\n",
        "    nearest_edge = None\n",
        "    nearest_dist = float('inf')\n",
        "\n",
        "    dx = door.bounds[2] - door.bounds[0]\n",
        "    dy = door.bounds[3] - door.bounds[1]\n",
        "    door_oriantation_horizontal = dx > dy\n",
        "\n",
        "    for edge in boundary_graph.edges():\n",
        "        p1 = points[edge[0]]\n",
        "        p2 = points[edge[1]]\n",
        "\n",
        "        line = shapely.LineString([p1, p2])\n",
        "\n",
        "        # checking the oriantation of the lines.\n",
        "        p1x, p1y = p1.x, p1.y\n",
        "        p2x, p2y = p2.x, p2.y\n",
        "        dx = abs(p2x - p1x)\n",
        "        dy = abs(p2y - p1y)\n",
        "        line_oriantation_horizontal = dx > dy\n",
        "\n",
        "#         print(f'edge: {edge}, line is: {line_oriantation_horizontal}, door is: {door_oriantation_horizontal}')\n",
        "        if door_oriantation_horizontal == line_oriantation_horizontal:\n",
        "            # getting nearest - with same oriantation - edge\n",
        "            dist = door.distance(line)\n",
        "            if dist < nearest_dist:\n",
        "                nearest_dist = dist\n",
        "                nearest_edge = edge\n",
        "\n",
        "#     print(f'nearest is: {nearest_edge}')\n",
        "    boundary_graph.remove_edge(*nearest_edge)\n",
        "\n",
        "    door_ind = len(boundary_graph)\n",
        "    door_centroid = door.geoms[0].centroid\n",
        "    boundary_graph.add_node(door_ind, type=1, centroid=(door_centroid.x, door_centroid.y))\n",
        "\n",
        "    dist = door_centroid.distance(shapely.Point(boundary_graph.nodes[nearest_edge[0]]['centroid']))\n",
        "    boundary_graph.add_edge(nearest_edge[0], door_ind, distance=dist)\n",
        "\n",
        "    dist = door_centroid.distance(shapely.Point(boundary_graph.nodes[nearest_edge[1]]['centroid']))\n",
        "    boundary_graph.add_edge(nearest_edge[1], door_ind, distance=dist)\n",
        "\n",
        "    return boundary_graph"
      ],
      "metadata": {
        "id": "hexzUaCl062O"
      },
      "execution_count": null,
      "outputs": []
    },
    {
      "cell_type": "code",
      "source": [
        "def Handling_dubplicated_nodes(graph_index):\n",
        "    coords = df.inner[graph_index].geoms[0].exterior.coords[:]\n",
        "    # creating points:\n",
        "    points = []\n",
        "    for p in coords:\n",
        "        points.append(shapely.Point(p))\n",
        "\n",
        "    graph = nx.Graph()\n",
        "    # type of the node: 0 for boundary, 1 for front_door\n",
        "    graph.add_node(0, type=0, centroid=coords[0])\n",
        "\n",
        "    # to save the index if there is a node will not be added\n",
        "    current = 0\n",
        "    name = 1\n",
        "\n",
        "    for i in range(1, len(coords)):\n",
        "        dis = points[i].distance(points[current])\n",
        "        if dis >= 5:\n",
        "            # type of the node, edge = 0, front_door = 1\n",
        "            graph.add_node(name, type=0, centroid=coords[i])\n",
        "            current = i\n",
        "            name += 1\n",
        "\n",
        "    # Checking the distance between first and last node [if the distance is small, so we will consider them the same point]\n",
        "    nodes_names = list(graph.nodes)\n",
        "    first_node = shapely.Point(graph.nodes[nodes_names[0]]['centroid'])\n",
        "    last_node  = shapely.Point(graph.nodes[nodes_names[-1]]['centroid'])\n",
        "    if first_node.distance(last_node) <= 5:\n",
        "        graph.remove_node(nodes_names[-1])\n",
        "        nodes_names = list(graph.nodes)\n",
        "\n",
        "\n",
        "\n",
        "    points_of_current_graph = []\n",
        "    for node in graph:\n",
        "        points_of_current_graph.append(shapely.Point(graph.nodes[node]['centroid']))\n",
        "\n",
        "    # Adding edges between nodes.\n",
        "    for i in range(len(nodes_names)-1):\n",
        "        dis = points_of_current_graph[i].distance(points_of_current_graph[i+1])\n",
        "        graph.add_edge(nodes_names[i],nodes_names[i+1], distance=dis)\n",
        "\n",
        "    # Adding an edge between the last and the first nodes.\n",
        "    dis = points_of_current_graph[nodes_names[0]].distance(points_of_current_graph[nodes_names[-1]])\n",
        "\n",
        "    graph.add_edge(nodes_names[0], nodes_names[-1], distance=dis)\n",
        "\n",
        "    # adding the front door\n",
        "    graph = adding_door(graph, graph_index, points_of_current_graph)\n",
        "\n",
        "    return graph"
      ],
      "metadata": {
        "id": "gOAGk3Kk1C-n"
      },
      "execution_count": null,
      "outputs": []
    },
    {
      "cell_type": "code",
      "source": [
        "Graph_index = 1911\n",
        "G = createGraph(Graph_index)\n",
        "b = Handling_dubplicated_nodes(Graph_index)\n",
        "\n",
        "draw_graph_nodes(G);\n",
        "plot_plan_colored(Graph_index, df);\n",
        "draw_graph_boundary(b);"
      ],
      "metadata": {
        "colab": {
          "base_uri": "https://localhost:8080/",
          "height": 906
        },
        "id": "orGEMAwp1D5T",
        "outputId": "ef64a040-11d9-4dab-8e47-aaf6589511b3"
      },
      "execution_count": null,
      "outputs": [
        {
          "output_type": "display_data",
          "data": {
            "text/plain": [
              "<PIL.Image.Image image mode=RGB size=500x500>"
            ],
            "image/png": "[encoded data removed]"
          },
          "metadata": {}
        },
        {
          "output_type": "display_data",
          "data": {
            "text/plain": [
              "<Figure size 640x480 with 1 Axes>"
            ],
            "image/png": "[encoded data removed]"
          },
          "metadata": {}
        }
      ]
    },
    {
      "cell_type": "code",
      "source": [
        "G_living_to_all = createGraph(Graph_index, living_to_all=True)\n",
        "# b = Handling_dubplicated_nodes(Graph_index)\n",
        "\n",
        "draw_graph_nodes(G_living_to_all, living_to_all=True);\n",
        "draw_graph_boundary(b);"
      ],
      "metadata": {
        "colab": {
          "base_uri": "https://localhost:8080/",
          "height": 406
        },
        "id": "u7oXhCC01FYj",
        "outputId": "7aed3fe2-daf7-407f-8e8e-4a04ba44b149"
      },
      "execution_count": null,
      "outputs": [
        {
          "output_type": "display_data",
          "data": {
            "text/plain": [
              "<Figure size 640x480 with 1 Axes>"
            ],
            "image/png": "[encoded data removed]"
          },
          "metadata": {}
        }
      ]
    },
    {
      "cell_type": "code",
      "source": [
        "G_living_to_all = createGraph(Graph_index, living_to_all=True)\n",
        "# b = Handling_dubplicated_nodes(Graph_index)\n",
        "\n",
        "draw_graph_nodes(G_living_to_all, living_to_all=True);\n",
        "draw_graph_boundary(b);"
      ],
      "metadata": {
        "colab": {
          "base_uri": "https://localhost:8080/",
          "height": 406
        },
        "id": "yZCVmXE_3IAh",
        "outputId": "1fdd52d7-f555-468b-9e54-7ac3dea30b06"
      },
      "execution_count": null,
      "outputs": [
        {
          "output_type": "display_data",
          "data": {
            "text/plain": [
              "<Figure size 640x480 with 1 Axes>"
            ],
            "image/png": "[encoded data removed]"
          },
          "metadata": {}
        }
      ]
    },
    {
      "cell_type": "code",
      "source": [
        "G_all_conected = createGraph(Graph_index, all_conected=True)\n",
        "b = Handling_dubplicated_nodes(Graph_index)\n",
        "\n",
        "draw_graph_nodes(G_all_conected);\n",
        "draw_graph_boundary(b);"
      ],
      "metadata": {
        "colab": {
          "base_uri": "https://localhost:8080/",
          "height": 406
        },
        "id": "Zho1EGDK3LSG",
        "outputId": "f0fd2983-3cbe-4221-ec0e-59870113fea2"
      },
      "execution_count": null,
      "outputs": [
        {
          "output_type": "display_data",
          "data": {
            "text/plain": [
              "<Figure size 640x480 with 1 Axes>"
            ],
            "image/png": "[encoded data removed]"
          },
          "metadata": {}
        }
      ]
    },
    {
      "cell_type": "code",
      "source": [
        "type(df_rooms_polys_dict)"
      ],
      "metadata": {
        "colab": {
          "base_uri": "https://localhost:8080/",
          "height": 204
        },
        "id": "k9yK1m7Z2GVe",
        "outputId": "b84e7357-06cc-4070-f57b-353c6a18cc3b"
      },
      "execution_count": null,
      "outputs": [
        {
          "output_type": "execute_result",
          "data": {
            "text/plain": [
              "pandas.core.series.Series"
            ],
            "text/html": [
              "<div style=\"max-width:800px; border: 1px solid var(--colab-border-color);\"><style>\n",
              "      pre.function-repr-contents {\n",
              "        overflow-x: auto;\n",
              "        padding: 8px 12px;\n",
              "        max-height: 500px;\n",
              "      }\n",
              "\n",
              "      pre.function-repr-contents.function-repr-contents-collapsed {\n",
              "        cursor: pointer;\n",
              "        max-height: 100px;\n",
              "      }\n",
              "    </style>\n",
              "    <pre style=\"white-space: initial; background:\n",
              "         var(--colab-secondary-surface-color); padding: 8px 12px;\n",
              "         border-bottom: 1px solid var(--colab-border-color);\"><b>pandas.core.series.Series</b><br/>def __init__(data=None, index=None, dtype: Dtype | None=None, name=None, copy: bool | None=None, fastpath: bool=False) -&gt; None</pre><pre class=\"function-repr-contents function-repr-contents-collapsed\" style=\"\"><a class=\"filepath\" style=\"display:none\" href=\"#\">/usr/local/lib/python3.10/dist-packages/pandas/core/series.py</a>One-dimensional ndarray with axis labels (including time series).\n",
              "\n",
              "Labels need not be unique but must be a hashable type. The object\n",
              "supports both integer- and label-based indexing and provides a host of\n",
              "methods for performing operations involving the index. Statistical\n",
              "methods from ndarray have been overridden to automatically exclude\n",
              "missing data (currently represented as NaN).\n",
              "\n",
              "Operations between Series (+, -, /, \\*, \\*\\*) align values based on their\n",
              "associated index values-- they need not be the same length. The result\n",
              "index will be the sorted union of the two indexes.\n",
              "\n",
              "Parameters\n",
              "----------\n",
              "data : array-like, Iterable, dict, or scalar value\n",
              "    Contains data stored in Series. If data is a dict, argument order is\n",
              "    maintained.\n",
              "index : array-like or Index (1d)\n",
              "    Values must be hashable and have the same length as `data`.\n",
              "    Non-unique index values are allowed. Will default to\n",
              "    RangeIndex (0, 1, 2, ..., n) if not provided. If data is dict-like\n",
              "    and index is None, then the keys in the data are used as the index. If the\n",
              "    index is not None, the resulting Series is reindexed with the index values.\n",
              "dtype : str, numpy.dtype, or ExtensionDtype, optional\n",
              "    Data type for the output Series. If not specified, this will be\n",
              "    inferred from `data`.\n",
              "    See the :ref:`user guide &lt;basics.dtypes&gt;` for more usages.\n",
              "name : Hashable, default None\n",
              "    The name to give to the Series.\n",
              "copy : bool, default False\n",
              "    Copy input data. Only affects Series or 1d ndarray input. See examples.\n",
              "\n",
              "Notes\n",
              "-----\n",
              "Please reference the :ref:`User Guide &lt;basics.series&gt;` for more information.\n",
              "\n",
              "Examples\n",
              "--------\n",
              "Constructing Series from a dictionary with an Index specified\n",
              "\n",
              "&gt;&gt;&gt; d = {&#x27;a&#x27;: 1, &#x27;b&#x27;: 2, &#x27;c&#x27;: 3}\n",
              "&gt;&gt;&gt; ser = pd.Series(data=d, index=[&#x27;a&#x27;, &#x27;b&#x27;, &#x27;c&#x27;])\n",
              "&gt;&gt;&gt; ser\n",
              "a   1\n",
              "b   2\n",
              "c   3\n",
              "dtype: int64\n",
              "\n",
              "The keys of the dictionary match with the Index values, hence the Index\n",
              "values have no effect.\n",
              "\n",
              "&gt;&gt;&gt; d = {&#x27;a&#x27;: 1, &#x27;b&#x27;: 2, &#x27;c&#x27;: 3}\n",
              "&gt;&gt;&gt; ser = pd.Series(data=d, index=[&#x27;x&#x27;, &#x27;y&#x27;, &#x27;z&#x27;])\n",
              "&gt;&gt;&gt; ser\n",
              "x   NaN\n",
              "y   NaN\n",
              "z   NaN\n",
              "dtype: float64\n",
              "\n",
              "Note that the Index is first build with the keys from the dictionary.\n",
              "After this the Series is reindexed with the given Index values, hence we\n",
              "get all NaN as a result.\n",
              "\n",
              "Constructing Series from a list with `copy=False`.\n",
              "\n",
              "&gt;&gt;&gt; r = [1, 2]\n",
              "&gt;&gt;&gt; ser = pd.Series(r, copy=False)\n",
              "&gt;&gt;&gt; ser.iloc[0] = 999\n",
              "&gt;&gt;&gt; r\n",
              "[1, 2]\n",
              "&gt;&gt;&gt; ser\n",
              "0    999\n",
              "1      2\n",
              "dtype: int64\n",
              "\n",
              "Due to input data type the Series has a `copy` of\n",
              "the original data even though `copy=False`, so\n",
              "the data is unchanged.\n",
              "\n",
              "Constructing Series from a 1d ndarray with `copy=False`.\n",
              "\n",
              "&gt;&gt;&gt; r = np.array([1, 2])\n",
              "&gt;&gt;&gt; ser = pd.Series(r, copy=False)\n",
              "&gt;&gt;&gt; ser.iloc[0] = 999\n",
              "&gt;&gt;&gt; r\n",
              "array([999,   2])\n",
              "&gt;&gt;&gt; ser\n",
              "0    999\n",
              "1      2\n",
              "dtype: int64\n",
              "\n",
              "Due to input data type the Series has a `view` on\n",
              "the original data, so\n",
              "the data is changed as well.</pre>\n",
              "      <script>\n",
              "      if (google.colab.kernel.accessAllowed && google.colab.files && google.colab.files.view) {\n",
              "        for (const element of document.querySelectorAll('.filepath')) {\n",
              "          element.style.display = 'block'\n",
              "          element.onclick = (event) => {\n",
              "            event.preventDefault();\n",
              "            event.stopPropagation();\n",
              "            google.colab.files.view(element.textContent, 244);\n",
              "          };\n",
              "        }\n",
              "      }\n",
              "      for (const element of document.querySelectorAll('.function-repr-contents')) {\n",
              "        element.onclick = (event) => {\n",
              "          event.preventDefault();\n",
              "          event.stopPropagation();\n",
              "          element.classList.toggle('function-repr-contents-collapsed');\n",
              "        };\n",
              "      }\n",
              "      </script>\n",
              "      </div>"
            ]
          },
          "metadata": {},
          "execution_count": 28
        }
      ]
    },
    {
      "cell_type": "code",
      "source": [
        "len(df_rooms_polys_dict[1])"
      ],
      "metadata": {
        "colab": {
          "base_uri": "https://localhost:8080/"
        },
        "id": "LqLs_k07682b",
        "outputId": "4e6510ee-3c4f-439b-87c4-5612ef0e0dd4"
      },
      "execution_count": null,
      "outputs": [
        {
          "output_type": "execute_result",
          "data": {
            "text/plain": [
              "14"
            ]
          },
          "metadata": {},
          "execution_count": 34
        }
      ]
    },
    {
      "cell_type": "code",
      "source": [
        "for idx in tqdm(range(len(df_rooms_polys_dict))):\n",
        "  print(idx)"
      ],
      "metadata": {
        "id": "dL1RifI-7IHw"
      },
      "execution_count": null,
      "outputs": []
    },
    {
      "cell_type": "code",
      "source": [
        "graph_index = df_rooms_polys_dict[5]"
      ],
      "metadata": {
        "id": "l2ABBB7173Nn"
      },
      "execution_count": null,
      "outputs": []
    },
    {
      "cell_type": "code",
      "source": [
        "graph_index"
      ],
      "metadata": {
        "colab": {
          "base_uri": "https://localhost:8080/"
        },
        "id": "oPya4Swd7-iF",
        "outputId": "8e2eab4b-95f3-4271-8f51-acb54bb03811"
      },
      "execution_count": null,
      "outputs": [
        {
          "output_type": "execute_result",
          "data": {
            "text/plain": [
              "{'living': [<POLYGON ((95 91, 95 101, 114 101, 115 102, 115 192, 169 192, 169 119, 170 1...>],\n",
              " 'master': [<POLYGON ((95 107, 95 132, 94 133, 64 133, 64 192, 109 192, 109 107, 95 107))>],\n",
              " 'kitchen': [<POLYGON ((157 55, 157 101, 183 101, 183 55, 157 55))>],\n",
              " 'bathroom': [<POLYGON ((175 124, 175 144, 216 144, 216 124, 175 124))>,\n",
              "  <POLYGON ((64 91, 64 127, 89 127, 89 91, 64 91))>],\n",
              " 'dining': [],\n",
              " 'child': [],\n",
              " 'study': [],\n",
              " 'second_room': [<POLYGON ((40 44, 40 85, 109 85, 109 44, 40 44))>,\n",
              "  <POLYGON ((115 34, 115 85, 151 85, 151 34, 115 34))>],\n",
              " 'guest': [],\n",
              " 'balcony': [<POLYGON ((111 198, 111 222, 169 222, 169 198, 111 198))>],\n",
              " 'storage': [],\n",
              " 'entrance': [],\n",
              " 'front_door': [<POLYGON ((187 102, 187 106, 201 106, 201 102, 187 102))>],\n",
              " 'interior': [<POLYGON ((126 193, 126 197, 150 197, 150 193, 126 193))>,\n",
              "  <POLYGON ((176 119, 176 123, 190 123, 190 119, 176 119))>,\n",
              "  <POLYGON ((94 102, 94 105, 93 106, 90 106, 90 128, 94 128, 94 107, 95 106, 1...>,\n",
              "  <POLYGON ((152 89, 152 103, 156 103, 156 89, 152 89))>,\n",
              "  <POLYGON ((113 86, 113 90, 127 90, 127 86, 113 86))>,\n",
              "  <POLYGON ((96 86, 96 90, 110 90, 110 86, 96 86))>]}"
            ]
          },
          "metadata": {},
          "execution_count": 39
        }
      ]
    },
    {
      "cell_type": "code",
      "source": [
        "createGraph(5)"
      ],
      "metadata": {
        "colab": {
          "base_uri": "https://localhost:8080/"
        },
        "id": "mQ6IhRrQ7Qrb",
        "outputId": "4ec1fe5d-7789-4b39-dfc4-e0615b9d12ec"
      },
      "execution_count": null,
      "outputs": [
        {
          "output_type": "execute_result",
          "data": {
            "text/plain": [
              "<networkx.classes.graph.Graph at 0x7f16eeb6a650>"
            ]
          },
          "metadata": {},
          "execution_count": 37
        }
      ]
    },
    {
      "cell_type": "code",
      "source": [
        "Graphs_real = []\n",
        "Graphs_living_to_all = []\n",
        "Graphs_all_conected = []\n",
        "boundaries = []\n",
        "\n",
        "for idx in tqdm(range(len(df_rooms_polys_dict))):\n",
        "    # graph as real floot plan\n",
        "    graph_index = idx\n",
        "    G_real = createGraph(graph_index)\n",
        "\n",
        "    # graph with connecting only living with all geoms\n",
        "    G_living_to_all = createGraph(graph_index, living_to_all=True)\n",
        "\n",
        "    # graph with each room connected to all others\n",
        "    G_all_conected = createGraph(graph_index, all_conected=True)\n",
        "\n",
        "    # graph of the boundary\n",
        "    b = Handling_dubplicated_nodes(idx)\n",
        "\n",
        "    Graphs_real.append(G)\n",
        "    Graphs_living_to_all.append(G_living_to_all)\n",
        "    Graphs_all_conected.append(G_all_conected)\n",
        "    boundaries.append(b)"
      ],
      "metadata": {
        "colab": {
          "base_uri": "https://localhost:8080/"
        },
        "id": "XB8ZXC5a1H9b",
        "outputId": "6a78f825-326c-4a1f-f8ee-5e33d666f7f4"
      },
      "execution_count": null,
      "outputs": [
        {
          "output_type": "stream",
          "name": "stderr",
          "text": [
            "100%|██████████| 80787/80787 [21:25<00:00, 62.83it/s]\n"
          ]
        }
      ]
    },
    {
      "cell_type": "code",
      "source": [
        "path = '/content/drive/MyDrive/RPlanify_dataset'\n",
        "if not os.path.exists(path):\n",
        "    os.makedirs(path)\n",
        "\n",
        "print(os.getcwd())"
      ],
      "metadata": {
        "colab": {
          "base_uri": "https://localhost:8080/"
        },
        "id": "UwVKf4mj1MTl",
        "outputId": "4f74d744-4768-446c-f8e5-ab1ab5710021"
      },
      "execution_count": null,
      "outputs": [
        {
          "output_type": "stream",
          "name": "stdout",
          "text": [
            "/content\n"
          ]
        }
      ]
    },
    {
      "cell_type": "code",
      "source": [
        "with open('/content/drive/MyDrive/RPlanify_dataset/graphs/Graphs_real.pkl', 'wb') as f:\n",
        "    pickle.dump(Graphs_real, f)\n"
      ],
      "metadata": {
        "id": "eKMpBFhA855B"
      },
      "execution_count": null,
      "outputs": []
    },
    {
      "cell_type": "code",
      "source": [
        "with open('/content/drive/MyDrive/RPlanify_dataset/graphs/Graphs_living_to_all.pkl', 'wb') as f:\n",
        "    pickle.dump(Graphs_real, f)"
      ],
      "metadata": {
        "id": "G07Tygme8-cN"
      },
      "execution_count": null,
      "outputs": []
    },
    {
      "cell_type": "code",
      "source": [
        "with open('/content/drive/MyDrive/RPlanify_dataset/graphs/Graphs_all_conected.pkl', 'wb') as f:\n",
        "    pickle.dump(Graphs_all_conected, f)"
      ],
      "metadata": {
        "id": "Dq8iy77P8_4Z"
      },
      "execution_count": null,
      "outputs": []
    },
    {
      "cell_type": "code",
      "source": [
        "with open('/content/drive/MyDrive/RPlanify_dataset/graphs/boundaries.pkl', 'wb') as f:\n",
        "    pickle.dump(boundaries, f)"
      ],
      "metadata": {
        "id": "7VqQkJBP9Beh"
      },
      "execution_count": null,
      "outputs": []
    },
    {
      "cell_type": "code",
      "source": [
        "!pip install distinctipy -q\n",
        "!pip install torch_geometric"
      ],
      "metadata": {
        "colab": {
          "base_uri": "https://localhost:8080/"
        },
        "id": "GFCpGf_29cb3",
        "outputId": "cba9634a-3af3-4d99-98fb-d3045c3d558a"
      },
      "execution_count": null,
      "outputs": [
        {
          "output_type": "stream",
          "name": "stdout",
          "text": [
            "Collecting torch_geometric\n",
            "  Downloading torch_geometric-2.5.2-py3-none-any.whl (1.1 MB)\n",
            "\u001b[2K     \u001b[90m━━━━━━━━━━━━━━━━━━━━━━━━━━━━━━━━━━━━━━━━\u001b[0m \u001b[32m1.1/1.1 MB\u001b[0m \u001b[31m18.4 MB/s\u001b[0m eta \u001b[36m0:00:00\u001b[0m\n",
            "\u001b[?25hRequirement already satisfied: tqdm in /usr/local/lib/python3.10/dist-packages (from torch_geometric) (4.66.2)\n",
            "Requirement already satisfied: numpy in /usr/local/lib/python3.10/dist-packages (from torch_geometric) (1.25.2)\n",
            "Requirement already satisfied: scipy in /usr/local/lib/python3.10/dist-packages (from torch_geometric) (1.11.4)\n",
            "Requirement already satisfied: fsspec in /usr/local/lib/python3.10/dist-packages (from torch_geometric) (2023.6.0)\n",
            "Requirement already satisfied: jinja2 in /usr/local/lib/python3.10/dist-packages (from torch_geometric) (3.1.3)\n",
            "Requirement already satisfied: aiohttp in /usr/local/lib/python3.10/dist-packages (from torch_geometric) (3.9.3)\n",
            "Requirement already satisfied: requests in /usr/local/lib/python3.10/dist-packages (from torch_geometric) (2.31.0)\n",
            "Requirement already satisfied: pyparsing in /usr/local/lib/python3.10/dist-packages (from torch_geometric) (3.1.2)\n",
            "Requirement already satisfied: scikit-learn in /usr/local/lib/python3.10/dist-packages (from torch_geometric) (1.2.2)\n",
            "Requirement already satisfied: psutil>=5.8.0 in /usr/local/lib/python3.10/dist-packages (from torch_geometric) (5.9.5)\n",
            "Requirement already satisfied: aiosignal>=1.1.2 in /usr/local/lib/python3.10/dist-packages (from aiohttp->torch_geometric) (1.3.1)\n",
            "Requirement already satisfied: attrs>=17.3.0 in /usr/local/lib/python3.10/dist-packages (from aiohttp->torch_geometric) (23.2.0)\n",
            "Requirement already satisfied: frozenlist>=1.1.1 in /usr/local/lib/python3.10/dist-packages (from aiohttp->torch_geometric) (1.4.1)\n",
            "Requirement already satisfied: multidict<7.0,>=4.5 in /usr/local/lib/python3.10/dist-packages (from aiohttp->torch_geometric) (6.0.5)\n",
            "Requirement already satisfied: yarl<2.0,>=1.0 in /usr/local/lib/python3.10/dist-packages (from aiohttp->torch_geometric) (1.9.4)\n",
            "Requirement already satisfied: async-timeout<5.0,>=4.0 in /usr/local/lib/python3.10/dist-packages (from aiohttp->torch_geometric) (4.0.3)\n",
            "Requirement already satisfied: MarkupSafe>=2.0 in /usr/local/lib/python3.10/dist-packages (from jinja2->torch_geometric) (2.1.5)\n",
            "Requirement already satisfied: charset-normalizer<4,>=2 in /usr/local/lib/python3.10/dist-packages (from requests->torch_geometric) (3.3.2)\n",
            "Requirement already satisfied: idna<4,>=2.5 in /usr/local/lib/python3.10/dist-packages (from requests->torch_geometric) (3.6)\n",
            "Requirement already satisfied: urllib3<3,>=1.21.1 in /usr/local/lib/python3.10/dist-packages (from requests->torch_geometric) (2.0.7)\n",
            "Requirement already satisfied: certifi>=2017.4.17 in /usr/local/lib/python3.10/dist-packages (from requests->torch_geometric) (2024.2.2)\n",
            "Requirement already satisfied: joblib>=1.1.1 in /usr/local/lib/python3.10/dist-packages (from scikit-learn->torch_geometric) (1.3.2)\n",
            "Requirement already satisfied: threadpoolctl>=2.0.0 in /usr/local/lib/python3.10/dist-packages (from scikit-learn->torch_geometric) (3.4.0)\n",
            "Installing collected packages: torch_geometric\n",
            "Successfully installed torch_geometric-2.5.2\n"
          ]
        }
      ]
    },
    {
      "cell_type": "code",
      "source": [
        "# for data wrangling\n",
        "import pickle\n",
        "import networkx as nx\n",
        "import matplotlib.pyplot as plt\n",
        "import numpy as np\n",
        "import distinctipy\n",
        "import random\n",
        "from torch_geometric.utils import from_networkx\n",
        "\n",
        "# to show advance in for loops\n",
        "from tqdm import tqdm\n",
        "\n",
        "# Using pytorch geometric\n",
        "import torch\n",
        "import torch.nn as nn\n",
        "from torch_geometric.loader import DataLoader\n",
        "from torch_geometric.data import Data, Batch\n",
        "from torch.utils.data import Dataset\n",
        "import torch_geometric.transforms as T\n",
        "\n",
        "\n",
        "# For the GNN model\n",
        "import torch.nn.functional as F\n",
        "from torch_geometric.nn import GCNConv, GATConv, global_mean_pool, global_max_pool\n",
        "\n",
        "url = \"/content/drive/MyDrive/RPlanify_dataset/graphs/Graphs_real.pkl\""
      ],
      "metadata": {
        "id": "0UxgSTmq9clK"
      },
      "execution_count": null,
      "outputs": []
    },
    {
      "cell_type": "code",
      "source": [
        "geoms_columns = ['inner', 'living', 'master', 'kitchen', 'bathroom', 'dining', 'child', 'study',\n",
        "                   'second_room', 'guest', 'balcony', 'storage', 'wall-in',\n",
        "                    'outer_wall', 'front', 'inner_wall', 'interior',\n",
        "                   'front_door', 'outer_wall', 'entrance']\n",
        "\n",
        "N = len(geoms_columns)\n",
        "colors = (np.array(distinctipy.get_colors(N)) * 255).astype(np.uint8)\n",
        "room_color = {room_name: colors[i] for i, room_name in enumerate(geoms_columns)}"
      ],
      "metadata": {
        "id": "yhLS8RoA9csz"
      },
      "execution_count": null,
      "outputs": []
    },
    {
      "cell_type": "code",
      "source": [
        "def draw_graph(G):\n",
        "    #  nodes positions for drawing, note that we invert the y pos\n",
        "    pos = {node: (G.nodes[node]['actualCentroid_x'], -G.nodes[node]['actualCentroid_y']) for node in G.nodes}\n",
        "\n",
        "    scales = [G.nodes[node]['roomSize'] * 10000 for node in G]\n",
        "    colormap = [room_color[G.nodes[node]['roomType_name']]/255 for node in G]\n",
        "\n",
        "    nx.draw(G, pos=pos, node_size=scales, node_color=colormap, with_labels=True, font_size=12)\n",
        "\n",
        "    # Drawing the graph inside a good boundary.\n",
        "    x_coords  = [pos[node][0] for node in pos]\n",
        "    y_coords  = [pos[node][1] for node in pos]\n",
        "    threshold = max(scales) / 100\n",
        "\n",
        "    plt.xlim(min(x_coords) - threshold, max(x_coords) + threshold)\n",
        "    plt.ylim(min(y_coords) - threshold, max(y_coords) + threshold)\n",
        "\n",
        "\n",
        "def collate_fn(graphs_list):\n",
        "    batch = Batch.from_data_list([Data.from_(g) for g in graphs_list])\n",
        "    return batch"
      ],
      "metadata": {
        "id": "ckUujejN-aWF"
      },
      "execution_count": null,
      "outputs": []
    },
    {
      "cell_type": "code",
      "source": [
        "with open(url, 'rb') as f:\n",
        "    Graphs = pickle.load(f)\n",
        "\n",
        "G = Graphs[1911]\n",
        "print(G)\n",
        "draw_graph(G)"
      ],
      "metadata": {
        "colab": {
          "base_uri": "https://localhost:8080/",
          "height": 533
        },
        "id": "84D3lriF-c3N",
        "outputId": "a7829659-eb31-45e2-d725-4fcc2ee1f4f9"
      },
      "execution_count": null,
      "outputs": [
        {
          "output_type": "stream",
          "name": "stdout",
          "text": [
            "Graph with 8 nodes and 13 edges\n"
          ]
        },
        {
          "output_type": "display_data",
          "data": {
            "text/plain": [
              "<Figure size 640x480 with 1 Axes>"
            ],
            "image/png": "[encoded data removed]"
          },
          "metadata": {}
        }
      ]
    },
    {
      "cell_type": "code",
      "source": [
        "features = ['actualCentroid_x', 'actualCentroid_y', 'rec_w', 'rec_h', 'roomSize']\n"
      ],
      "metadata": {
        "id": "bF4TafUF-eCQ"
      },
      "execution_count": null,
      "outputs": []
    },
    {
      "cell_type": "code",
      "source": [
        "# Converting networkx graphs to pytorchGeo graphs\n",
        "Graphs_pyTorch = []\n",
        "for G in tqdm(Graphs):\n",
        "    G_new = from_networkx(G, group_node_attrs=features)\n",
        "    # Normalizing feature matrix (x)\n",
        "    G_new = T.NormalizeFeatures()(G_new)\n",
        "\n",
        "    Graphs_pyTorch.append(G_new)\n",
        "\n",
        "Graphs_pyTorch[0]"
      ],
      "metadata": {
        "colab": {
          "base_uri": "https://localhost:8080/"
        },
        "id": "jUr1dPZC-gNM",
        "outputId": "f452d20f-7267-468f-c10d-3d79a78b7b64"
      },
      "execution_count": null,
      "outputs": [
        {
          "output_type": "stream",
          "name": "stderr",
          "text": [
            "100%|██████████| 80787/80787 [01:55<00:00, 697.08it/s]\n"
          ]
        },
        {
          "output_type": "execute_result",
          "data": {
            "text/plain": [
              "Data(edge_index=[2, 26], roomType_name=[8], roomType_embd=[8], distance=[26], x=[8, 5])"
            ]
          },
          "metadata": {},
          "execution_count": 59
        }
      ]
    },
    {
      "cell_type": "code",
      "source": [
        "print(f'Befor: G_1 embedings are: {Graphs_pyTorch[1].roomType_embd}')\n",
        "for G in tqdm(Graphs_pyTorch, total=len(Graphs_pyTorch)):\n",
        "    for j ,value in enumerate(G.roomType_embd):\n",
        "        if value in [1, 4, 5, 6, 7, 8]:\n",
        "            G.roomType_embd[j] = 1\n",
        "\n",
        "        # making all labels from 0 to 6 only to help one_hotting\n",
        "        elif value == 9:\n",
        "            G.roomType_embd[j] = 4\n",
        "        elif value == 10:\n",
        "            G.roomType_embd[j] = 5\n",
        "        elif value == 11:\n",
        "            G.roomType_embd[j] = 6\n",
        "print(f'After: G_1 embedings are: {Graphs_pyTorch[1].roomType_embd}')"
      ],
      "metadata": {
        "colab": {
          "base_uri": "https://localhost:8080/"
        },
        "id": "b0qaGhFu-hxs",
        "outputId": "0ab24fa1-fc5d-4ae5-da0c-fd4ea996d69b"
      },
      "execution_count": null,
      "outputs": [
        {
          "output_type": "stream",
          "name": "stdout",
          "text": [
            "Befor: G_1 embedings are: tensor([0, 1, 3, 4, 5, 7, 2, 3])\n"
          ]
        },
        {
          "output_type": "stream",
          "name": "stderr",
          "text": [
            "100%|██████████| 80787/80787 [00:30<00:00, 2661.60it/s]"
          ]
        },
        {
          "output_type": "stream",
          "name": "stdout",
          "text": [
            "After: G_1 embedings are: tensor([0, 1, 3, 1, 1, 1, 2, 3])\n"
          ]
        },
        {
          "output_type": "stream",
          "name": "stderr",
          "text": [
            "\n"
          ]
        }
      ]
    },
    {
      "cell_type": "code",
      "source": [
        "# # but we need to do some padding to our graphs to be all of the same number of nodes.\n",
        "# padded_graphs = []\n",
        "# for G in Graphs_pyTorch:\n",
        "#     x          = G.x\n",
        "#     y          = G.roomType_embd\n",
        "#     edge_index = G.edge_index\n",
        "#     edge_attr  = G.edge_attr\n",
        "\n",
        "#     nu_nodes = x.shape[0]\n",
        "\n",
        "#     padded_x = torch.nn.functional.pad(x, pad=(0, 0, 0, 8 - nu_nodes), mode='constant', value=0)\n",
        "#     padded_y = torch.nn.functional.pad(y, pad=(0, 8 - nu_nodes), mode='constant', value=0)\n",
        "#     train_mask   = torch.ones(nu_nodes)\n",
        "#     train_mask   = torch.nn.functional.pad(train_mask, pad=(0, 8 - nu_nodes), mode='constant', value=0).to(bool)\n",
        "\n",
        "#     data = Data(x = padded_x, y = padded_y, edge_index= G.edge_index, edge_attr = G.edge_attr, train_mask=train_mask)\n",
        "\n",
        "#     padded_graphs.append(data)\n",
        "\n",
        "# padded_graphs[0]"
      ],
      "metadata": {
        "id": "1KWS7ii--kGk"
      },
      "execution_count": null,
      "outputs": []
    },
    {
      "cell_type": "code",
      "source": [
        "class Planify_Dataset(Dataset):\n",
        "    def __init__(self, data):\n",
        "        self.Graphs = data\n",
        "\n",
        "    def __len__(self):\n",
        "        return len(self.Graphs)\n",
        "\n",
        "    def __getitem__(self, index):\n",
        "        G = self.Graphs[index].clone()\n",
        "        # shuffling nodes inside the same graph\n",
        "        permutation = torch.randperm(G.num_nodes)\n",
        "\n",
        "        G.x = G.x[permutation]\n",
        "        G.edge_index = permutation[G.edge_index]\n",
        "        G.roomType_embd = G.roomType_embd[permutation]\n",
        "        # padded_x = torch.nn.functional.pad(x, pad=(0, 0, 0, 8 - nu_nodes), mode='constant', value=0)\n",
        "        # padded_y = torch.nn.functional.pad(y, pad=(0, 8 - nu_nodes), mode='constant', value=0)\n",
        "\n",
        "        return G"
      ],
      "metadata": {
        "id": "SbPb9rwF-mxg"
      },
      "execution_count": null,
      "outputs": []
    },
    {
      "cell_type": "code",
      "source": [
        "\n",
        "batch_size = 128\n",
        "dataset = Planify_Dataset(Graphs_pyTorch[1:])\n",
        "loader  = DataLoader(dataset, batch_size=batch_size, shuffle=True)"
      ],
      "metadata": {
        "id": "MPLsuHym-qf-"
      },
      "execution_count": null,
      "outputs": []
    },
    {
      "cell_type": "code",
      "source": [
        "class GCN(torch.nn.Module):\n",
        "    def __init__(self, input_channels, hidden_channels, nu_classes):\n",
        "        super().__init__()\n",
        "        self.gc1 = GATConv(input_channels, hidden_channels, heads=8)\n",
        "        self.gc2 = GATConv(hidden_channels * 8, hidden_channels * 8, heads=8)\n",
        "        self.gc3 = GATConv(hidden_channels * 8 * 8, hidden_channels * 8, heads=8)\n",
        "\n",
        "        self.fc1 = nn.Linear(hidden_channels * 8 * 8, nu_classes * 8)\n",
        "        self.fc2 = nn.Linear(nu_classes * 8, nu_classes)\n",
        "\n",
        "        self.Classifier = nn.Linear(nu_classes, nu_classes)\n",
        "\n",
        "    def forward(self, data):\n",
        "        x, edge_index = data.x, data.edge_index\n",
        "\n",
        "        x = self.gc1(x, edge_index)\n",
        "        x = x.relu()\n",
        "        # x = F.dropout(x, training=self.training)\n",
        "\n",
        "        x = self.gc2(x, edge_index)\n",
        "        x = x.relu()\n",
        "        # x = F.dropout(x, training=self.training)\n",
        "\n",
        "        x = self.gc3(x, edge_index)\n",
        "        x = x.relu()\n",
        "\n",
        "        x = self.fc1(x)\n",
        "        x = x.relu()\n",
        "\n",
        "        x = self.fc2(x)\n",
        "        x = x.relu()\n",
        "\n",
        "        x = self.Classifier(x)\n",
        "        x = self.Classifier(x)\n",
        "\n",
        "        return x.relu()\n",
        "\n",
        "\n",
        "\n",
        "nu_features    = Graphs_pyTorch[0].x.shape[0]\n",
        "# number_classes = 12 # there is 12 distict classes in our dataset\n",
        "number_classes = 7 # if we consider all rooms has the same label = 1\n",
        "\n",
        "\n",
        "model = GCN(nu_features, hidden_channels=16, nu_classes=number_classes)\n",
        "device = torch.device('cuda' if torch.cuda.is_available() else 'cpu')\n",
        "model = model.to(device)\n",
        "\n",
        "\n",
        "# to monitor the loss & accuracy.\n",
        "errors = []\n",
        "acc = []\n",
        "model"
      ],
      "metadata": {
        "colab": {
          "base_uri": "https://localhost:8080/"
        },
        "id": "hFVSd_25-tT3",
        "outputId": "ffcec87a-c9a7-4816-c9cb-a27040b86d79"
      },
      "execution_count": null,
      "outputs": [
        {
          "output_type": "execute_result",
          "data": {
            "text/plain": [
              "GCN(\n",
              "  (gc1): GATConv(8, 16, heads=8)\n",
              "  (gc2): GATConv(128, 128, heads=8)\n",
              "  (gc3): GATConv(1024, 128, heads=8)\n",
              "  (fc1): Linear(in_features=1024, out_features=56, bias=True)\n",
              "  (fc2): Linear(in_features=56, out_features=7, bias=True)\n",
              "  (Classifier): Linear(in_features=7, out_features=7, bias=True)\n",
              ")"
            ]
          },
          "metadata": {},
          "execution_count": 63
        }
      ]
    },
    {
      "cell_type": "code",
      "source": [
        "# Hyperparameters\n",
        "learning_rate = 0.001\n",
        "nu_epochs = 100\n",
        "\n",
        "optimizer = torch.optim.Adam(model.parameters(), lr=learning_rate)\n",
        "criterion = torch.nn.CrossEntropyLoss()\n",
        "\n",
        "scheduler = torch.optim.lr_scheduler.StepLR(optimizer, step_size=20, gamma=0.972)\n",
        "\n",
        "# def scheduler(epoch, lr)\n",
        "#     if epoch < 20:\n",
        "#         return lr\n",
        "#     else:\n",
        "#         return lr * 0.99"
      ],
      "metadata": {
        "id": "GG0p6Wfj-vGo"
      },
      "execution_count": null,
      "outputs": []
    },
    {
      "cell_type": "code",
      "source": [
        "# Saving model function\n",
        "import os\n",
        "\n",
        "# checkpoint_dir = '/kaggle/working/checkpoints'\n",
        "# checkpoint_dir = '/media/mo/DATA/Grad/Planify_Dataset/Graph/checkpoints'\n",
        "checkpoint_dir = \"./checkpoints\"\n",
        "\n",
        "if not os.path.exists(checkpoint_dir):\n",
        "    os.makedirs(checkpoint_dir)\n",
        "\n",
        "\n",
        "def save_checkpoint(model, optimizer, epoch):\n",
        "    checkpoint_path = os.path.join(checkpoint_dir, f'model_epoch_{epoch}.pt')\n",
        "    # Saving model each 15 epochs\n",
        "    if epoch % 20 == 0:\n",
        "        torch.save({\n",
        "            'model_state_dict': model.state_dict(),\n",
        "            'optimizer_state_dict': optimizer.state_dict(),\n",
        "            'epoch': epoch\n",
        "        }, checkpoint_path)\n",
        "\n",
        "        print('Model saved :)')"
      ],
      "metadata": {
        "id": "VFaNzMlx-w0P"
      },
      "execution_count": null,
      "outputs": []
    },
    {
      "cell_type": "code",
      "source": [
        "for epoch in range(nu_epochs):\n",
        "    running_loss = 0.0\n",
        "    train_acc    = 0.0\n",
        "    for i, data in tqdm(enumerate(loader), desc='Planifying', total=len(loader)):\n",
        "        optimizer.zero_grad()\n",
        "\n",
        "        # Forward pass\n",
        "        logits    = model(data.to(device)).to(device)\n",
        "\n",
        "        # print(logits.shape)\n",
        "        # one_hot_y = F.one_hot(data.roomType_embd, num_classes=number_classes).float()\n",
        "        # computing loss through crossEntropy loss function\n",
        "        loss = criterion(logits, data.roomType_embd)\n",
        "\n",
        "        # Backward pass\n",
        "        loss.backward()\n",
        "\n",
        "        # Updating parameters\n",
        "        optimizer.step()\n",
        "        # current_lr = optimizer.param_groups[0]['lr']\n",
        "        # optimizer = torch.optim.Adam(model.parameters(), lr=scheduler(epoch, current_lr))\n",
        "\n",
        "        # Monitoring\n",
        "        running_loss += loss.item()\n",
        "        train_acc += (torch.argmax(logits, 1).flatten() == data.roomType_embd).type(torch.float).mean().item()\n",
        "        lr = optimizer.param_groups[0]['lr']\n",
        "\n",
        "\n",
        "    print(data.roomType_embd[:10])\n",
        "    print(torch.argmax(logits, 1)[:10])\n",
        "\n",
        "    errors.append(running_loss/batch_size)\n",
        "    acc.append(train_acc/batch_size)\n",
        "\n",
        "    # Updating scheduler each 15 epochs.\n",
        "    scheduler.step()\n",
        "\n",
        "    # Saving the model.\n",
        "    save_checkpoint(model, optimizer, epoch)\n",
        "\n",
        "    # Monitoring and printing.\n",
        "    batch_size = len(loader)\n",
        "    print(f'Epoch: {epoch + 1}/{nu_epochs} | lr: {lr} | avg_loss: {running_loss/batch_size:.5f} | training_acc: {train_acc/batch_size * 100:.5f}%')"
      ],
      "metadata": {
        "id": "qI2n32wG-0an"
      },
      "execution_count": null,
      "outputs": []
    },
    {
      "cell_type": "code",
      "source": [
        "# plt.plot(errors);\n",
        "plt.plot(acc, label='accuracy');\n",
        "plt.plot(errors, label='error');\n",
        "plt.xlabel('Epochs')\n",
        "plt.title('Monitoring the model')\n",
        "plt.legend();"
      ],
      "metadata": {
        "id": "-CiuBs3M-36I"
      },
      "execution_count": null,
      "outputs": []
    },
    {
      "cell_type": "code",
      "source": [
        "idx = random.randint(0, len(Graphs_pyTorch))\n",
        "G = Graphs_pyTorch[idx].to(device)\n",
        "logits = model(G)\n",
        "predicts = torch.argmax(logits, 1)\n",
        "\n",
        "print(f'The real values: {G.roomType_embd}')\n",
        "print(f'Predicted values: {predicts}')"
      ],
      "metadata": {
        "id": "sYAxgrgY-5yv"
      },
      "execution_count": null,
      "outputs": []
    },
    {
      "cell_type": "code",
      "source": [
        "# Not included packages in kaggle\n",
        "\n",
        "# Install torch_geometric\n",
        "# !pip install /kaggle/input/torch-geometric/torch_sparse-0.6.16-cp37-cp37m-linux_x86_64.whl -q\n",
        "# !pip install /kaggle/input/torch-geometric/torch_scatter-2.1.0-cp37-cp37m-linux_x86_64.whl -q\n",
        "\n",
        "# # # library for getting distinct colores\n",
        "# !pip install distinctipy -q\n",
        "# for data wrangling\n",
        "import pickle\n",
        "import networkx as nx\n",
        "import matplotlib.pyplot as plt\n",
        "import numpy as np\n",
        "import pandas as pd\n",
        "import distinctipy\n",
        "from torch_geometric.utils import from_networkx\n",
        "\n",
        "# to show advance in for loops\n",
        "from tqdm import tqdm\n",
        "\n",
        "# Using pytorch geometric\n",
        "import torch\n",
        "import torch.nn as nn\n",
        "from torch_geometric.loader import DataLoader\n",
        "from torch_geometric.data import Data, Batch\n",
        "from torch.utils.data import Dataset\n",
        "import torch_geometric.transforms as T\n",
        "\n",
        "\n",
        "# For the GNN model\n",
        "import torch.nn.functional as F\n",
        "from torch_geometric.nn import GATConv\n",
        "\n",
        "# for my pc\n",
        "url_living_to_all = \"D:\\Grad\\Planify_Dataset\\Planify_Graphs_Scaled\\Graphs_living_to_all.pkl\"\n",
        "url_boundary = r\"D:\\Grad\\Planify_Dataset\\Planify_Graphs_Scaled\\boundaries.pkl\"\n",
        "\n",
        "# # for kaggle\n",
        "# url_real = \"/kaggle/input/planify-graphs-all-forms/graphs/Graphs_real.pkl\"\n",
        "# url_boundary = \"/kaggle/input/planify-graphs-all-forms/graphs/boundaries.pkl\""
      ],
      "metadata": {
        "id": "tef_kxJi_HfV"
      },
      "execution_count": null,
      "outputs": []
    },
    {
      "cell_type": "code",
      "source": [
        "geoms_columns = ['inner', 'living', 'master', 'kitchen', 'bathroom', 'dining', 'child', 'study',\n",
        "                   'second_room', 'guest', 'balcony', 'storage', 'wall-in',\n",
        "                    'outer_wall', 'front', 'inner_wall', 'interior',\n",
        "                   'front_door', 'outer_wall', 'entrance']\n",
        "\n",
        "N = len(geoms_columns)\n",
        "colors = (np.array(distinctipy.get_colors(N)) * 255).astype(np.uint8)\n",
        "room_color = {room_name: colors[i] for i, room_name in enumerate(geoms_columns)}"
      ],
      "metadata": {
        "id": "wRoSFkS5_M-O"
      },
      "execution_count": null,
      "outputs": []
    },
    {
      "cell_type": "code",
      "source": [
        "\n",
        "def draw_graph_nodes(G, living_to_all=False):\n",
        "    #  nodes positions for drawing, note that we invert the y pos\n",
        "    pos = {node: (G.nodes[node]['actualCentroid_x'], -G.nodes[node]['actualCentroid_y']) for node in G.nodes}\n",
        "\n",
        "    scales = [G.nodes[node]['roomSize'] * 10000 for node in G]\n",
        "    color_map = [room_color[G.nodes[node]['roomType_name']]/255 for node in G]\n",
        "    edge_labels = nx.get_edge_attributes(G, 'distance')\n",
        "\n",
        "\n",
        "    nx.draw_networkx_nodes(G, pos=pos, node_size=scales, node_color=color_map);\n",
        "    nx.draw_networkx_edges(G, pos=pos, edge_color='b');\n",
        "    nx.draw_networkx_labels(G, pos=pos, font_size=8);\n",
        "\n",
        "    if living_to_all:\n",
        "        nx.draw_networkx_edge_labels(G, pos=pos, edge_labels=edge_labels)\n",
        "\n",
        "\n",
        "    # # Drawing the graph inside a good boundary.\n",
        "    # x_coords  = [pos[node][0] for node in pos]\n",
        "    # y_coords  = [pos[node][1] for node in pos]\n",
        "    # threshold = max(scales) / 100\n",
        "\n",
        "    # plt.xlim(min(x_coords) - threshold, max(x_coords) + threshold)\n",
        "    plt.xlim(-10, 266)\n",
        "    plt.ylim(-266, 10)\n",
        "\n",
        "def draw_graph_boundary(G):\n",
        "    #  nodes positions for drawing, note that we invert the y pos\n",
        "    pos = {node: (G.nodes[node]['centroid'][0], -G.nodes[node]['centroid'][1])  for node in G.nodes}\n",
        "\n",
        "    door_color = '#90EE90'\n",
        "    other_nodes_color = '#0A2A5B'\n",
        "    color_map = [door_color if G.nodes[node]['type'] == 1 else other_nodes_color for node in G.nodes]\n",
        "\n",
        "    # nx.draw(G, pos=pos, with_labels=True, node_color=color_map, font_color='w', font_size=12)\n",
        "    nx.draw_networkx_nodes(G, pos=pos, node_size=150, node_color=color_map);\n",
        "    nx.draw_networkx_edges(G, pos=pos)\n",
        "\n",
        "    plt.xlim(-10, 266)\n",
        "    plt.ylim(-266, 10)\n",
        "\n",
        "# For statistics\n",
        "def get_max_min_x_y(graphs):\n",
        "    max_x = 0\n",
        "    max_y = 0\n",
        "    min_x = float('inf')\n",
        "    min_y = float('inf')\n",
        "\n",
        "    for G in tqdm(graphs, desc=\"Getting maximum x, y\", total=len(graphs)):\n",
        "        max_x_in_graph = G.x.T[1].max().item()\n",
        "        max_y_in_graph = G.x.T[2].max().item()\n",
        "\n",
        "        min_x_in_graph = G.x.T[1].min().item()\n",
        "        min_y_in_graph = G.x.T[2].min().item()\n",
        "\n",
        "        if max_x_in_graph > max_x:\n",
        "            max_x = max_x_in_graph\n",
        "        if max_y_in_graph > max_y:\n",
        "            max_y = max_y_in_graph\n",
        "\n",
        "        if min_x_in_graph < min_x:\n",
        "            min_x = min_x_in_graph\n",
        "        if min_y_in_graph < min_y:\n",
        "            min_y = min_y_in_graph\n",
        "\n",
        "    values = {'max_x': max_x, 'max_y': max_y, 'min_x': min_x, 'min_y': min_y}\n",
        "    return values\n",
        "\n",
        "def get_all_x_y(graphs):\n",
        "    \"\"\"Get all values of x and y from all graphs\n",
        "        Input: list of graphs\n",
        "        Output: x and y as pandas series\n",
        "    \"\"\"\n",
        "    x = []\n",
        "    y = []\n",
        "    for i, G in tqdm(enumerate(graphs), desc=\"getting all Xs, Ys\", total=len(graphs)):\n",
        "        for i in range(len(G.x)):\n",
        "            x.append(G.x[i][1].item())\n",
        "            y.append(G.x[i][2].item())\n",
        "\n",
        "\n",
        "    x = pd.Series(x)\n",
        "    y = pd.Series(y)\n",
        "\n",
        "    return x, y\n",
        "\n",
        "def boxplot_centrValues(x, y):\n",
        "    fig, ax = plt.subplots()\n",
        "\n",
        "    # Plot the boxplots\n",
        "    ax.boxplot([x, y])\n",
        "\n",
        "    # Set the xtick labels\n",
        "    ax.set_xticklabels(['x', 'y'])\n",
        "\n",
        "    # Add axis labels and title\n",
        "    ax.set_xlabel('Data')\n",
        "    ax.set_ylabel('Value')\n",
        "    ax.set_title('Boxplot of x and y in all graphs')\n",
        "\n",
        "    # Show the plot\n",
        "    plt.show()\n",
        "\n",
        "def plot_histograms(x, y):\n",
        "    x.hist(density=True, bins=100, alpha=0.6, label='x');\n",
        "    y.hist(density=True, bins=100, alpha=0.3, label='y');\n",
        "    plt.legend();\n",
        "    plt.title('Distribution of x and y');"
      ],
      "metadata": {
        "id": "I5qT7an-_Pn6"
      },
      "execution_count": null,
      "outputs": []
    },
    {
      "cell_type": "code",
      "source": [
        "with open(url_living_to_all, 'rb') as f:\n",
        "    Graphs = pickle.load(f)\n",
        "\n",
        "G = Graphs[1911]\n",
        "print(G)"
      ],
      "metadata": {
        "id": "SVJ-P8Uu_Zsa"
      },
      "execution_count": null,
      "outputs": []
    },
    {
      "cell_type": "code",
      "source": [
        "with open(url_boundary, 'rb') as f:\n",
        "    boundaries = pickle.load(f)\n",
        "\n",
        "b = boundaries[1911]\n",
        "print(b)"
      ],
      "metadata": {
        "id": "ql0JhFsK_a61"
      },
      "execution_count": null,
      "outputs": []
    },
    {
      "cell_type": "code",
      "source": [
        "draw_graph_boundary(b)\n",
        "draw_graph_nodes(G)"
      ],
      "metadata": {
        "id": "4Jw1w145_d-X"
      },
      "execution_count": null,
      "outputs": []
    },
    {
      "cell_type": "code",
      "source": [
        "def convert_networkx_Graphs_to_pyTorchGraphs(G):\n",
        "    \"\"\" Converting networkx graphs to pytorchGeo graphs\n",
        "    \"\"\"\n",
        "    features = ['roomType_embd', 'actualCentroid_x', 'actualCentroid_y']\n",
        "    G_new = from_networkx(G, group_node_attrs=features, group_edge_attrs=['distance'])\n",
        "    return G_new\n",
        "\n",
        "Graphs_pyTorch = list(map(convert_networkx_Graphs_to_pyTorchGraphs, Graphs))\n",
        "\n",
        "Graphs_pyTorch[0]"
      ],
      "metadata": {
        "id": "0x1wpFUd_foW"
      },
      "execution_count": null,
      "outputs": []
    },
    {
      "cell_type": "code",
      "source": [
        "\n",
        "def convert_networkx_Boundaries_to_pyTorchGraphs(b):\n",
        "    \"\"\"Converting networkx boundary graphs to PyTorchGeo graphs\n",
        "    \"\"\"\n",
        "    b_new = from_networkx(b, group_node_attrs=['type', 'centroid'], group_edge_attrs=['distance'])\n",
        "    return b_new\n",
        "\n",
        "Boundaries_pyTorch = list(map(convert_networkx_Boundaries_to_pyTorchGraphs, boundaries))\n",
        "\n",
        "Boundaries_pyTorch[0]"
      ],
      "metadata": {
        "id": "_S-hMsLx_gud"
      },
      "execution_count": null,
      "outputs": []
    },
    {
      "cell_type": "code",
      "source": [
        "G_x, G_y = get_all_x_y(Graphs_pyTorch)\n",
        "G_x.max(), G_y.max(), G_x.min(), G_y.min()"
      ],
      "metadata": {
        "id": "v-BzP07l_iOK"
      },
      "execution_count": null,
      "outputs": []
    },
    {
      "cell_type": "code",
      "source": [
        "boxplot_centrValues(G_x, G_y)\n",
        "plot_histograms(G_x, G_y)\n",
        "\n",
        "print(\"And we saw the box plots so there is no outliers, and the distribution is normal\")\n",
        "G_x_mean = G_x.mean()\n",
        "G_y_mean = G_y.mean()\n",
        "G_x_std  = G_x.std()\n",
        "G_y_std  = G_y.std()\n",
        "print(\"We will use z-score normalization\")"
      ],
      "metadata": {
        "id": "9SA8ekhv_kE8"
      },
      "execution_count": null,
      "outputs": []
    },
    {
      "cell_type": "code",
      "source": [
        "print(f'Befor: G_1 embedings are: {Graphs_pyTorch[1].x}')\n",
        "for G in tqdm(Graphs_pyTorch, total=len(Graphs_pyTorch)):\n",
        "    for j ,value in enumerate(G.x):\n",
        "        type_ = int(value[0].item())\n",
        "\n",
        "        if type_ in [1, 4, 5, 6, 7, 8]:\n",
        "            G.x[j][0] = 1\n",
        "\n",
        "        # making all labels from 0 to 6 only to help one_hotting\n",
        "        elif type_ == 9:\n",
        "            G.x[j][0] = 4\n",
        "        elif type_ == 10:\n",
        "            G.x[j][0] = 5\n",
        "        elif type_ == 11:\n",
        "            G.x[j][0] = 6\n",
        "\n",
        "\n",
        "print(f'After: G_1 embedings are: {Graphs_pyTorch[1].x}')"
      ],
      "metadata": {
        "id": "VG_C92D__oiA"
      },
      "execution_count": null,
      "outputs": []
    },
    {
      "cell_type": "code",
      "source": [
        "\n",
        "for G in tqdm(Graphs_pyTorch, total=len(Graphs_pyTorch)):\n",
        "\n",
        "    # Making tensor of means = [x_mean, y_mean] & tensor of stds = [x_std, y_std].\n",
        "    # We could make a tensor of ones = [rows, 2] then multiply it by the means, But we directly\n",
        "    # multiply the means using the idea of \"Broadcasting\".\n",
        "    G.x[:, 1:] = (G.x[:, 1:] - torch.tensor([G_x_mean, G_y_mean])) / torch.tensor([G_x_std, G_y_std])\n",
        "\n",
        "    # One hot encoding for the first column [type of rooms]\n",
        "    first_column_encodings = F.one_hot(G.x[:, 0].long(), 7)\n",
        "\n",
        "    G.x = torch.cat([first_column_encodings, G.x[:, 1:]], axis=1)"
      ],
      "metadata": {
        "id": "j11cqqXK_qZZ"
      },
      "execution_count": null,
      "outputs": []
    },
    {
      "cell_type": "code",
      "source": [
        "\n",
        "return_to_real = Graphs_pyTorch[1].x[:, [-2, -1]] * torch.tensor([G_x_std, G_y_std]) + torch.Tensor([G_x_mean, G_y_mean])\n",
        "print(f\"Now, we could return back to real values: \\n{return_to_real}\")"
      ],
      "metadata": {
        "id": "Rb_Q0FkT_r3t"
      },
      "execution_count": null,
      "outputs": []
    },
    {
      "cell_type": "code",
      "source": [
        "\n",
        "B_x, B_y = get_all_x_y(Boundaries_pyTorch)\n",
        "B_x.max(), B_y.max(), B_x.min(), B_y.min()"
      ],
      "metadata": {
        "id": "9KN5uAGY_tXJ"
      },
      "execution_count": null,
      "outputs": []
    },
    {
      "cell_type": "code",
      "source": [
        "boxplot_centrValues(B_x, B_y)"
      ],
      "metadata": {
        "id": "SpcV4RR2_uz5"
      },
      "execution_count": null,
      "outputs": []
    },
    {
      "cell_type": "code",
      "source": [
        "# print(f\"Maximun x: {max_x}, Maximum y: {max_y}, Minimum x: {min_x}, Minimum y: {min_y}\")\n",
        "print(\"And we saw the box plots so there is no outliers, and the distribution is normal\")\n",
        "B_x_mean = B_x.mean()\n",
        "B_y_mean = B_y.mean()\n",
        "B_x_std  = B_x.std()\n",
        "B_y_std  = B_y.std()\n",
        "print(\"We will use z-score normalization\")"
      ],
      "metadata": {
        "id": "u1VERunK_wnL"
      },
      "execution_count": null,
      "outputs": []
    },
    {
      "cell_type": "code",
      "source": [
        "for b in tqdm(Boundaries_pyTorch, total=len(Boundaries_pyTorch)):\n",
        "\n",
        "    # Making tensor of means = [x_mean, y_mean] & tensor of stds = [x_std, y_std].\n",
        "    # We could make a tensor of ones = [rows, 2] then multiply it by the means, But we directly\n",
        "    # multiply the means using the idea of \"Broadcasting\".\n",
        "    b.x[:, 1:] = (b.x[:, 1:] - torch.tensor([B_x_mean, B_y_mean])) / torch.tensor([B_x_std, B_y_std])"
      ],
      "metadata": {
        "id": "s_fllTsk_zah"
      },
      "execution_count": null,
      "outputs": []
    },
    {
      "cell_type": "code",
      "source": [
        "\n",
        "return_to_real = Boundaries_pyTorch[1].x[:, [-2, -1]] * torch.tensor([B_x_std, B_y_std]) + torch.Tensor([B_x_mean, B_y_mean])\n",
        "print(f\"Now, we could return back to real values: \\n{return_to_real}\")"
      ],
      "metadata": {
        "id": "YQqarm_k_10s"
      },
      "execution_count": null,
      "outputs": []
    },
    {
      "cell_type": "code",
      "source": [
        "class Planify_Dataset(Dataset):\n",
        "    def __init__(self, Graphs, Boundaries):\n",
        "        self.Graphs = Graphs\n",
        "        self.Boundaries = Boundaries\n",
        "        self.device = torch.device('cuda' if torch.cuda.is_available() else 'cpu')\n",
        "\n",
        "    def __len__(self):\n",
        "        return len(self.Graphs)\n",
        "\n",
        "    def __getitem__(self, index):\n",
        "        G = self.Graphs[index].clone().to(self.device)\n",
        "        B = self.Boundaries[index].clone().to(self.device)\n",
        "        B.x = B.x.to(G.x.dtype)\n",
        "        B.edge_index = B.edge_index.to(G.edge_index.dtype)\n",
        "        B.edge_attr = B.edge_attr.to(G.edge_attr.dtype)\n",
        "\n",
        "        # shuffling nodes inside the same graph\n",
        "        # permutation = torch.randperm(G.num_nodes).to(self.device)\n",
        "\n",
        "        # G.x = G.x[permutation]\n",
        "        # G.edge_index = permutation[G.edge_index]\n",
        "        # G.rec_w = G.rec_w[permutation]\n",
        "        # G.rec_h = G.rec_h[permutation]\n",
        "        # G.edge_attr = G.edge_attr[permutation]\n",
        "\n",
        "        # padded_x = torch.nn.functional.pad(x, pad=(0, 0, 0, 8 - nu_nodes), mode='constant', value=0)\n",
        "        # padded_y = torch.nn.functional.pad(y, pad=(0, 8 - nu_nodes), mode='constant', value=0)\n",
        "        graphs = {\n",
        "            'G': G,\n",
        "            'B': B\n",
        "        }\n",
        "\n",
        "        return graphs"
      ],
      "metadata": {
        "id": "czcsHrYg_4T9"
      },
      "execution_count": null,
      "outputs": []
    },
    {
      "cell_type": "code",
      "source": [
        "edge = int(len(Graphs_pyTorch) * 0.8)\n"
      ],
      "metadata": {
        "id": "vvUNV-wO_54d"
      },
      "execution_count": null,
      "outputs": []
    },
    {
      "cell_type": "code",
      "source": [
        "batch_size = 32\n",
        "train_dataset = Planify_Dataset(Graphs_pyTorch[:edge], Boundaries_pyTorch[:edge])\n",
        "train_loader  = DataLoader(train_dataset, batch_size=batch_size, shuffle=True)\n",
        "\n",
        "val_dataset = Planify_Dataset(Graphs_pyTorch[edge:-10], Boundaries_pyTorch[edge:-10])\n",
        "val_loader  = DataLoader(val_dataset, batch_size=batch_size, shuffle=True)\n",
        "\n",
        "test_dataset = Planify_Dataset(Graphs_pyTorch[-10:], Boundaries_pyTorch[-10:])\n",
        "test_loader  = DataLoader(test_dataset, batch_size=batch_size, shuffle=True)\n",
        "\n",
        "print(f\"Train dataset: {len(train_dataset)}, Val dataset: {len(val_dataset)}, Test dataset: {len(test_dataset)}\")"
      ],
      "metadata": {
        "id": "BSAnzBhN_9WH"
      },
      "execution_count": null,
      "outputs": []
    },
    {
      "cell_type": "code",
      "source": [
        "# Saving model function\n",
        "import os\n",
        "\n",
        "checkpoint_dir = \"/content/drive/MyDrive/RPlanify_dataset/checkpoints\"\n",
        "\n",
        "if not os.path.exists(checkpoint_dir):\n",
        "    os.makedirs(checkpoint_dir)\n",
        "\n",
        "\n",
        "def save_checkpoint(model, optimizer, epoch):\n",
        "    checkpoint_path = os.path.join(checkpoint_dir, f'Best_model_V3.pt')\n",
        "    torch.save({\n",
        "        'model_state_dict': model.state_dict(),\n",
        "        'optimizer_state_dict': optimizer.state_dict(),\n",
        "        'epoch': epoch\n",
        "    }, checkpoint_path)\n",
        "\n",
        "    print('Model saved :)')"
      ],
      "metadata": {
        "id": "1s4sAMHB__aV"
      },
      "execution_count": null,
      "outputs": []
    },
    {
      "cell_type": "code",
      "source": [
        "class GATNet(torch.nn.Module):\n",
        "    def __init__(self, num_graph_node_features, num_boundary_node_features):\n",
        "        super(GATNet, self).__init__()\n",
        "\n",
        "        self.graph_conv1 = GATConv(num_graph_node_features, 32, heads=4)\n",
        "\n",
        "        input_of_conv2   = num_graph_node_features + 32*4\n",
        "        self.graph_conv2 = GATConv(input_of_conv2, 32, heads=8)\n",
        "\n",
        "        input_of_conv3   = num_graph_node_features + 32*8\n",
        "        self.graph_conv3 = GATConv(input_of_conv3, 64, heads=8)\n",
        "\n",
        "        input_of_conv4   = num_graph_node_features + 64*8\n",
        "        self.graph_conv4 = GATConv(input_of_conv4, 128, heads=8)\n",
        "        # self.graph_conv5 = GATConv(128*8, 128, heads=8)\n",
        "        # self.graph_conv6 = GATConv(128*8, 128, heads=16)\n",
        "        # self.graph_conv7 = GATConv(128*16, 256, heads=16)\n",
        "        # self.graph_conv8 = GATConv(256*16, 256, heads=16)\n",
        "        shape_of_graphs_befor_concatination = num_graph_node_features + 128*8\n",
        "\n",
        "        self.boundary_conv1 = GATConv(num_boundary_node_features, 32, heads=4)\n",
        "        input_of_boundary_conv2 = 32*4 + num_boundary_node_features\n",
        "        self.boundary_conv2 = GATConv(input_of_boundary_conv2, 32, heads=8)\n",
        "        # self.boundary_conv3 = GATConv(32*8, 64, heads=8)\n",
        "        # self.boundary_conv4 = GATConv(64*8, 128, heads=8)\n",
        "        # self.boundary_conv5 = GATConv(128*8, 128, heads=8)\n",
        "        shape_of_boundary_befor_concatination = num_boundary_node_features + 32 * 8\n",
        "\n",
        "        # Output of graph_conv8 + output of boundary_conv5 + 2 step connection from real nodes and boundary nodes\n",
        "        inputs_concatination = shape_of_graphs_befor_concatination + shape_of_boundary_befor_concatination\n",
        "        self.Concatination1  = GATConv(inputs_concatination, 128, heads=8)\n",
        "        # self.Concatination2  = GATConv(128*8, 64, heads=8)\n",
        "        # self.Concatination3  = GATConv(64*8, 64, heads=8)\n",
        "        # self.Concatination4  = GATConv(64*8, 32, heads=8)\n",
        "        # self.Concatination5  = GATConv(32*8, 32*4)\n",
        "\n",
        "        # self.lin1 = nn.Linear(inputs_concatination, 256)\n",
        "        # self.lin2 = nn.Linear(256, 32)\n",
        "\n",
        "        self.width_layer1  = nn.Linear(128*8, 128)\n",
        "        self.height_layer1 = nn.Linear(128*8, 128)\n",
        "\n",
        "        # self.width_layer2  = nn.Linear(256, 128)\n",
        "        # self.height_layer2 = nn.Linear(256, 128)\n",
        "\n",
        "        # self.width_layer3  = nn.Linear(128, 32)\n",
        "        # self.height_layer3 = nn.Linear(128, 32)\n",
        "\n",
        "        # self.width_layer4  = nn.Linear(32, 8)\n",
        "        # self.height_layer4 = nn.Linear(32, 8)\n",
        "\n",
        "        self.width_output  = nn.Linear(128, 1)\n",
        "        self.height_output = nn.Linear(128, 1)\n",
        "\n",
        "\n",
        "        self.dropout = torch.nn.Dropout(0.2)\n",
        "\n",
        "    def forward(self, graph, boundary):\n",
        "        x_graph, g_edge_index, g_edge_attr, g_batch = graph.x, graph.edge_index, graph.edge_attr, graph.batch\n",
        "        x_boundary, b_edge_indexy, b_edge_attr, b_batch = boundary.x, boundary.edge_index, boundary.edge_attr, boundary.batch\n",
        "\n",
        "        NUM_OF_NODES = x_graph.shape[0]\n",
        "        # During testing, as we input only one graph.\n",
        "        if g_batch == None:\n",
        "            g_batch = torch.zeros(x_graph.shape[0], dtype=torch.long)\n",
        "        if b_batch == None:\n",
        "            b_batch = torch.zeros(x_boundary.shape[0], dtype=torch.long)\n",
        "\n",
        "\n",
        "        x_graph_res = x_graph\n",
        "        x_boundary_res = x_boundary\n",
        "\n",
        "        # Passing the graph throught a message passing to embed its features\n",
        "        x_graph = F.leaky_relu(self.graph_conv1(x_graph, g_edge_index, g_edge_attr))\n",
        "        x_graph = self.dropout(x_graph) # Concatinate with step connection from real values.\n",
        "        x_graph = torch.cat([x_graph, x_graph_res], dim=1)\n",
        "\n",
        "\n",
        "        x_graph = F.leaky_relu(self.graph_conv2(x_graph, g_edge_index, g_edge_attr))\n",
        "        x_graph = self.dropout(x_graph)\n",
        "        x_graph = torch.cat([x_graph, x_graph_res], dim=1)\n",
        "\n",
        "        x_graph = F.leaky_relu(self.graph_conv3(x_graph, g_edge_index))\n",
        "        x_graph = self.dropout(x_graph)\n",
        "        x_graph = torch.cat([x_graph, x_graph_res], dim=1)\n",
        "\n",
        "        x_graph = F.leaky_relu(self.graph_conv4(x_graph, g_edge_index))\n",
        "        x_graph = self.dropout(x_graph)\n",
        "        x_graph = torch.cat([x_graph, x_graph_res], dim=1)\n",
        "\n",
        "        # x_graph = F.leaky_relu(self.graph_conv5(x_graph, g_edge_index))\n",
        "        # x_graph = F.leaky_relu(self.graph_conv6(x_graph, g_edge_index))\n",
        "        # x_graph = self.dropout(x_graph)\n",
        "        # x_graph = F.leaky_relu(self.graph_conv7(x_graph, g_edge_index))\n",
        "        # x_graph = F.leaky_relu(self.graph_conv8(x_graph, g_edge_index))\n",
        "        # x_graph = self.dropout(x_graph)\n",
        "\n",
        "\n",
        "        # Passing the boundary throught a message passing to embed its features\n",
        "        x_boundary = F.leaky_relu(self.boundary_conv1(x_boundary, b_edge_indexy, b_edge_attr))\n",
        "        x_boundary = self.dropout(x_boundary)\n",
        "        x_boundary = torch.cat([x_boundary, x_boundary_res], dim=1)\n",
        "\n",
        "        x_boundary = F.leaky_relu(self.boundary_conv2(x_boundary, b_edge_indexy, b_edge_attr))\n",
        "        x_boundary = self.dropout(x_boundary)\n",
        "        x_boundary = torch.cat([x_boundary, x_boundary_res], dim=1)\n",
        "\n",
        "        # x_boundary = F.leaky_relu(self.boundary_conv3(x_boundary, b_edge_indexy))\n",
        "        # x_boundary = self.dropout(x_boundary)\n",
        "        # x_boundary = F.leaky_relu(self.boundary_conv4(x_boundary, b_edge_indexy))\n",
        "        # x_boundary = F.leaky_relu(self.boundary_conv5(x_boundary, b_edge_indexy))\n",
        "        # x_boundary = self.dropout(x_boundary)\n",
        "\n",
        "        # Pooling the bounadry to 1D vector by getting max value in each feature for all nodes.\n",
        "        x_boundary_pooled = F.max_pool1d(x_boundary.transpose(0, 1), kernel_size=x_boundary.shape[0]).view(1, -1)\n",
        "\n",
        "        # Concatinating the graph & the boundary\n",
        "        x = torch.cat([x_graph, x_boundary_pooled.repeat(NUM_OF_NODES, 1)], dim=1)\n",
        "        x = F.leaky_relu(self.Concatination1(x, g_edge_index))\n",
        "        x = self.dropout(x)\n",
        "        # x = F.leaky_relu(self.Concatination2(x, g_edge_index))\n",
        "        # x = self.dropout(x)\n",
        "        # x = F.leaky_relu(self.Concatination3(x, g_edge_index))\n",
        "        # x = self.dropout(x)\n",
        "        # x = F.leaky_relu(self.Concatination4(x, g_edge_index))\n",
        "        # x = self.dropout(x)\n",
        "        # x = F.leaky_relu(self.Concatination5(x, g_edge_index))\n",
        "        # x = self.dropout(x)\n",
        "\n",
        "        # x = F.leaky_relu(self.lin1(x))\n",
        "        # x = self.dropout(x)\n",
        "        # x = F.leaky_relu(self.lin2(x))\n",
        "        # x = self.dropout(x)\n",
        "\n",
        "\n",
        "        width = F.leaky_relu(self.width_layer1(x))\n",
        "        # width = F.leaky_relu(self.width_layer2(width))\n",
        "        # width = F.leaky_relu(self.width_layer3(width))\n",
        "        # width = F.leaky_relu(self.width_layer4(width))\n",
        "        width = self.dropout(width)\n",
        "        width = self.width_output(width)\n",
        "\n",
        "        height = F.leaky_relu(self.height_layer1(x))\n",
        "        # height = F.leaky_relu(self.height_layer2(height))\n",
        "        # height = F.leaky_relu(self.height_layer3(height))\n",
        "        # height = F.leaky_relu(self.height_layer4(height))\n",
        "        height = self.dropout(height)\n",
        "        height = self.height_output(height)\n",
        "\n",
        "        return width.squeeze(), height.squeeze()\n",
        "\n",
        "num_graph_node_features = Graphs_pyTorch[0].x.shape[1]\n",
        "num_boundary_node_features = Boundaries_pyTorch[0].x.shape[1]\n",
        "\n",
        "model = GATNet(num_graph_node_features, num_boundary_node_features)\n",
        "\n",
        "device = torch.device('cuda' if torch.cuda.is_available() else 'cpu')\n",
        "model = model.to(device)\n",
        "\n",
        "# to monitor the loss & accuracy.\n",
        "errors = []\n",
        "acc = []\n",
        "\n",
        "model"
      ],
      "metadata": {
        "id": "EVfDxJVEADfN"
      },
      "execution_count": null,
      "outputs": []
    },
    {
      "cell_type": "code",
      "source": [
        "def train(model, optimizer, criterion, train_loader):\n",
        "    model.train()\n",
        "    running_loss = 0.0\n",
        "    for i, data in enumerate(train_loader):\n",
        "        optimizer.zero_grad()\n",
        "        # Forward pass\n",
        "        graph, boundary = data['G'], data['B']\n",
        "\n",
        "        width, height    = model(graph, boundary)\n",
        "\n",
        "        width_loss = criterion(width, graph.rec_w)\n",
        "        height_loss = criterion(height, graph.rec_h)\n",
        "\n",
        "        loss = width_loss + height_loss\n",
        "\n",
        "        # Backward pass\n",
        "        loss.backward()\n",
        "\n",
        "        # Updating parameters\n",
        "        optimizer.step()\n",
        "\n",
        "        # Monitoring\n",
        "        running_loss += loss.item()\n",
        "\n",
        "    return running_loss / len(train_loader)\n",
        "\n",
        "\n",
        "def evaluate(model, criterion, val_loader):\n",
        "    model.eval()\n",
        "    running_loss = 0.0\n",
        "    with torch.no_grad():\n",
        "        for data in val_loader:\n",
        "            graph, boundary = data['G'], data['B']\n",
        "            width, height    = model(graph, boundary)\n",
        "            width_loss = criterion(width, graph.rec_w)\n",
        "            height_loss = criterion(height, graph.rec_h)\n",
        "\n",
        "            loss = width_loss + height_loss\n",
        "            running_loss += loss.item()\n",
        "\n",
        "    return running_loss / len(val_loader)"
      ],
      "metadata": {
        "id": "s0v3t9kdAFRD"
      },
      "execution_count": null,
      "outputs": []
    },
    {
      "cell_type": "code",
      "source": [
        "from copy import deepcopy\n",
        "\n",
        "# Hyperparameters\n",
        "learning_rate = 0.001\n",
        "num_epochs = 250\n",
        "patience = 10 # Number of epochs to wait if validation loss doesn't improve\n",
        "best_val_loss = float('inf')\n",
        "\n",
        "counter = 0\n",
        "\n",
        "optimizer = torch.optim.Adam(model.parameters(), lr=learning_rate, weight_decay=3e-5)\n",
        "criterion = nn.MSELoss()\n",
        "scheduler = torch.optim.lr_scheduler.StepLR(optimizer, step_size=1, gamma=0.950)"
      ],
      "metadata": {
        "id": "iN5Yq3CwAHI1"
      },
      "execution_count": null,
      "outputs": []
    },
    {
      "cell_type": "code",
      "source": [
        "# Notice\n",
        "train_losses = []\n",
        "val_losses = []"
      ],
      "metadata": {
        "id": "WALjlAd7AIKY"
      },
      "execution_count": null,
      "outputs": []
    },
    {
      "cell_type": "code",
      "source": [
        "for epoch in range(num_epochs):\n",
        "    # Training loop\n",
        "    train_loss = train(model, optimizer, criterion, train_loader)\n",
        "    train_losses.append(train_loss)\n",
        "\n",
        "    # Evaluation loop\n",
        "    print('Validating ...')\n",
        "    val_loss = evaluate(model, criterion, val_loader)\n",
        "    val_losses.append(val_loss)\n",
        "\n",
        "    # Printing and monitoring\n",
        "    print(f'Epoch [{epoch + 1}/{num_epochs}], Train Loss: {train_loss:.4f}, Validation Loss: {val_loss:.4f}')\n",
        "\n",
        "\n",
        "    # Early stopping\n",
        "    if val_loss < best_val_loss:\n",
        "        best_val_loss = val_loss\n",
        "        best_model = deepcopy(model)\n",
        "        save_checkpoint(best_model, optimizer, epoch)\n",
        "        counter = 0\n",
        "\n",
        "    else:\n",
        "        counter += 1\n",
        "        if counter >= patience:\n",
        "            print(f'Validation loss did not improve for {patience} epochs. Stopping early.')\n",
        "            break\n",
        "        if counter in range(2, 20, 2):\n",
        "            scheduler.step()\n",
        "            print(f\"Learning rate decreased!, now is {optimizer.state_dict()['param_groups'][0]['lr']}\")"
      ],
      "metadata": {
        "id": "jL5sc4m8AKqp"
      },
      "execution_count": null,
      "outputs": []
    },
    {
      "cell_type": "code",
      "source": [
        "counter = 0\n",
        "for epoch in range(num_epochs):\n",
        "    # Training loop\n",
        "    train_loss = train(model, optimizer, criterion, train_loader)\n",
        "    train_losses.append(train_loss)\n",
        "\n",
        "    # Evaluation loop\n",
        "    print('Validating ...')\n",
        "    val_loss = evaluate(model, criterion, val_loader)\n",
        "    val_losses.append(val_loss)\n",
        "\n",
        "    # Printing and monitoring\n",
        "    print(f'Epoch [{epoch + 1}/{num_epochs}], Train Loss: {train_loss:.4f}, Validation Loss: {val_loss:.4f}')\n",
        "\n",
        "\n",
        "    # Early stopping\n",
        "    if val_loss < best_val_loss:\n",
        "        best_val_loss = val_loss\n",
        "        best_model = deepcopy(model)\n",
        "        save_checkpoint(best_model, optimizer, epoch)\n",
        "        counter = 0\n",
        "\n",
        "    else:\n",
        "        counter += 1\n",
        "        if counter >= patience:\n",
        "            print(f'Validation loss did not improve for {patience} epochs. Stopping early.')\n",
        "            break\n",
        "        if counter in range(2, 20, 2):\n",
        "            scheduler.step()\n",
        "            print(f\"Learning rate decreased!, now is {optimizer.state_dict()['param_groups'][0]['lr']}\")"
      ],
      "metadata": {
        "id": "ZyxM7vH7ANp5"
      },
      "execution_count": null,
      "outputs": []
    },
    {
      "cell_type": "code",
      "source": [
        "counter = 0\n",
        "for epoch in range(num_epochs):\n",
        "    # Training loop\n",
        "    train_loss = train(model, optimizer, criterion, train_loader)\n",
        "    train_losses.append(train_loss)\n",
        "\n",
        "    # Evaluation loop\n",
        "    print('Validating ...')\n",
        "    val_loss = evaluate(model, criterion, val_loader)\n",
        "    val_losses.append(val_loss)\n",
        "\n",
        "    # Printing and monitoring\n",
        "    print(f'Epoch [{epoch + 1}/{num_epochs}], Train Loss: {train_loss:.4f}, Validation Loss: {val_loss:.4f}')\n",
        "\n",
        "\n",
        "    # Early stopping\n",
        "    if val_loss < best_val_loss:\n",
        "        best_val_loss = val_loss\n",
        "        best_model = deepcopy(model)\n",
        "        save_checkpoint(best_model, optimizer, epoch)\n",
        "        counter = 0\n",
        "\n",
        "    else:\n",
        "        counter += 1\n",
        "        if counter >= patience:\n",
        "            print(f'Validation loss did not improve for {patience} epochs. Stopping early.')\n",
        "            break\n",
        "        if counter in range(2, 20, 2):\n",
        "            scheduler.step()\n",
        "            print(f\"Learning rate decreased!, now is {optimizer.state_dict()['param_groups'][0]['lr']}\")"
      ],
      "metadata": {
        "id": "n6hj5rZWAP3A"
      },
      "execution_count": null,
      "outputs": []
    },
    {
      "cell_type": "code",
      "source": [
        "plt.plot(train_losses, label=f'Best training    loss: {min(train_losses):.0f}');\n",
        "plt.plot(val_losses, label=f'Best validation loss: {min(val_losses):.0f}');\n",
        "plt.legend();"
      ],
      "metadata": {
        "id": "YM2Wl7q_ARM4"
      },
      "execution_count": null,
      "outputs": []
    },
    {
      "cell_type": "code",
      "source": [
        "checkpoint_path = r\"D:\\Grad\\Best models\\v3_UnScalled\\Best_model_V3.pt\"\n",
        "checkpoint = torch.load(checkpoint_path)\n",
        "\n",
        "optimizer = torch.optim.Adam(model.parameters(), lr=0.001)\n",
        "\n",
        "\n",
        "model.load_state_dict(checkpoint['model_state_dict'])\n",
        "optimizer.load_state_dict(checkpoint['optimizer_state_dict'])\n",
        "epochs = checkpoint['epoch']\n",
        "\n",
        "model.eval()"
      ],
      "metadata": {
        "id": "QRl7ijdTA7gH"
      },
      "execution_count": null,
      "outputs": []
    },
    {
      "cell_type": "code",
      "source": [
        "class FloorPlan_multipolygon():\n",
        "    def __init__(self, graph, prediction=None):\n",
        "        self.graph       = graph\n",
        "        self.prediction  = prediction\n",
        "\n",
        "    def get_room_data(self, room_index):\n",
        "        \"\"\"\n",
        "        Inputs:\n",
        "            room_index: index of the room in the graph\n",
        "\n",
        "        Outputs:\n",
        "            centroid, w, h of that room.\n",
        "        \"\"\"\n",
        "        # # Using networkX graphs\n",
        "        # Graph_data = list(self.graph.nodes(data=True))[room_index][1]\n",
        "        # w = Graph_data['rec_w']\n",
        "        # h = Graph_data['rec_h']\n",
        "        # centroid = (Graph_data['actualCentroid_x'], Graph_data['actualCentroid_y'])\n",
        "        # category = Graph_data['roomType_embd']\n",
        "\n",
        "        # Using pytorhc Garphs\n",
        "        w = self.graph.rec_w[room_index].item()\n",
        "        h = self.graph.rec_h[room_index].item()\n",
        "        centroid = (self.graph.x[room_index][-2].item(), self.graph.x[room_index][-1].item())\n",
        "        category = torch.argmax(self.graph.x[:, :7][room_index]).item()\n",
        "\n",
        "        if isinstance(self.prediction, tuple): # A  real array of predictions\n",
        "            w_pre, h_pre = self.get_predictions(room_index)\n",
        "\n",
        "        else:\n",
        "            w_pre, h_pre = None, None\n",
        "\n",
        "        data = {\n",
        "            'centroid': centroid,\n",
        "            'real_w': w,\n",
        "            'real_h': h,\n",
        "            'predic_w': w_pre,\n",
        "            'predic_h': h_pre,\n",
        "            'category': category\n",
        "        }\n",
        "        return data\n",
        "\n",
        "    def create_box(self, room_data):\n",
        "        \"\"\"\n",
        "        Inputs:\n",
        "            room_data: a dictionary with centroid, w, h of that room.\n",
        "\n",
        "        Outputs:\n",
        "            box: a shapely box with the same centroid, w, h of that room.\n",
        "        \"\"\"\n",
        "\n",
        "        centroid = room_data['centroid']\n",
        "        # print(centroid)\n",
        "        if isinstance(self.prediction, tuple): # A  real array of predictions\n",
        "            half_w   = room_data['predic_w'] / 2\n",
        "            half_h   = room_data['predic_h'] / 2\n",
        "\n",
        "        else:\n",
        "            half_w   = room_data['real_w'] / 2\n",
        "            half_h   = room_data['real_h'] / 2\n",
        "\n",
        "        # bottom_left  = Point(centroid[0] - half_w, centroid[1] - half_h)\n",
        "        # bottom_right = Point(centroid[0] + half_w, centroid[1] - half_h)\n",
        "        # top_right    = Point(centroid[0] + half_w, centroid[1] + half_h)\n",
        "        # top_left     = Point(centroid[0] - half_w, centroid[1] + half_h)\n",
        "\n",
        "        x1 = centroid[0] - half_w\n",
        "        x2 = centroid[0] + half_w\n",
        "        y1 = centroid[1] - half_h\n",
        "        y2 = centroid[1] + half_h\n",
        "\n",
        "        # print(bottom_left, bottom_right, top_right, top_left)\n",
        "        # box = Polygon([bottom_left, bottom_right, top_right, top_left])\n",
        "        box_poly = box(x1, y1, x2, y2)\n",
        "        return box_poly\n",
        "\n",
        "    def get_multipoly(self, boundary=False, door=False):\n",
        "        \"\"\"\n",
        "        Outputs:\n",
        "            multi_poly: a shapely multipolygon of all the rooms in the floor plan or graph.\n",
        "        \"\"\"\n",
        "        num_of_rooms = self.graph.x.shape[0]\n",
        "        similar_polygons = defaultdict(list)\n",
        "\n",
        "        for index in range(num_of_rooms):\n",
        "            room_data = self.get_room_data(index)\n",
        "            box = self.create_box(room_data)\n",
        "            box = box.intersection(boundary.buffer(-3, cap_style=3, join_style=2))\n",
        "\n",
        "            # add each pox to its similar boxes\n",
        "            room_category = room_data['category']\n",
        "            if room_category != 0:\n",
        "                similar_polygons[room_category].append(box)\n",
        "\n",
        "\n",
        "        all_polygons = []\n",
        "        all_polygons.append(boundary)\n",
        "        similar_polygons_2 = defaultdict(list)\n",
        "        for room_category, polygons in similar_polygons.items():\n",
        "            if room_category in (2, 3): # If bathroom or kitchen.\n",
        "                # combined_polygon = unary_union(polygons)\n",
        "                # all_polygons.append(combined_polygon)\n",
        "                # for poly in polygons:\n",
        "                #     similar_polygons_2[room_category].append(poly)\n",
        "\n",
        "                for bath_or_kitchen in polygons:\n",
        "                    if any(bath_or_kitchen.intersects(room) for room in similar_polygons[1]): # Chcek if the current bathroom or kitchen intersectes with any room\n",
        "                        for i, room in enumerate(similar_polygons[1]):\n",
        "                            if bath_or_kitchen.intersects(room):\n",
        "                                intersection = bath_or_kitchen.intersection(room)\n",
        "                                if intersection.area >= (0.3 * bath_or_kitchen.area):\n",
        "                                    # new_bath_or_kitchen = intersection\n",
        "                                    print('>= 50%')\n",
        "                                    bath_or_kitchen = bath_or_kitchen.intersection(room.buffer(-3, cap_style=3, join_style=2))\n",
        "                                    # bath_or_kitchen   = room.intersection(bath_or_kitchen.buffer(-3, cap_style=3, join_style=3))\n",
        "                                else:\n",
        "                                    print('Not >= 50%')\n",
        "                                    ## If we need to cut from the room\n",
        "                                    # new_room = room.difference(intersection.buffer(50))\n",
        "                                    # similar_polygons[1][i] = new_room\n",
        "\n",
        "                                    ## If we need to cut from the bathroom or kitchen\n",
        "                                    bath_or_kitchen = bath_or_kitchen.difference(intersection.buffer(4))\n",
        "\n",
        "                    similar_polygons_2[room_category].append(bath_or_kitchen)\n",
        "\n",
        "            else: # If rooms\n",
        "                existing_polygons = []\n",
        "                for poly in polygons: # for room in rooms\n",
        "                    # print(f'Current poly: {poly.centroid}')\n",
        "                    if any(poly.intersects(exist) for exist in existing_polygons):\n",
        "                        for exist in existing_polygons:\n",
        "                            if poly.intersects(exist): # If there is an intersection between current poly and the checking polygon.\n",
        "                                # print(f'Intersects with: {exist.centroid}')\n",
        "                                intersection = poly.intersection(exist)\n",
        "                                if exist.area > poly.area:\n",
        "                                    # print('1')\n",
        "                                    difference_polygon = exist.difference(intersection.buffer(4))\n",
        "\n",
        "                                    # We cut from the exist so we will remove the old version and add the new version.\n",
        "                                    similar_polygons_2[room_category].remove(exist)\n",
        "                                    similar_polygons_2[room_category].append(difference_polygon)\n",
        "\n",
        "                                    # Also we add the current polygon.\n",
        "                                    similar_polygons_2[room_category].append(poly)\n",
        "\n",
        "                                    # The same step we didi in similar_polygons_2 we make it here to make the existing_polys the same.\n",
        "                                    existing_polygons.remove(exist)\n",
        "                                    existing_polygons.append(difference_polygon)\n",
        "\n",
        "                                    existing_polygons.append(poly)\n",
        "\n",
        "                                else:\n",
        "                                    # print('2')\n",
        "                                    difference_polygon = poly.difference(intersection.buffer(4))\n",
        "                                    similar_polygons_2[room_category].append(difference_polygon)\n",
        "                                    # existing_polygons.append(difference_polygon)\n",
        "                                    # similar_polygons_2[room_category].append(exist)\n",
        "\n",
        "                    else: # For the first one\n",
        "                        # print('No intersection')\n",
        "                        existing_polygons.append(poly)\n",
        "                        similar_polygons_2[room_category].append(poly)\n",
        "\n",
        "\n",
        "        for _, polygons in similar_polygons_2.items():\n",
        "            all_polygons.append(MultiPolygon(polygons))\n",
        "\n",
        "        if door:\n",
        "            all_polygons.append(door)\n",
        "\n",
        "        compined_polygons_seperated = gpd.GeoSeries(all_polygons)\n",
        "\n",
        "        return compined_polygons_seperated\n",
        "\n",
        "    def get_predictions(self, room_index):\n",
        "        \"\"\"\n",
        "        Inputs:\n",
        "            room_index: index of the room in the graph\n",
        "        outputs:\n",
        "            w_predicted: predicted width for that room\n",
        "            h_predicted: predicted width for that room\n",
        "        \"\"\"\n",
        "        w_predicted = self.prediction[0]\n",
        "        h_predicted = self.prediction[1]\n",
        "\n",
        "        return w_predicted[room_index], h_predicted[room_index]"
      ],
      "metadata": {
        "id": "sJWYU5l_BAJt"
      },
      "execution_count": null,
      "outputs": []
    },
    {
      "cell_type": "code",
      "source": [
        "# rand = np.random.randint(0, 80000)\n",
        "Graph_index = -7\n",
        "print(Graph_index)\n",
        "# Graph and Boundary with normalized x, y\n",
        "G = Graphs_pyTorch[Graph_index]\n",
        "B = Boundaries_pyTorch[Graph_index]\n",
        "\n",
        "# Using the same data types in boundaries as in graphs, must for the model.\n",
        "B.x = B.x.to(G.x.dtype)\n",
        "B.edge_index = B.edge_index.to(G.edge_index.dtype)\n",
        "B.edge_attr = B.edge_attr.to(G.edge_attr.dtype)\n",
        "\n",
        "# Get our predictions\n",
        "predictions = model(G.to(device), B.to(device))\n",
        "\n",
        "\n",
        "# Get back the real x, y of the centroids to put them in their real places.\n",
        "G = Graphs_pyTorch[Graph_index]\n",
        "G.x[:, -2] = G.x[:, -2] * x_g_std + x_g_mean\n",
        "G.x[:, -1] = G.x[:, -1] * y_g_std + y_g_mean\n",
        "\n",
        "B.x[:, -2] = B.x[:, -2] * x_b_std + x_b_mean\n",
        "B.x[:, -1] = B.x[:, -1] * y_b_std + y_b_mean"
      ],
      "metadata": {
        "id": "DeU9oZHPBCSw"
      },
      "execution_count": null,
      "outputs": []
    },
    {
      "cell_type": "code",
      "source": [],
      "metadata": {
        "id": "C9FHuQc3BEGU"
      },
      "execution_count": null,
      "outputs": []
    }
  ]
}